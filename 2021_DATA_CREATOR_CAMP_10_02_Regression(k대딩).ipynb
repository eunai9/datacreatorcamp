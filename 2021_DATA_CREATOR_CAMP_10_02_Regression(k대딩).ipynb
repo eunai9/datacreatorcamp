{
  "nbformat": 4,
  "nbformat_minor": 0,
  "metadata": {
    "colab": {
      "name": "2021 DATA CREATOR CAMP - 10/02 Regression(k대딩)",
      "provenance": [],
      "collapsed_sections": [
        "sNGlytu9Xhma"
      ],
      "include_colab_link": true
    },
    "kernelspec": {
      "display_name": "kdh_dcc",
      "language": "python",
      "name": "kdh_dcc"
    },
    "language_info": {
      "codemirror_mode": {
        "name": "ipython",
        "version": 3
      },
      "file_extension": ".py",
      "mimetype": "text/x-python",
      "name": "python",
      "nbconvert_exporter": "python",
      "pygments_lexer": "ipython3",
      "version": "3.7.10"
    },
    "toc": {
      "base_numbering": 1,
      "nav_menu": {},
      "number_sections": true,
      "sideBar": true,
      "skip_h1_title": false,
      "title_cell": "Table of Contents",
      "title_sidebar": "Contents",
      "toc_cell": false,
      "toc_position": {},
      "toc_section_display": true,
      "toc_window_display": true
    },
    "varInspector": {
      "cols": {
        "lenName": 16,
        "lenType": 16,
        "lenVar": 40
      },
      "kernels_config": {
        "python": {
          "delete_cmd_postfix": "",
          "delete_cmd_prefix": "del ",
          "library": "var_list.py",
          "varRefreshCmd": "print(var_dic_list())"
        },
        "r": {
          "delete_cmd_postfix": ") ",
          "delete_cmd_prefix": "rm(",
          "library": "var_list.r",
          "varRefreshCmd": "cat(var_dic_list()) "
        }
      },
      "types_to_exclude": [
        "module",
        "function",
        "builtin_function_or_method",
        "instance",
        "_Feature"
      ],
      "window_display": false
    }
  },
  "cells": [
    {
      "cell_type": "markdown",
      "metadata": {
        "id": "view-in-github",
        "colab_type": "text"
      },
      "source": [
        "<a href=\"https://colab.research.google.com/github/eunai9/datacreatorcamp/blob/main/2021_DATA_CREATOR_CAMP_10_02_Regression(k%EB%8C%80%EB%94%A9).ipynb\" target=\"_parent\"><img src=\"https://colab.research.google.com/assets/colab-badge.svg\" alt=\"Open In Colab\"/></a>"
      ]
    },
    {
      "cell_type": "markdown",
      "metadata": {
        "id": "8FQC-W4Nxyk2"
      },
      "source": [
        "*시작 전, 상단 메뉴 '파일' > '드라이브에 사본 저장' 을 선택하여 사본을 가지고 작업을 진행해주시기 바랍니다.*  "
      ]
    },
    {
      "cell_type": "markdown",
      "metadata": {
        "id": "M6ON1MxBuWmS"
      },
      "source": [
        "# 문제\n",
        "\n",
        "> **Tom과 Sally는 신혼집을 구하는 중입니다. 그런데 집마다 조건과 가격이 너무 달라, 어떤 집이 좋은지 알기가 어렵습니다. Tom과 Sally가 적당한 조건과 가격의 신혼집을 구할 수 있도록, 머신러닝의 다양한 회귀(Regression) 기법들을 이용하여 집의 조건들을 가지고 가격을 예측하는 모델을 만들어주세요.**"
      ]
    },
    {
      "cell_type": "markdown",
      "metadata": {
        "id": "TDM8ngOcuWmU"
      },
      "source": [
        "# 데이터 및 목표\n",
        "- 훈련 데이터(Train Data): 10525개의 집에 대한 20개의 feature와 target feature인 price\n",
        "- 평가 데이터(Test Data): 4510개의 집에 대한 20개의 feature\n",
        "- 피쳐 설명(Feature): 총 feature는 20개(price 제외) 이며, 예측해야 할 target feature는 **`price`** 입니다.\n",
        "- 목표: Test Data의 price를 예측합니다."
      ]
    },
    {
      "cell_type": "markdown",
      "metadata": {
        "id": "0EVtD30WaH0O"
      },
      "source": [
        "# 평가 지표\n",
        "- 예측값(Prediction) 과 실제값(Ground Truth) 간의 **`RMSE (Root Mean Squared Error)`** 를 사용합니다.\n",
        "![RMSE.jpeg](data:image/jpeg;base64,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)\n",
        "- RMSE는 0 이상의 값을 가지며, 작을수록 높은 성능을 의미합니다."
      ]
    },
    {
      "cell_type": "markdown",
      "metadata": {
        "id": "ZYmFv9snGDGl"
      },
      "source": [
        "# 주의사항\n",
        "- 팀별 submission 제출 가능 최대횟수는 **20번**입니다.\n",
        "- 대회 종료 시각인 **PM 4:20** 까지만 제출이 가능합니다.\n",
        "- submission 제출은 **각 팀별로 한 ID로만** 해주세요."
      ]
    },
    {
      "cell_type": "markdown",
      "metadata": {
        "id": "2OezUYE5uWmU"
      },
      "source": [
        "# EDA & Data Preprocessing"
      ]
    },
    {
      "cell_type": "markdown",
      "metadata": {
        "id": "7SPUB0xUuWmV"
      },
      "source": [
        "## Data fields\n",
        "- `date` : 집을 구매한 날짜\n",
        "- `price` : 집의 가격 (Target Feature)\n",
        "- `bedrooms` : 침실의 수\n",
        "- `bathrooms` : 화장실의 수\n",
        "- `sqft_living` : 주거 공간의 평방 피트 (면적)\n",
        "- `sqft_lot` : 부지의 평방 피트 (면적)\n",
        "- `floors` : 집의 층 수\n",
        "- `waterfront` : 집의 전방에 강이 흐르는지 유무 (a.k.a. 리버뷰)\n",
        "- `view` : 집이 얼마나 좋아 보이는지의 정도\n",
        "- `condition` : 집의 전반적인 상태\n",
        "- `grade` : 특정 시스템 기준으로 매긴 집의 등급\n",
        "- `sqft_above` : 지하실을 제외한 평방 피트 (면적)\n",
        "- `sqft_basement` : 지하실의 평방 피트 (면적)\n",
        "- `yr_built` : 지어진 년도\n",
        "- `yr_renovated` : 집을 재건축한 년도\n",
        "- `zipcode` : 우편번호\n",
        "- `lat` : 위도\n",
        "- `long` : 경도\n",
        "- `sqft_living15` : 2015년 기준 주거 공간의 평방 피트 (면적, 집을 재건축했다면, 변화가 있을 수 있음)\n",
        "- `sqft_lot15` : 2015년 기준 부지의 평방 피트 (면적, 집을 재건축했다면, 변화가 있을 수 있음)"
      ]
    },
    {
      "cell_type": "code",
      "metadata": {
        "id": "LWcY8XZNuWmV"
      },
      "source": [
        "import pandas as pd\n",
        "import matplotlib.pyplot as plt\n",
        "from matplotlib import rc\n",
        "import numpy as np\n",
        "import seaborn as sns\n",
        "%matplotlib inline\n",
        "\n",
        "import missingno as msno\n",
        "from pandas.plotting import scatter_matrix\n",
        "import math\n",
        "from sklearn import preprocessing\n",
        "from sklearn.linear_model import LinearRegression\n",
        "\n",
        "plt.style.use('ggplot')\n",
        "plt.rcParams['figure.figsize'] = (12, 8)\n",
        "plt.rcParams['font.size'] = 10\n",
        "# plt.rc('font', family='AppleGothic')\n",
        "plt.rc('axes', unicode_minus=False)\n",
        "pd.set_option(\"display.max_columns\", 30)"
      ],
      "execution_count": null,
      "outputs": []
    },
    {
      "cell_type": "markdown",
      "metadata": {
        "id": "20b3591f"
      },
      "source": [
        "# 구글 드라이브 마운트"
      ]
    },
    {
      "cell_type": "code",
      "metadata": {
        "colab": {
          "base_uri": "https://localhost:8080/"
        },
        "id": "e42033a8",
        "outputId": "9b1e694e-a7f0-4472-df72-f210b28e7fbb"
      },
      "source": [
        "# Google drive mount \n",
        "# link 들어가셔서 코드를 받은 뒤 'Enter verification code'에 입력하시면 됩니다.\n",
        "from google.colab import drive\n",
        "drive.mount('/content/drive')"
      ],
      "execution_count": null,
      "outputs": [
        {
          "name": "stdout",
          "output_type": "stream",
          "text": [
            "Drive already mounted at /content/drive; to attempt to forcibly remount, call drive.mount(\"/content/drive\", force_remount=True).\n"
          ]
        }
      ]
    },
    {
      "cell_type": "code",
      "metadata": {
        "id": "780e6331"
      },
      "source": [
        "# 폴더 이동\n",
        "import os\n",
        "PATH = '/content/drive/MyDrive/Colab Notebooks/2021_data_creator_camp/data'  # 데이터와 ipynb파일이 있는 위치를 적으세요.\n",
        "os.chdir(PATH)"
      ],
      "execution_count": null,
      "outputs": []
    },
    {
      "cell_type": "markdown",
      "metadata": {
        "id": "i_jXT_EkuWmW"
      },
      "source": [
        "## 데이터 불러오기"
      ]
    },
    {
      "cell_type": "markdown",
      "metadata": {
        "id": "GKXq3jWqcrGp"
      },
      "source": [
        "참고) id는 각 집의 고유번호입니다. 출제자가 랜덤으로 부여한 값이므로 집의 특성과 관련이 없습니다."
      ]
    },
    {
      "cell_type": "code",
      "metadata": {
        "colab": {
          "base_uri": "https://localhost:8080/",
          "height": 215
        },
        "id": "L-vjqV4cuWmW",
        "outputId": "dba19a7b-6bb7-4599-bc86-b20877d2ef97"
      },
      "source": [
        "train = pd.read_csv('train.csv')\n",
        "train.head()"
      ],
      "execution_count": null,
      "outputs": [
        {
          "data": {
            "text/html": [
              "<div>\n",
              "<style scoped>\n",
              "    .dataframe tbody tr th:only-of-type {\n",
              "        vertical-align: middle;\n",
              "    }\n",
              "\n",
              "    .dataframe tbody tr th {\n",
              "        vertical-align: top;\n",
              "    }\n",
              "\n",
              "    .dataframe thead th {\n",
              "        text-align: right;\n",
              "    }\n",
              "</style>\n",
              "<table border=\"1\" class=\"dataframe\">\n",
              "  <thead>\n",
              "    <tr style=\"text-align: right;\">\n",
              "      <th></th>\n",
              "      <th>id</th>\n",
              "      <th>date</th>\n",
              "      <th>price</th>\n",
              "      <th>bedrooms</th>\n",
              "      <th>bathrooms</th>\n",
              "      <th>sqft_living</th>\n",
              "      <th>sqft_lot</th>\n",
              "      <th>floors</th>\n",
              "      <th>waterfront</th>\n",
              "      <th>view</th>\n",
              "      <th>condition</th>\n",
              "      <th>grade</th>\n",
              "      <th>sqft_above</th>\n",
              "      <th>sqft_basement</th>\n",
              "      <th>yr_built</th>\n",
              "      <th>yr_renovated</th>\n",
              "      <th>zipcode</th>\n",
              "      <th>lat</th>\n",
              "      <th>long</th>\n",
              "      <th>sqft_living15</th>\n",
              "      <th>sqft_lot15</th>\n",
              "    </tr>\n",
              "  </thead>\n",
              "  <tbody>\n",
              "    <tr>\n",
              "      <th>0</th>\n",
              "      <td>0</td>\n",
              "      <td>20150205T000000</td>\n",
              "      <td>539950.0</td>\n",
              "      <td>2</td>\n",
              "      <td>2.00</td>\n",
              "      <td>1670</td>\n",
              "      <td>3507</td>\n",
              "      <td>1.0</td>\n",
              "      <td>0</td>\n",
              "      <td>0</td>\n",
              "      <td>3</td>\n",
              "      <td>9</td>\n",
              "      <td>1670</td>\n",
              "      <td>0</td>\n",
              "      <td>2007</td>\n",
              "      <td>0</td>\n",
              "      <td>98029</td>\n",
              "      <td>47.5545</td>\n",
              "      <td>-122.003</td>\n",
              "      <td>2330</td>\n",
              "      <td>3889</td>\n",
              "    </tr>\n",
              "    <tr>\n",
              "      <th>1</th>\n",
              "      <td>1</td>\n",
              "      <td>20141124T000000</td>\n",
              "      <td>430000.0</td>\n",
              "      <td>3</td>\n",
              "      <td>2.25</td>\n",
              "      <td>2020</td>\n",
              "      <td>2750</td>\n",
              "      <td>2.0</td>\n",
              "      <td>0</td>\n",
              "      <td>0</td>\n",
              "      <td>3</td>\n",
              "      <td>8</td>\n",
              "      <td>1680</td>\n",
              "      <td>340</td>\n",
              "      <td>2008</td>\n",
              "      <td>0</td>\n",
              "      <td>98108</td>\n",
              "      <td>47.5633</td>\n",
              "      <td>-122.297</td>\n",
              "      <td>1720</td>\n",
              "      <td>1546</td>\n",
              "    </tr>\n",
              "    <tr>\n",
              "      <th>2</th>\n",
              "      <td>2</td>\n",
              "      <td>20150108T000000</td>\n",
              "      <td>760000.0</td>\n",
              "      <td>4</td>\n",
              "      <td>3.50</td>\n",
              "      <td>3000</td>\n",
              "      <td>5300</td>\n",
              "      <td>1.0</td>\n",
              "      <td>0</td>\n",
              "      <td>0</td>\n",
              "      <td>5</td>\n",
              "      <td>7</td>\n",
              "      <td>1780</td>\n",
              "      <td>1220</td>\n",
              "      <td>1949</td>\n",
              "      <td>0</td>\n",
              "      <td>98115</td>\n",
              "      <td>47.6748</td>\n",
              "      <td>-122.279</td>\n",
              "      <td>1360</td>\n",
              "      <td>5450</td>\n",
              "    </tr>\n",
              "    <tr>\n",
              "      <th>3</th>\n",
              "      <td>3</td>\n",
              "      <td>20141119T000000</td>\n",
              "      <td>355000.0</td>\n",
              "      <td>3</td>\n",
              "      <td>2.50</td>\n",
              "      <td>1810</td>\n",
              "      <td>3192</td>\n",
              "      <td>1.0</td>\n",
              "      <td>0</td>\n",
              "      <td>0</td>\n",
              "      <td>3</td>\n",
              "      <td>7</td>\n",
              "      <td>1070</td>\n",
              "      <td>740</td>\n",
              "      <td>2001</td>\n",
              "      <td>0</td>\n",
              "      <td>98019</td>\n",
              "      <td>47.7364</td>\n",
              "      <td>-121.969</td>\n",
              "      <td>1740</td>\n",
              "      <td>3720</td>\n",
              "    </tr>\n",
              "    <tr>\n",
              "      <th>4</th>\n",
              "      <td>4</td>\n",
              "      <td>20150407T000000</td>\n",
              "      <td>705000.0</td>\n",
              "      <td>4</td>\n",
              "      <td>3.25</td>\n",
              "      <td>2740</td>\n",
              "      <td>5339</td>\n",
              "      <td>2.5</td>\n",
              "      <td>0</td>\n",
              "      <td>0</td>\n",
              "      <td>3</td>\n",
              "      <td>9</td>\n",
              "      <td>2740</td>\n",
              "      <td>0</td>\n",
              "      <td>2004</td>\n",
              "      <td>0</td>\n",
              "      <td>98103</td>\n",
              "      <td>47.6706</td>\n",
              "      <td>-122.356</td>\n",
              "      <td>1770</td>\n",
              "      <td>4820</td>\n",
              "    </tr>\n",
              "  </tbody>\n",
              "</table>\n",
              "</div>"
            ],
            "text/plain": [
              "   id             date     price  bedrooms  bathrooms  sqft_living  sqft_lot  \\\n",
              "0   0  20150205T000000  539950.0         2       2.00         1670      3507   \n",
              "1   1  20141124T000000  430000.0         3       2.25         2020      2750   \n",
              "2   2  20150108T000000  760000.0         4       3.50         3000      5300   \n",
              "3   3  20141119T000000  355000.0         3       2.50         1810      3192   \n",
              "4   4  20150407T000000  705000.0         4       3.25         2740      5339   \n",
              "\n",
              "   floors  waterfront  view  condition  grade  sqft_above  sqft_basement  \\\n",
              "0     1.0           0     0          3      9        1670              0   \n",
              "1     2.0           0     0          3      8        1680            340   \n",
              "2     1.0           0     0          5      7        1780           1220   \n",
              "3     1.0           0     0          3      7        1070            740   \n",
              "4     2.5           0     0          3      9        2740              0   \n",
              "\n",
              "   yr_built  yr_renovated  zipcode      lat     long  sqft_living15  \\\n",
              "0      2007             0    98029  47.5545 -122.003           2330   \n",
              "1      2008             0    98108  47.5633 -122.297           1720   \n",
              "2      1949             0    98115  47.6748 -122.279           1360   \n",
              "3      2001             0    98019  47.7364 -121.969           1740   \n",
              "4      2004             0    98103  47.6706 -122.356           1770   \n",
              "\n",
              "   sqft_lot15  \n",
              "0        3889  \n",
              "1        1546  \n",
              "2        5450  \n",
              "3        3720  \n",
              "4        4820  "
            ]
          },
          "execution_count": 4,
          "metadata": {},
          "output_type": "execute_result"
        }
      ]
    },
    {
      "cell_type": "code",
      "metadata": {
        "colab": {
          "base_uri": "https://localhost:8080/",
          "height": 215
        },
        "id": "BagoeoTduWmX",
        "outputId": "d059c9c5-f8db-4288-90d0-a007fdc75036"
      },
      "source": [
        "test = pd.read_csv('test.csv')\n",
        "test.head()"
      ],
      "execution_count": null,
      "outputs": [
        {
          "data": {
            "text/html": [
              "<div>\n",
              "<style scoped>\n",
              "    .dataframe tbody tr th:only-of-type {\n",
              "        vertical-align: middle;\n",
              "    }\n",
              "\n",
              "    .dataframe tbody tr th {\n",
              "        vertical-align: top;\n",
              "    }\n",
              "\n",
              "    .dataframe thead th {\n",
              "        text-align: right;\n",
              "    }\n",
              "</style>\n",
              "<table border=\"1\" class=\"dataframe\">\n",
              "  <thead>\n",
              "    <tr style=\"text-align: right;\">\n",
              "      <th></th>\n",
              "      <th>id</th>\n",
              "      <th>date</th>\n",
              "      <th>bedrooms</th>\n",
              "      <th>bathrooms</th>\n",
              "      <th>sqft_living</th>\n",
              "      <th>sqft_lot</th>\n",
              "      <th>floors</th>\n",
              "      <th>waterfront</th>\n",
              "      <th>view</th>\n",
              "      <th>condition</th>\n",
              "      <th>grade</th>\n",
              "      <th>sqft_above</th>\n",
              "      <th>sqft_basement</th>\n",
              "      <th>yr_built</th>\n",
              "      <th>yr_renovated</th>\n",
              "      <th>zipcode</th>\n",
              "      <th>lat</th>\n",
              "      <th>long</th>\n",
              "      <th>sqft_living15</th>\n",
              "      <th>sqft_lot15</th>\n",
              "    </tr>\n",
              "  </thead>\n",
              "  <tbody>\n",
              "    <tr>\n",
              "      <th>0</th>\n",
              "      <td>10525</td>\n",
              "      <td>20150406T000000</td>\n",
              "      <td>4</td>\n",
              "      <td>2.50</td>\n",
              "      <td>2420</td>\n",
              "      <td>18470</td>\n",
              "      <td>1.0</td>\n",
              "      <td>0</td>\n",
              "      <td>0</td>\n",
              "      <td>3</td>\n",
              "      <td>8</td>\n",
              "      <td>920</td>\n",
              "      <td>1500</td>\n",
              "      <td>1968</td>\n",
              "      <td>0</td>\n",
              "      <td>98005</td>\n",
              "      <td>47.6001</td>\n",
              "      <td>-122.176</td>\n",
              "      <td>2690</td>\n",
              "      <td>13800</td>\n",
              "    </tr>\n",
              "    <tr>\n",
              "      <th>1</th>\n",
              "      <td>10526</td>\n",
              "      <td>20141202T000000</td>\n",
              "      <td>2</td>\n",
              "      <td>1.00</td>\n",
              "      <td>950</td>\n",
              "      <td>4560</td>\n",
              "      <td>1.5</td>\n",
              "      <td>0</td>\n",
              "      <td>0</td>\n",
              "      <td>3</td>\n",
              "      <td>7</td>\n",
              "      <td>950</td>\n",
              "      <td>0</td>\n",
              "      <td>1925</td>\n",
              "      <td>0</td>\n",
              "      <td>98112</td>\n",
              "      <td>47.6288</td>\n",
              "      <td>-122.300</td>\n",
              "      <td>2040</td>\n",
              "      <td>4560</td>\n",
              "    </tr>\n",
              "    <tr>\n",
              "      <th>2</th>\n",
              "      <td>10527</td>\n",
              "      <td>20140702T000000</td>\n",
              "      <td>5</td>\n",
              "      <td>2.25</td>\n",
              "      <td>2570</td>\n",
              "      <td>13054</td>\n",
              "      <td>1.0</td>\n",
              "      <td>0</td>\n",
              "      <td>1</td>\n",
              "      <td>3</td>\n",
              "      <td>8</td>\n",
              "      <td>1470</td>\n",
              "      <td>1100</td>\n",
              "      <td>1950</td>\n",
              "      <td>1992</td>\n",
              "      <td>98166</td>\n",
              "      <td>47.4487</td>\n",
              "      <td>-122.352</td>\n",
              "      <td>2570</td>\n",
              "      <td>19807</td>\n",
              "    </tr>\n",
              "    <tr>\n",
              "      <th>3</th>\n",
              "      <td>10528</td>\n",
              "      <td>20150428T000000</td>\n",
              "      <td>1</td>\n",
              "      <td>1.00</td>\n",
              "      <td>620</td>\n",
              "      <td>8685</td>\n",
              "      <td>1.0</td>\n",
              "      <td>0</td>\n",
              "      <td>0</td>\n",
              "      <td>4</td>\n",
              "      <td>5</td>\n",
              "      <td>620</td>\n",
              "      <td>0</td>\n",
              "      <td>1976</td>\n",
              "      <td>0</td>\n",
              "      <td>98198</td>\n",
              "      <td>47.4095</td>\n",
              "      <td>-122.290</td>\n",
              "      <td>1300</td>\n",
              "      <td>12150</td>\n",
              "    </tr>\n",
              "    <tr>\n",
              "      <th>4</th>\n",
              "      <td>10529</td>\n",
              "      <td>20140819T000000</td>\n",
              "      <td>4</td>\n",
              "      <td>2.50</td>\n",
              "      <td>2650</td>\n",
              "      <td>6240</td>\n",
              "      <td>2.0</td>\n",
              "      <td>0</td>\n",
              "      <td>0</td>\n",
              "      <td>3</td>\n",
              "      <td>8</td>\n",
              "      <td>2650</td>\n",
              "      <td>0</td>\n",
              "      <td>2013</td>\n",
              "      <td>0</td>\n",
              "      <td>98053</td>\n",
              "      <td>47.6885</td>\n",
              "      <td>-122.021</td>\n",
              "      <td>2640</td>\n",
              "      <td>6524</td>\n",
              "    </tr>\n",
              "  </tbody>\n",
              "</table>\n",
              "</div>"
            ],
            "text/plain": [
              "      id             date  bedrooms  bathrooms  sqft_living  sqft_lot  floors  \\\n",
              "0  10525  20150406T000000         4       2.50         2420     18470     1.0   \n",
              "1  10526  20141202T000000         2       1.00          950      4560     1.5   \n",
              "2  10527  20140702T000000         5       2.25         2570     13054     1.0   \n",
              "3  10528  20150428T000000         1       1.00          620      8685     1.0   \n",
              "4  10529  20140819T000000         4       2.50         2650      6240     2.0   \n",
              "\n",
              "   waterfront  view  condition  grade  sqft_above  sqft_basement  yr_built  \\\n",
              "0           0     0          3      8         920           1500      1968   \n",
              "1           0     0          3      7         950              0      1925   \n",
              "2           0     1          3      8        1470           1100      1950   \n",
              "3           0     0          4      5         620              0      1976   \n",
              "4           0     0          3      8        2650              0      2013   \n",
              "\n",
              "   yr_renovated  zipcode      lat     long  sqft_living15  sqft_lot15  \n",
              "0             0    98005  47.6001 -122.176           2690       13800  \n",
              "1             0    98112  47.6288 -122.300           2040        4560  \n",
              "2          1992    98166  47.4487 -122.352           2570       19807  \n",
              "3             0    98198  47.4095 -122.290           1300       12150  \n",
              "4             0    98053  47.6885 -122.021           2640        6524  "
            ]
          },
          "execution_count": 5,
          "metadata": {},
          "output_type": "execute_result"
        }
      ]
    },
    {
      "cell_type": "code",
      "metadata": {
        "colab": {
          "base_uri": "https://localhost:8080/"
        },
        "id": "atYWJzWSuWmY",
        "outputId": "5b0413bb-dd84-430d-eed0-8e2c43c191e2"
      },
      "source": [
        "print('train shape: {}\\ntest shape: {}'.format(train.shape, test.shape))"
      ],
      "execution_count": null,
      "outputs": [
        {
          "name": "stdout",
          "output_type": "stream",
          "text": [
            "train shape: (10525, 21)\n",
            "test shape: (4510, 20)\n"
          ]
        }
      ]
    },
    {
      "cell_type": "markdown",
      "metadata": {
        "id": "ND6Xus43t4Px"
      },
      "source": [
        "train set은 (10525행, 21열) 로,  \n",
        "test set은 (4510행, 20열) 로 이루어져 있습니다.  \n",
        "로드된 데이터의 shape이 이와 다르다면 잘못 로드된 것이니 다시 로드해보세요."
      ]
    },
    {
      "cell_type": "code",
      "metadata": {
        "colab": {
          "base_uri": "https://localhost:8080/"
        },
        "id": "NnVV3aG9uWmY",
        "outputId": "b2c95931-1e7d-43eb-c0de-dce6cacbeba4"
      },
      "source": [
        "train.columns"
      ],
      "execution_count": null,
      "outputs": [
        {
          "data": {
            "text/plain": [
              "Index(['id', 'date', 'price', 'bedrooms', 'bathrooms', 'sqft_living',\n",
              "       'sqft_lot', 'floors', 'waterfront', 'view', 'condition', 'grade',\n",
              "       'sqft_above', 'sqft_basement', 'yr_built', 'yr_renovated', 'zipcode',\n",
              "       'lat', 'long', 'sqft_living15', 'sqft_lot15'],\n",
              "      dtype='object')"
            ]
          },
          "execution_count": 7,
          "metadata": {},
          "output_type": "execute_result"
        }
      ]
    },
    {
      "cell_type": "markdown",
      "metadata": {
        "id": "Ng5Y9QoXuWmY"
      },
      "source": [
        "## 결측치 확인"
      ]
    },
    {
      "cell_type": "code",
      "metadata": {
        "colab": {
          "base_uri": "https://localhost:8080/"
        },
        "id": "fyxAjO8OuWmY",
        "outputId": "8f3dda3e-5e57-4a52-8596-232f0df0333c"
      },
      "source": [
        "msno.matrix(train, figsize=(12,6))"
      ],
      "execution_count": null,
      "outputs": [
        {
          "data": {
            "text/plain": [
              "<matplotlib.axes._subplots.AxesSubplot at 0x7f1be5d17910>"
            ]
          },
          "execution_count": 8,
          "metadata": {},
          "output_type": "execute_result"
        },
        {
          "data": {
            "image/png": "[encoded data removed]",
            "text/plain": [
              "<Figure size 864x432 with 2 Axes>"
            ]
          },
          "metadata": {},
          "output_type": "display_data"
        }
      ]
    },
    {
      "cell_type": "markdown",
      "metadata": {
        "id": "5wrIqZy9uWmZ"
      },
      "source": [
        "- 모든 변수에 결측치가 존재하지 않습니다."
      ]
    },
    {
      "cell_type": "markdown",
      "metadata": {
        "id": "4HwLqM7LuWmZ"
      },
      "source": [
        "## 전체적인 데이터 둘러보기"
      ]
    },
    {
      "cell_type": "code",
      "metadata": {
        "colab": {
          "base_uri": "https://localhost:8080/"
        },
        "id": "KS04JqFCuWmZ",
        "outputId": "4e14bc7a-01e2-4c6d-f841-9d33b52a2d02"
      },
      "source": [
        "train.info()"
      ],
      "execution_count": null,
      "outputs": [
        {
          "name": "stdout",
          "output_type": "stream",
          "text": [
            "<class 'pandas.core.frame.DataFrame'>\n",
            "RangeIndex: 10525 entries, 0 to 10524\n",
            "Data columns (total 21 columns):\n",
            " #   Column         Non-Null Count  Dtype  \n",
            "---  ------         --------------  -----  \n",
            " 0   id             10525 non-null  int64  \n",
            " 1   date           10525 non-null  object \n",
            " 2   price          10525 non-null  float64\n",
            " 3   bedrooms       10525 non-null  int64  \n",
            " 4   bathrooms      10525 non-null  float64\n",
            " 5   sqft_living    10525 non-null  int64  \n",
            " 6   sqft_lot       10525 non-null  int64  \n",
            " 7   floors         10525 non-null  float64\n",
            " 8   waterfront     10525 non-null  int64  \n",
            " 9   view           10525 non-null  int64  \n",
            " 10  condition      10525 non-null  int64  \n",
            " 11  grade          10525 non-null  int64  \n",
            " 12  sqft_above     10525 non-null  int64  \n",
            " 13  sqft_basement  10525 non-null  int64  \n",
            " 14  yr_built       10525 non-null  int64  \n",
            " 15  yr_renovated   10525 non-null  int64  \n",
            " 16  zipcode        10525 non-null  int64  \n",
            " 17  lat            10525 non-null  float64\n",
            " 18  long           10525 non-null  float64\n",
            " 19  sqft_living15  10525 non-null  int64  \n",
            " 20  sqft_lot15     10525 non-null  int64  \n",
            "dtypes: float64(5), int64(15), object(1)\n",
            "memory usage: 1.7+ MB\n"
          ]
        }
      ]
    },
    {
      "cell_type": "code",
      "metadata": {
        "colab": {
          "base_uri": "https://localhost:8080/"
        },
        "id": "MIILLDiGuWmZ",
        "outputId": "e83958c9-b0e2-4288-b8b3-526e792c8a85"
      },
      "source": [
        "train.describe()"
      ],
      "execution_count": null,
      "outputs": [
        {
          "data": {
            "text/html": [
              "<div>\n",
              "<style scoped>\n",
              "    .dataframe tbody tr th:only-of-type {\n",
              "        vertical-align: middle;\n",
              "    }\n",
              "\n",
              "    .dataframe tbody tr th {\n",
              "        vertical-align: top;\n",
              "    }\n",
              "\n",
              "    .dataframe thead th {\n",
              "        text-align: right;\n",
              "    }\n",
              "</style>\n",
              "<table border=\"1\" class=\"dataframe\">\n",
              "  <thead>\n",
              "    <tr style=\"text-align: right;\">\n",
              "      <th></th>\n",
              "      <th>id</th>\n",
              "      <th>price</th>\n",
              "      <th>bedrooms</th>\n",
              "      <th>bathrooms</th>\n",
              "      <th>sqft_living</th>\n",
              "      <th>sqft_lot</th>\n",
              "      <th>floors</th>\n",
              "      <th>waterfront</th>\n",
              "      <th>view</th>\n",
              "      <th>condition</th>\n",
              "      <th>grade</th>\n",
              "      <th>sqft_above</th>\n",
              "      <th>sqft_basement</th>\n",
              "      <th>yr_built</th>\n",
              "      <th>yr_renovated</th>\n",
              "      <th>zipcode</th>\n",
              "      <th>lat</th>\n",
              "      <th>long</th>\n",
              "      <th>sqft_living15</th>\n",
              "      <th>sqft_lot15</th>\n",
              "    </tr>\n",
              "  </thead>\n",
              "  <tbody>\n",
              "    <tr>\n",
              "      <th>count</th>\n",
              "      <td>10525.000000</td>\n",
              "      <td>1.052500e+04</td>\n",
              "      <td>10525.000000</td>\n",
              "      <td>10525.000000</td>\n",
              "      <td>10525.000000</td>\n",
              "      <td>1.052500e+04</td>\n",
              "      <td>10525.000000</td>\n",
              "      <td>10525.000000</td>\n",
              "      <td>10525.000000</td>\n",
              "      <td>10525.000000</td>\n",
              "      <td>10525.000000</td>\n",
              "      <td>10525.000000</td>\n",
              "      <td>10525.000000</td>\n",
              "      <td>10525.000000</td>\n",
              "      <td>10525.000000</td>\n",
              "      <td>10525.000000</td>\n",
              "      <td>10525.000000</td>\n",
              "      <td>10525.000000</td>\n",
              "      <td>10525.000000</td>\n",
              "      <td>10525.000000</td>\n",
              "    </tr>\n",
              "    <tr>\n",
              "      <th>mean</th>\n",
              "      <td>5262.000000</td>\n",
              "      <td>5.380466e+05</td>\n",
              "      <td>3.366366</td>\n",
              "      <td>2.106366</td>\n",
              "      <td>2073.974252</td>\n",
              "      <td>1.544489e+04</td>\n",
              "      <td>1.493112</td>\n",
              "      <td>0.006936</td>\n",
              "      <td>0.227363</td>\n",
              "      <td>3.406271</td>\n",
              "      <td>7.650546</td>\n",
              "      <td>1787.454537</td>\n",
              "      <td>286.519715</td>\n",
              "      <td>1970.919240</td>\n",
              "      <td>86.511544</td>\n",
              "      <td>98078.058052</td>\n",
              "      <td>47.562216</td>\n",
              "      <td>-122.213079</td>\n",
              "      <td>1986.849121</td>\n",
              "      <td>12836.911734</td>\n",
              "    </tr>\n",
              "    <tr>\n",
              "      <th>std</th>\n",
              "      <td>3038.450126</td>\n",
              "      <td>3.598138e+05</td>\n",
              "      <td>0.898249</td>\n",
              "      <td>0.764644</td>\n",
              "      <td>903.692598</td>\n",
              "      <td>4.470121e+04</td>\n",
              "      <td>0.537217</td>\n",
              "      <td>0.082996</td>\n",
              "      <td>0.754747</td>\n",
              "      <td>0.644008</td>\n",
              "      <td>1.168147</td>\n",
              "      <td>821.594426</td>\n",
              "      <td>434.731368</td>\n",
              "      <td>29.435286</td>\n",
              "      <td>406.553777</td>\n",
              "      <td>53.437415</td>\n",
              "      <td>0.138280</td>\n",
              "      <td>0.141896</td>\n",
              "      <td>687.272667</td>\n",
              "      <td>27756.532496</td>\n",
              "    </tr>\n",
              "    <tr>\n",
              "      <th>min</th>\n",
              "      <td>0.000000</td>\n",
              "      <td>8.300000e+04</td>\n",
              "      <td>0.000000</td>\n",
              "      <td>0.000000</td>\n",
              "      <td>380.000000</td>\n",
              "      <td>5.720000e+02</td>\n",
              "      <td>1.000000</td>\n",
              "      <td>0.000000</td>\n",
              "      <td>0.000000</td>\n",
              "      <td>1.000000</td>\n",
              "      <td>4.000000</td>\n",
              "      <td>380.000000</td>\n",
              "      <td>0.000000</td>\n",
              "      <td>1900.000000</td>\n",
              "      <td>0.000000</td>\n",
              "      <td>98001.000000</td>\n",
              "      <td>47.155900</td>\n",
              "      <td>-122.515000</td>\n",
              "      <td>399.000000</td>\n",
              "      <td>659.000000</td>\n",
              "    </tr>\n",
              "    <tr>\n",
              "      <th>25%</th>\n",
              "      <td>2631.000000</td>\n",
              "      <td>3.220000e+05</td>\n",
              "      <td>3.000000</td>\n",
              "      <td>1.500000</td>\n",
              "      <td>1430.000000</td>\n",
              "      <td>5.029000e+03</td>\n",
              "      <td>1.000000</td>\n",
              "      <td>0.000000</td>\n",
              "      <td>0.000000</td>\n",
              "      <td>3.000000</td>\n",
              "      <td>7.000000</td>\n",
              "      <td>1200.000000</td>\n",
              "      <td>0.000000</td>\n",
              "      <td>1951.000000</td>\n",
              "      <td>0.000000</td>\n",
              "      <td>98033.000000</td>\n",
              "      <td>47.474900</td>\n",
              "      <td>-122.328000</td>\n",
              "      <td>1490.000000</td>\n",
              "      <td>5100.000000</td>\n",
              "    </tr>\n",
              "    <tr>\n",
              "      <th>50%</th>\n",
              "      <td>5262.000000</td>\n",
              "      <td>4.500000e+05</td>\n",
              "      <td>3.000000</td>\n",
              "      <td>2.250000</td>\n",
              "      <td>1900.000000</td>\n",
              "      <td>7.622000e+03</td>\n",
              "      <td>1.500000</td>\n",
              "      <td>0.000000</td>\n",
              "      <td>0.000000</td>\n",
              "      <td>3.000000</td>\n",
              "      <td>7.000000</td>\n",
              "      <td>1560.000000</td>\n",
              "      <td>0.000000</td>\n",
              "      <td>1975.000000</td>\n",
              "      <td>0.000000</td>\n",
              "      <td>98065.000000</td>\n",
              "      <td>47.573600</td>\n",
              "      <td>-122.231000</td>\n",
              "      <td>1840.000000</td>\n",
              "      <td>7620.000000</td>\n",
              "    </tr>\n",
              "    <tr>\n",
              "      <th>75%</th>\n",
              "      <td>7893.000000</td>\n",
              "      <td>6.450000e+05</td>\n",
              "      <td>4.000000</td>\n",
              "      <td>2.500000</td>\n",
              "      <td>2550.000000</td>\n",
              "      <td>1.063900e+04</td>\n",
              "      <td>2.000000</td>\n",
              "      <td>0.000000</td>\n",
              "      <td>0.000000</td>\n",
              "      <td>4.000000</td>\n",
              "      <td>8.000000</td>\n",
              "      <td>2210.000000</td>\n",
              "      <td>550.000000</td>\n",
              "      <td>1997.000000</td>\n",
              "      <td>0.000000</td>\n",
              "      <td>98117.000000</td>\n",
              "      <td>47.680000</td>\n",
              "      <td>-122.126000</td>\n",
              "      <td>2350.000000</td>\n",
              "      <td>10083.000000</td>\n",
              "    </tr>\n",
              "    <tr>\n",
              "      <th>max</th>\n",
              "      <td>10524.000000</td>\n",
              "      <td>7.700000e+06</td>\n",
              "      <td>10.000000</td>\n",
              "      <td>8.000000</td>\n",
              "      <td>12050.000000</td>\n",
              "      <td>1.651359e+06</td>\n",
              "      <td>3.500000</td>\n",
              "      <td>1.000000</td>\n",
              "      <td>4.000000</td>\n",
              "      <td>5.000000</td>\n",
              "      <td>13.000000</td>\n",
              "      <td>8570.000000</td>\n",
              "      <td>3480.000000</td>\n",
              "      <td>2015.000000</td>\n",
              "      <td>2015.000000</td>\n",
              "      <td>98199.000000</td>\n",
              "      <td>47.777600</td>\n",
              "      <td>-121.315000</td>\n",
              "      <td>6210.000000</td>\n",
              "      <td>858132.000000</td>\n",
              "    </tr>\n",
              "  </tbody>\n",
              "</table>\n",
              "</div>"
            ],
            "text/plain": [
              "                 id         price      bedrooms     bathrooms   sqft_living  \\\n",
              "count  10525.000000  1.052500e+04  10525.000000  10525.000000  10525.000000   \n",
              "mean    5262.000000  5.380466e+05      3.366366      2.106366   2073.974252   \n",
              "std     3038.450126  3.598138e+05      0.898249      0.764644    903.692598   \n",
              "min        0.000000  8.300000e+04      0.000000      0.000000    380.000000   \n",
              "25%     2631.000000  3.220000e+05      3.000000      1.500000   1430.000000   \n",
              "50%     5262.000000  4.500000e+05      3.000000      2.250000   1900.000000   \n",
              "75%     7893.000000  6.450000e+05      4.000000      2.500000   2550.000000   \n",
              "max    10524.000000  7.700000e+06     10.000000      8.000000  12050.000000   \n",
              "\n",
              "           sqft_lot        floors    waterfront          view     condition  \\\n",
              "count  1.052500e+04  10525.000000  10525.000000  10525.000000  10525.000000   \n",
              "mean   1.544489e+04      1.493112      0.006936      0.227363      3.406271   \n",
              "std    4.470121e+04      0.537217      0.082996      0.754747      0.644008   \n",
              "min    5.720000e+02      1.000000      0.000000      0.000000      1.000000   \n",
              "25%    5.029000e+03      1.000000      0.000000      0.000000      3.000000   \n",
              "50%    7.622000e+03      1.500000      0.000000      0.000000      3.000000   \n",
              "75%    1.063900e+04      2.000000      0.000000      0.000000      4.000000   \n",
              "max    1.651359e+06      3.500000      1.000000      4.000000      5.000000   \n",
              "\n",
              "              grade    sqft_above  sqft_basement      yr_built  yr_renovated  \\\n",
              "count  10525.000000  10525.000000   10525.000000  10525.000000  10525.000000   \n",
              "mean       7.650546   1787.454537     286.519715   1970.919240     86.511544   \n",
              "std        1.168147    821.594426     434.731368     29.435286    406.553777   \n",
              "min        4.000000    380.000000       0.000000   1900.000000      0.000000   \n",
              "25%        7.000000   1200.000000       0.000000   1951.000000      0.000000   \n",
              "50%        7.000000   1560.000000       0.000000   1975.000000      0.000000   \n",
              "75%        8.000000   2210.000000     550.000000   1997.000000      0.000000   \n",
              "max       13.000000   8570.000000    3480.000000   2015.000000   2015.000000   \n",
              "\n",
              "            zipcode           lat          long  sqft_living15     sqft_lot15  \n",
              "count  10525.000000  10525.000000  10525.000000   10525.000000   10525.000000  \n",
              "mean   98078.058052     47.562216   -122.213079    1986.849121   12836.911734  \n",
              "std       53.437415      0.138280      0.141896     687.272667   27756.532496  \n",
              "min    98001.000000     47.155900   -122.515000     399.000000     659.000000  \n",
              "25%    98033.000000     47.474900   -122.328000    1490.000000    5100.000000  \n",
              "50%    98065.000000     47.573600   -122.231000    1840.000000    7620.000000  \n",
              "75%    98117.000000     47.680000   -122.126000    2350.000000   10083.000000  \n",
              "max    98199.000000     47.777600   -121.315000    6210.000000  858132.000000  "
            ]
          },
          "execution_count": 10,
          "metadata": {},
          "output_type": "execute_result"
        }
      ]
    },
    {
      "cell_type": "markdown",
      "metadata": {
        "id": "LnKvIQ9kuWma"
      },
      "source": [
        "- 변수 별 scale이 매우 다르므로 scale에 민감한 알고리즘을 사용할 때는 scaling이 필요함을 알 수 있습니다."
      ]
    },
    {
      "cell_type": "code",
      "metadata": {
        "colab": {
          "base_uri": "https://localhost:8080/"
        },
        "id": "5PfNGaVUuWma",
        "outputId": "089892f7-309c-45ed-9a15-6ba2f700d7ef"
      },
      "source": [
        "train.hist(bins=50, figsize=(13,13))\n",
        "plt.show()"
      ],
      "execution_count": null,
      "outputs": [
        {
          "data": {
            "image/png": "[encoded data removed]",
            "text/plain": [
              "<Figure size 936x936 with 20 Axes>"
            ]
          },
          "metadata": {},
          "output_type": "display_data"
        }
      ]
    },
    {
      "cell_type": "markdown",
      "metadata": {
        "id": "4-TI1zXJuWma"
      },
      "source": [
        "- 몇몇 변수들은 한쪽에 치우친 분포를 보이니 log 변환 등을 통해 분포를 맞춰주는 것도 매우 좋은 방법입니다."
      ]
    },
    {
      "cell_type": "code",
      "metadata": {
        "id": "_JMIy1Y-uWma"
      },
      "source": [
        "attributes = ['price', 'sqft_living', 'grade', 'sqft_above', 'sqft_living15', 'bathrooms', 'view', 'bedrooms']\n",
        "scatter_matrix(train[attributes], figsize=(12,10))\n",
        "plt.show()"
      ],
      "execution_count": null,
      "outputs": []
    },
    {
      "cell_type": "markdown",
      "metadata": {
        "id": "i0FythwBuWma"
      },
      "source": [
        "- 서로 높은 상관관계가 있는 것으로 보이는 변수들이 존재합니다.    \n",
        "- price과 sqft_living, sqft_above, sqft_living15, bathrooms\n",
        "- sqft_living과 price, grade, sqft_above, sqft_living15, bathrooms 등입니다.  \n",
        "\n",
        "그럼 변수별 상관계수를 확인해 보겠습니다."
      ]
    },
    {
      "cell_type": "markdown",
      "metadata": {
        "id": "5mosMH8ouWmb"
      },
      "source": [
        "## 변수별 상관관계"
      ]
    },
    {
      "cell_type": "code",
      "metadata": {
        "id": "X9cQ1hO7uWmb"
      },
      "source": [
        "train.info()"
      ],
      "execution_count": null,
      "outputs": []
    },
    {
      "cell_type": "code",
      "metadata": {
        "id": "nxKOMNhJuWmb"
      },
      "source": [
        "columns = list(train.columns)\n",
        "print(columns)"
      ],
      "execution_count": null,
      "outputs": []
    },
    {
      "cell_type": "code",
      "metadata": {
        "id": "MT2WuFNfuWmb"
      },
      "source": [
        "corr_matrix = train[columns].corr()\n",
        "corr_matrix"
      ],
      "execution_count": null,
      "outputs": []
    },
    {
      "cell_type": "code",
      "metadata": {
        "id": "-oSadRvfuWmc"
      },
      "source": [
        "corr_matrix['price'].sort_values(ascending=False)"
      ],
      "execution_count": null,
      "outputs": []
    },
    {
      "cell_type": "markdown",
      "metadata": {
        "id": "VFpsPMmTuWmc"
      },
      "source": [
        "- price와의 상관관계는\n",
        "- sqft_living, grade, sqft_above가 0.6~0.7 정도,\n",
        "- sqft_living15, bathrooms는 0.5~0.6 정도를 띱니다. \n",
        "- 그러나 카테고리형도 있고, scaling도 되어있지 않으므로 이걸로만 상관관계를 판단할 수는 없습니다.  "
      ]
    },
    {
      "cell_type": "code",
      "metadata": {
        "id": "vZLvC-AruWmc"
      },
      "source": [
        "sns.heatmap(round(corr_matrix,1), annot=True)\n",
        "fig = plt.gcf()\n",
        "fig.set_size_inches(10,8)\n",
        "plt.show()"
      ],
      "execution_count": null,
      "outputs": []
    },
    {
      "cell_type": "markdown",
      "metadata": {
        "id": "de6Lpdi_uWmc"
      },
      "source": [
        "heatmap을 이용하면 변수별 상관관계를 더 뚜렷하게 볼 수 있습니다."
      ]
    },
    {
      "cell_type": "markdown",
      "metadata": {
        "id": "S-Begsr9uWmc"
      },
      "source": [
        "## 변수별 EDA 및 Preprocessing"
      ]
    },
    {
      "cell_type": "markdown",
      "metadata": {
        "id": "bcNftgAMuWmc"
      },
      "source": [
        "### price"
      ]
    },
    {
      "cell_type": "code",
      "metadata": {
        "id": "XIkPnfERuWmd"
      },
      "source": [
        "sns.distplot(train['price'], hist=True)\n",
        "plt.show()"
      ],
      "execution_count": null,
      "outputs": []
    },
    {
      "cell_type": "markdown",
      "metadata": {
        "id": "eDVR9wkwuWmd"
      },
      "source": [
        "- price가 0에서 1000000 사이에 몰려있으므로 log변환을 통해 예쁜 정규분포 모양을 만들어 봅시다."
      ]
    },
    {
      "cell_type": "code",
      "metadata": {
        "id": "nkv4-2q6uWmf"
      },
      "source": [
        "# log 변환 \n",
        "train['log_price'] = np.log1p(train['price'])"
      ],
      "execution_count": null,
      "outputs": []
    },
    {
      "cell_type": "code",
      "metadata": {
        "id": "Z6zSmLopuWmf"
      },
      "source": [
        "sns.distplot(train['log_price'], hist=True)\n",
        "plt.show()"
      ],
      "execution_count": null,
      "outputs": []
    },
    {
      "cell_type": "markdown",
      "metadata": {
        "id": "TWcTFqVFuWmf"
      },
      "source": [
        "- 아까보다 훨씬 예쁜 종 모양의 분포가 만들어졌습니다."
      ]
    },
    {
      "cell_type": "markdown",
      "metadata": {
        "id": "IeUTZmJvuWmf"
      },
      "source": [
        "distplot을 보면, 유난히 가격이 큰 집들이 존재합니다. 어떤 집인지 살펴보겠습니다."
      ]
    },
    {
      "cell_type": "code",
      "metadata": {
        "id": "WPFsP7OauWmg"
      },
      "source": [
        "sns.boxplot(train.log_price)"
      ],
      "execution_count": null,
      "outputs": []
    },
    {
      "cell_type": "markdown",
      "metadata": {
        "id": "f6w6x0y_uWmg"
      },
      "source": [
        "몇몇 이상치들이 존재하는 것을 볼 수 있습니다.  \n",
        "그렇다면 이 중 log_price가 11.5 이상 14.5 이하인 집들만 가지고 box plot을 그려보겠습니다."
      ]
    },
    {
      "cell_type": "code",
      "metadata": {
        "id": "-Dy-NYUEuWmg"
      },
      "source": [
        "sns.boxplot(train[(train.log_price <= 14.5) & (train.log_price >= 11.5)].log_price)"
      ],
      "execution_count": null,
      "outputs": []
    },
    {
      "cell_type": "markdown",
      "metadata": {
        "id": "WNesXWA_uWmg"
      },
      "source": [
        "아까보다 훨씬 예쁜 boxplot이 그려진 것 같습니다.  \n",
        "제외했던 이상치가 몇 개인지 확인해보겠습니다."
      ]
    },
    {
      "cell_type": "code",
      "metadata": {
        "id": "MKF4s2qyuWmg"
      },
      "source": [
        "train[(train.log_price < 11.5) | (train.log_price > 14.5)]  # 11.5 미만 14.5 초과인 집들만 확인"
      ],
      "execution_count": null,
      "outputs": []
    },
    {
      "cell_type": "code",
      "metadata": {
        "id": "y-rz-liPneJk"
      },
      "source": [
        "104 / train.shape[0] * 100"
      ],
      "execution_count": null,
      "outputs": []
    },
    {
      "cell_type": "markdown",
      "metadata": {
        "id": "VnClP14ouWmh"
      },
      "source": [
        "104개입니다. 즉 전체 데이터의 0.98%입니다. 이 집들은 너무 심한 이상치로 판단되므로 제거해 보겠습니다."
      ]
    },
    {
      "cell_type": "code",
      "metadata": {
        "id": "oUAFMM4BuWmh"
      },
      "source": [
        "train.drop(train[(train.log_price < 11.5) | (train.log_price > 14.5)].index, axis=0, inplace=True)"
      ],
      "execution_count": null,
      "outputs": []
    },
    {
      "cell_type": "code",
      "metadata": {
        "id": "CfD5Du25uWmh"
      },
      "source": [
        "sns.distplot(train.log_price)"
      ],
      "execution_count": null,
      "outputs": []
    },
    {
      "cell_type": "code",
      "metadata": {
        "id": "fzF7-4oLuWmh"
      },
      "source": [
        "sns.boxplot(train.log_price)"
      ],
      "execution_count": null,
      "outputs": []
    },
    {
      "cell_type": "markdown",
      "metadata": {
        "id": "tSraYGn2uWmi"
      },
      "source": [
        "아까보다 훨씬 예쁜 분포가 된 것을 볼 수 있습니다."
      ]
    },
    {
      "cell_type": "code",
      "metadata": {
        "id": "ZoZcQ-r8uWmi"
      },
      "source": [
        "columns.append('log_price')"
      ],
      "execution_count": null,
      "outputs": []
    },
    {
      "cell_type": "code",
      "metadata": {
        "id": "cOpF9OQPuWmi"
      },
      "source": [
        "train[columns].corr()['log_price'].sort_values(ascending=False)"
      ],
      "execution_count": null,
      "outputs": []
    },
    {
      "cell_type": "code",
      "metadata": {
        "id": "A64uTnLSuWmi"
      },
      "source": [
        "train.shape"
      ],
      "execution_count": null,
      "outputs": []
    },
    {
      "cell_type": "markdown",
      "metadata": {
        "id": "Cw5ipq-CuWmi"
      },
      "source": [
        "train set이 이제 10421행이 되었습니다."
      ]
    },
    {
      "cell_type": "markdown",
      "metadata": {
        "id": "G9JGfuikuWmi"
      },
      "source": [
        "### bedrooms"
      ]
    },
    {
      "cell_type": "code",
      "metadata": {
        "id": "i4cXy-qbuWmj"
      },
      "source": [
        "train.bedrooms"
      ],
      "execution_count": null,
      "outputs": []
    },
    {
      "cell_type": "markdown",
      "metadata": {
        "id": "6AgkQGlXuWmj"
      },
      "source": [
        "카테고리형으로 보입니다. 분포를 알아봅시다."
      ]
    },
    {
      "cell_type": "code",
      "metadata": {
        "colab": {
          "base_uri": "https://localhost:8080/"
        },
        "id": "XqCmkyLguWmj",
        "outputId": "fc960546-0923-4acb-8699-cdd7415cddb2"
      },
      "source": [
        "train.bedrooms.value_counts().sort_index()"
      ],
      "execution_count": null,
      "outputs": [
        {
          "data": {
            "text/plain": [
              "0        3\n",
              "1       84\n",
              "2     1328\n",
              "3     4830\n",
              "4     3310\n",
              "5      714\n",
              "6      122\n",
              "7       16\n",
              "8        8\n",
              "9        4\n",
              "10       2\n",
              "Name: bedrooms, dtype: int64"
            ]
          },
          "execution_count": 145,
          "metadata": {},
          "output_type": "execute_result"
        }
      ]
    },
    {
      "cell_type": "code",
      "metadata": {
        "colab": {
          "background_save": true,
          "base_uri": "https://localhost:8080/",
          "height": 473
        },
        "id": "LC5npL1juWmj",
        "outputId": "9048b091-710b-4543-f3f9-97ae9c97efd2"
      },
      "source": [
        "train.bedrooms.value_counts().sort_index().plot(kind='bar')"
      ],
      "execution_count": null,
      "outputs": [
        {
          "data": {
            "text/plain": [
              "<matplotlib.axes._subplots.AxesSubplot at 0x7f1bd70cac90>"
            ]
          },
          "execution_count": null,
          "metadata": {},
          "output_type": "execute_result"
        },
        {
          "data": {
            "image/png": "[encoded data removed]",
            "text/plain": [
              "<Figure size 432x288 with 1 Axes>"
            ]
          },
          "metadata": {},
          "output_type": "display_data"
        }
      ]
    },
    {
      "cell_type": "markdown",
      "metadata": {
        "id": "w1V2gB58uWmk"
      },
      "source": [
        "bedrooms=0, 7, 8, 9, 10인 집들은 적다고 판단되므로 제거해 보겠습니다."
      ]
    },
    {
      "cell_type": "code",
      "metadata": {
        "colab": {
          "background_save": true,
          "base_uri": "https://localhost:8080/"
        },
        "id": "vHcciitUuWmk",
        "outputId": "5966befb-8fda-4e94-8cc2-af3d48b20784"
      },
      "source": [
        "train[(train.bedrooms <= 0) | (train.bedrooms >= 7)].shape"
      ],
      "execution_count": null,
      "outputs": [
        {
          "data": {
            "text/plain": [
              "(33, 22)"
            ]
          },
          "execution_count": null,
          "metadata": {},
          "output_type": "execute_result"
        }
      ]
    },
    {
      "cell_type": "markdown",
      "metadata": {
        "id": "4j556o-euWmk"
      },
      "source": [
        "총 33개의 집이 해당됩니다."
      ]
    },
    {
      "cell_type": "code",
      "metadata": {
        "colab": {
          "background_save": true
        },
        "id": "oeHNu9RQuWmk"
      },
      "source": [
        "train.drop(train[(train.bedrooms <= 0) | (train.bedrooms >= 7)].index, axis=0, inplace=True)"
      ],
      "execution_count": null,
      "outputs": []
    },
    {
      "cell_type": "code",
      "metadata": {
        "colab": {
          "background_save": true,
          "base_uri": "https://localhost:8080/"
        },
        "id": "x9irCcmyuWmk",
        "outputId": "a8a34373-58d0-4a86-fa3c-85272dbddd1e"
      },
      "source": [
        "train.shape"
      ],
      "execution_count": null,
      "outputs": [
        {
          "data": {
            "text/plain": [
              "(10388, 22)"
            ]
          },
          "execution_count": null,
          "metadata": {},
          "output_type": "execute_result"
        }
      ]
    },
    {
      "cell_type": "code",
      "metadata": {
        "colab": {
          "background_save": true,
          "base_uri": "https://localhost:8080/"
        },
        "id": "vNw3MTvVuWmk",
        "outputId": "b5a568ba-0ef5-4b39-ce50-0b6aaf09ee29"
      },
      "source": [
        "train.bedrooms.value_counts().sort_index()"
      ],
      "execution_count": null,
      "outputs": [
        {
          "data": {
            "text/plain": [
              "1      84\n",
              "2    1328\n",
              "3    4830\n",
              "4    3310\n",
              "5     714\n",
              "6     122\n",
              "Name: bedrooms, dtype: int64"
            ]
          },
          "execution_count": null,
          "metadata": {},
          "output_type": "execute_result"
        }
      ]
    },
    {
      "cell_type": "code",
      "metadata": {
        "colab": {
          "background_save": true,
          "base_uri": "https://localhost:8080/",
          "height": 465
        },
        "id": "AsxXdEGSuWml",
        "outputId": "e0d000c9-55f7-4b60-ee5a-2d4e2b74217b"
      },
      "source": [
        "train.bedrooms.value_counts().sort_index().plot(kind='bar')"
      ],
      "execution_count": null,
      "outputs": [
        {
          "data": {
            "text/plain": [
              "<matplotlib.axes._subplots.AxesSubplot at 0x7f1bd7018490>"
            ]
          },
          "execution_count": null,
          "metadata": {},
          "output_type": "execute_result"
        },
        {
          "data": {
            "image/png": "[encoded data removed]",
            "text/plain": [
              "<Figure size 432x288 with 1 Axes>"
            ]
          },
          "metadata": {},
          "output_type": "display_data"
        }
      ]
    },
    {
      "cell_type": "code",
      "metadata": {
        "colab": {
          "background_save": true,
          "base_uri": "https://localhost:8080/",
          "height": 478
        },
        "id": "1Y7Rb7mmuWml",
        "outputId": "56c73376-cd67-4639-c901-d9af60061fb0"
      },
      "source": [
        "sns.boxplot(x='bedrooms', y='log_price', data=train)"
      ],
      "execution_count": null,
      "outputs": [
        {
          "data": {
            "text/plain": [
              "<matplotlib.axes._subplots.AxesSubplot at 0x7f1bd7310ed0>"
            ]
          },
          "execution_count": null,
          "metadata": {},
          "output_type": "execute_result"
        },
        {
          "data": {
            "image/png": "[encoded data removed]",
            "text/plain": [
              "<Figure size 432x288 with 1 Axes>"
            ]
          },
          "metadata": {},
          "output_type": "display_data"
        }
      ]
    },
    {
      "cell_type": "markdown",
      "metadata": {
        "id": "Hm0ryOCyuWml"
      },
      "source": [
        "이외에도 boxplot에서 가장 심한 이상치들로 보이는 집들을 제거하는 것도 좋은 방법입니다."
      ]
    },
    {
      "cell_type": "markdown",
      "metadata": {
        "id": "cjq3YHHWuWmm"
      },
      "source": [
        "### waterfront"
      ]
    },
    {
      "cell_type": "code",
      "metadata": {
        "colab": {
          "background_save": true,
          "base_uri": "https://localhost:8080/"
        },
        "id": "XNzSrx48uWmm",
        "outputId": "29acf806-9717-4c7c-f116-472c88ef8b33"
      },
      "source": [
        "train.waterfront.value_counts().sort_index()"
      ],
      "execution_count": null,
      "outputs": [
        {
          "data": {
            "text/plain": [
              "0    10336\n",
              "1       52\n",
              "Name: waterfront, dtype: int64"
            ]
          },
          "execution_count": null,
          "metadata": {},
          "output_type": "execute_result"
        }
      ]
    },
    {
      "cell_type": "code",
      "metadata": {
        "colab": {
          "background_save": true,
          "base_uri": "https://localhost:8080/",
          "height": 478
        },
        "id": "J-HtAxfMuWmp",
        "outputId": "909865b8-60ba-442a-9177-4308a6f10dc1"
      },
      "source": [
        "sns.boxplot(x='waterfront', y='log_price', data=train)"
      ],
      "execution_count": null,
      "outputs": [
        {
          "data": {
            "text/plain": [
              "<matplotlib.axes._subplots.AxesSubplot at 0x7f5c876746d0>"
            ]
          },
          "execution_count": null,
          "metadata": {},
          "output_type": "execute_result"
        },
        {
          "data": {
            "image/png": "[encoded data removed]",
            "text/plain": [
              "<Figure size 432x288 with 1 Axes>"
            ]
          },
          "metadata": {},
          "output_type": "display_data"
        }
      ]
    },
    {
      "cell_type": "markdown",
      "metadata": {
        "id": "8sVrQYWpuWmp"
      },
      "source": [
        "0인 집이 훨씬 많지만, 1인 집들이 전반적으로 price가 높은 양상을 보여줍니다."
      ]
    },
    {
      "cell_type": "markdown",
      "metadata": {
        "id": "E7DrqrnkPySK"
      },
      "source": [
        "### condition-grade"
      ]
    },
    {
      "cell_type": "code",
      "metadata": {
        "colab": {
          "background_save": true,
          "base_uri": "https://localhost:8080/"
        },
        "id": "3DON-4SnPb9_",
        "outputId": "7028be53-d3ad-4c14-be0a-84781855eb7a"
      },
      "source": [
        "train.condition.value_counts()"
      ],
      "execution_count": null,
      "outputs": [
        {
          "data": {
            "text/plain": [
              "3    6801\n",
              "4    2747\n",
              "5     790\n",
              "2      70\n",
              "1      13\n",
              "Name: condition, dtype: int64"
            ]
          },
          "execution_count": null,
          "metadata": {},
          "output_type": "execute_result"
        }
      ]
    },
    {
      "cell_type": "code",
      "metadata": {
        "colab": {
          "background_save": true,
          "base_uri": "https://localhost:8080/",
          "height": 478
        },
        "id": "Ga_cd6lwP8Tt",
        "outputId": "a3c613df-eeec-41f3-d38e-018a213d93e6"
      },
      "source": [
        "sns.boxplot(x='condition', y='log_price', data=train)"
      ],
      "execution_count": null,
      "outputs": [
        {
          "data": {
            "text/plain": [
              "<matplotlib.axes._subplots.AxesSubplot at 0x7f5c8684d990>"
            ]
          },
          "execution_count": null,
          "metadata": {},
          "output_type": "execute_result"
        },
        {
          "data": {
            "image/png": "[encoded data removed]",
            "text/plain": [
              "<Figure size 432x288 with 1 Axes>"
            ]
          },
          "metadata": {},
          "output_type": "display_data"
        }
      ]
    },
    {
      "cell_type": "markdown",
      "metadata": {
        "id": "DLJ4H_PHQKtR"
      },
      "source": [
        "1,2일 때와 3,4,5일때로 분리되는 것 같은데 1,2condition을 따로 체크하는 피처를 만들면 어떨까? bad_condition 이렇게"
      ]
    },
    {
      "cell_type": "code",
      "metadata": {
        "colab": {
          "background_save": true,
          "base_uri": "https://localhost:8080/"
        },
        "id": "mMg2Vf2kPcDF",
        "outputId": "ec9c1375-dd09-4672-ac6d-1efe497a0c5e"
      },
      "source": [
        "train.grade.value_counts().sort_index()"
      ],
      "execution_count": null,
      "outputs": [
        {
          "data": {
            "text/plain": [
              "4       14\n",
              "5      117\n",
              "6      986\n",
              "7     4410\n",
              "8     2908\n",
              "9     1294\n",
              "10     516\n",
              "11     152\n",
              "12      24\n",
              "Name: grade, dtype: int64"
            ]
          },
          "execution_count": null,
          "metadata": {},
          "output_type": "execute_result"
        }
      ]
    },
    {
      "cell_type": "code",
      "metadata": {
        "colab": {
          "background_save": true,
          "base_uri": "https://localhost:8080/",
          "height": 478
        },
        "id": "apbznO-xP_S1",
        "outputId": "baa20a39-d10b-4150-e8d0-65e61077dfa8"
      },
      "source": [
        "sns.boxplot(x='grade', y='log_price', data=train)"
      ],
      "execution_count": null,
      "outputs": [
        {
          "data": {
            "text/plain": [
              "<matplotlib.axes._subplots.AxesSubplot at 0x7f5c8708e290>"
            ]
          },
          "execution_count": null,
          "metadata": {},
          "output_type": "execute_result"
        },
        {
          "data": {
            "image/png": "[encoded data removed]",
            "text/plain": [
              "<Figure size 432x288 with 1 Axes>"
            ]
          },
          "metadata": {},
          "output_type": "display_data"
        }
      ]
    },
    {
      "cell_type": "markdown",
      "metadata": {
        "id": "QckVcO2pQC4g"
      },
      "source": [
        "grade가 확실히 price와 연관성이 있음"
      ]
    },
    {
      "cell_type": "code",
      "metadata": {
        "colab": {
          "background_save": true,
          "base_uri": "https://localhost:8080/"
        },
        "id": "SlI5hBoKPcHa",
        "outputId": "8e73dbdc-cef2-4b03-e80c-c3d766948e90"
      },
      "source": [
        "train[columns].corr()['condition']['grade']"
      ],
      "execution_count": null,
      "outputs": [
        {
          "data": {
            "text/plain": [
              "-0.15864761855592788"
            ]
          },
          "execution_count": null,
          "metadata": {},
          "output_type": "execute_result"
        }
      ]
    },
    {
      "cell_type": "markdown",
      "metadata": {
        "id": "5Gk9NfmUQo3N"
      },
      "source": [
        "### 지하실"
      ]
    },
    {
      "cell_type": "code",
      "metadata": {
        "colab": {
          "background_save": true,
          "base_uri": "https://localhost:8080/",
          "height": 478
        },
        "id": "16T9P_qjPcMR",
        "outputId": "abff3500-66f0-433d-8b6f-e2d4e780797b"
      },
      "source": [
        "sns.scatterplot(x='sqft_basement', y='log_price', data=train)"
      ],
      "execution_count": null,
      "outputs": [
        {
          "data": {
            "text/plain": [
              "<matplotlib.axes._subplots.AxesSubplot at 0x7f5c87069050>"
            ]
          },
          "execution_count": null,
          "metadata": {},
          "output_type": "execute_result"
        },
        {
          "data": {
            "image/png": "[encoded data removed]",
            "text/plain": [
              "<Figure size 432x288 with 1 Axes>"
            ]
          },
          "metadata": {},
          "output_type": "display_data"
        }
      ]
    },
    {
      "cell_type": "code",
      "metadata": {
        "colab": {
          "background_save": true
        },
        "id": "lL15DUVHPcQl"
      },
      "source": [
        ""
      ],
      "execution_count": null,
      "outputs": []
    },
    {
      "cell_type": "markdown",
      "metadata": {
        "id": "ctNCoqLFuWmp"
      },
      "source": [
        "대략 이런 방식으로 변수들을 하나씩 살펴보며 판단에 따라 데이터를 정제하면 됩니다.  \n",
        "본 코드에 적혀있는 전처리 방법들을 똑같이 적용할 필요는 없습니다. 예시일 뿐이니 자유롭게 변경하셔도 됩니다."
      ]
    },
    {
      "cell_type": "markdown",
      "metadata": {
        "id": "SiCCfrsNuWmp"
      },
      "source": [
        "# Feature Engineering"
      ]
    },
    {
      "cell_type": "markdown",
      "metadata": {
        "id": "UL0DixQ_uWmq"
      },
      "source": [
        "지금까지 3가지 변수 (price, bedrooms, waterfront)에 대하여 간단한 EDA 및 Data Preprocessing을 진행하였습니다.  \n",
        "이제는 간단한 Feature Engineering을 진행해보겠습니다."
      ]
    },
    {
      "cell_type": "markdown",
      "metadata": {
        "id": "crf3l8k3uWmr"
      },
      "source": [
        "Feature Engineering은 모델 정확도를 높이기 위해서 주어진 데이터를 예측 모델의 문제를 잘 표현할 수 있는 변수들로 변형시키는 과정입니다.  \n",
        "'머신러닝 알고리즘을 작동하기 위해 데이터의 도메인 지식을 활용해 변수들을 만드는 과정'이라고도 할 수 있습니다.  \n",
        "이 과정은 머신러닝 학습 과정에서도 흔히 가장 중요하다고 알려져 있습니다.  \n",
        "얼마나 유의한 변수들을 만들어 내는지에 따라 모델의 성능이 크게 달라지기 때문입니다.  \n",
        "다양한 관점과 아이디어를 통해 여러 변수들을 고민해보세요."
      ]
    },
    {
      "cell_type": "code",
      "metadata": {
        "colab": {
          "background_save": true
        },
        "id": "X1WOYIN1uWmr"
      },
      "source": [
        "import pandas as pd\n",
        "import matplotlib.pyplot as plt\n",
        "from matplotlib import rc\n",
        "import numpy as np\n",
        "import seaborn as sns\n",
        "%matplotlib inline\n",
        "\n",
        "plt.style.use('ggplot')\n",
        "plt.rcParams['figure.figsize'] = (12, 8)\n",
        "plt.rcParams['font.size'] = 10\n",
        "# plt.rc('font', family='AppleGothic')\n",
        "plt.rc('axes', unicode_minus=False)\n",
        "pd.set_option(\"display.max_columns\", 30)\n",
        "\n",
        "import missingno as msno\n",
        "from pandas.plotting import scatter_matrix\n",
        "import math\n",
        "from sklearn import preprocessing\n",
        "from sklearn.preprocessing import StandardScaler\n",
        "from sklearn.linear_model import LinearRegression\n",
        "from sklearn.decomposition import PCA\n",
        "\n",
        "plt.style.use('ggplot')\n",
        "plt.rcParams['figure.figsize'] = (12, 8)\n",
        "plt.rcParams['font.size'] = 10\n",
        "# plt.rc('font', family='AppleGothic')\n",
        "plt.rc('axes', unicode_minus=False)\n",
        "pd.set_option(\"display.max_columns\", 30)"
      ],
      "execution_count": null,
      "outputs": []
    },
    {
      "cell_type": "code",
      "metadata": {
        "colab": {
          "background_save": true,
          "base_uri": "https://localhost:8080/"
        },
        "id": "biYabfiluWms",
        "outputId": "c56eec5d-9267-4e86-927d-591c42951483"
      },
      "source": [
        "list(train.columns)"
      ],
      "execution_count": null,
      "outputs": [
        {
          "data": {
            "text/plain": [
              "['id',\n",
              " 'date',\n",
              " 'price',\n",
              " 'bedrooms',\n",
              " 'bathrooms',\n",
              " 'sqft_living',\n",
              " 'sqft_lot',\n",
              " 'floors',\n",
              " 'waterfront',\n",
              " 'view',\n",
              " 'condition',\n",
              " 'grade',\n",
              " 'sqft_above',\n",
              " 'sqft_basement',\n",
              " 'yr_built',\n",
              " 'yr_renovated',\n",
              " 'zipcode',\n",
              " 'lat',\n",
              " 'long',\n",
              " 'sqft_living15',\n",
              " 'sqft_lot15',\n",
              " 'log_price']"
            ]
          },
          "execution_count": null,
          "metadata": {},
          "output_type": "execute_result"
        }
      ]
    },
    {
      "cell_type": "markdown",
      "metadata": {
        "id": "ipgu3s4muWmt"
      },
      "source": [
        "다음은 간단한 Feature Engineering 예시입니다."
      ]
    },
    {
      "cell_type": "markdown",
      "metadata": {
        "id": "kMCO45i3uWmt"
      },
      "source": [
        "## rooms 생성: bedrooms+bathrooms"
      ]
    },
    {
      "cell_type": "code",
      "metadata": {
        "colab": {
          "background_save": true
        },
        "id": "1FFKJSM2uWmt"
      },
      "source": [
        "for data in [train,test]:\n",
        "    data['rooms'] = data['bedrooms'] + data['bathrooms']"
      ],
      "execution_count": null,
      "outputs": []
    },
    {
      "cell_type": "markdown",
      "metadata": {
        "id": "0j76iUZ2ej-S"
      },
      "source": [
        "## 재건축된지 얼마나 됐는지"
      ]
    },
    {
      "cell_type": "code",
      "metadata": {
        "colab": {
          "background_save": true
        },
        "id": "7mb0p9hOeqPX"
      },
      "source": [
        "after_renovation = []\n",
        "\n",
        "for yr_built, yr_renovated,year in zip(train['yr_built'].values, train['yr_renovated'].values, train['year'].values):\n",
        "  if yr_renovated == 0: after_renovation.append(year - yr_built)\n",
        "  else: after_renovation.append(year - yr_renovated)\n",
        "\n",
        "train['after_renovation'] = after_renovation\n",
        "\n",
        "after_renovation = []\n",
        "\n",
        "for yr_built, yr_renovated,year in zip(test['yr_built'].values, test['yr_renovated'].values, test['year'].values):\n",
        "  if yr_renovated == 0: after_renovation.append(year - yr_built)\n",
        "  else: after_renovation.append(year - yr_renovated)\n",
        "\n",
        "test['after_renovation'] = after_renovation"
      ],
      "execution_count": null,
      "outputs": []
    },
    {
      "cell_type": "markdown",
      "metadata": {
        "id": "728-LeJ2uWmu"
      },
      "source": [
        "## renovated_bn 생성: 재건축 유무(1-유, 0-무)"
      ]
    },
    {
      "cell_type": "code",
      "metadata": {
        "colab": {
          "background_save": true
        },
        "id": "1uLQWa5puWmu"
      },
      "source": [
        "for data in [train,test]:\n",
        "    data['renovated_bn'] = list(map(lambda x: 1 if x !=0 else 0, data['yr_renovated']))"
      ],
      "execution_count": null,
      "outputs": []
    },
    {
      "cell_type": "markdown",
      "metadata": {
        "id": "5KUuntvuuWmu"
      },
      "source": [
        "## basement_bn 생성: 지하실 유무"
      ]
    },
    {
      "cell_type": "code",
      "metadata": {
        "colab": {
          "background_save": true
        },
        "id": "J0lMCpmtuWmv"
      },
      "source": [
        "for data in [train,test]:\n",
        "    data['basement_bn'] = list(map(lambda x: 1 if x !=0 else 0,data['sqft_basement']))"
      ],
      "execution_count": null,
      "outputs": []
    },
    {
      "cell_type": "markdown",
      "metadata": {
        "id": "_eKQ0yh2uWmv"
      },
      "source": [
        "## date_int 생성: YYYYMM 형태의 int 타입"
      ]
    },
    {
      "cell_type": "code",
      "metadata": {
        "colab": {
          "background_save": true
        },
        "id": "ZL2GdFxguWmv"
      },
      "source": [
        "for data in [train,test]:\n",
        "    data['date_int'] = data.date.str.slice(0, 6).astype(int)"
      ],
      "execution_count": null,
      "outputs": []
    },
    {
      "cell_type": "markdown",
      "metadata": {
        "id": "5Y6U8xIzuWmv"
      },
      "source": [
        "## year, month 생성"
      ]
    },
    {
      "cell_type": "code",
      "metadata": {
        "colab": {
          "background_save": true
        },
        "id": "YhEgJAwguWmw"
      },
      "source": [
        "for data in [train,test]:\n",
        "    data['year'] = data.date_int.map(lambda x: int(str(x)[:4]))\n",
        "    data['month'] = data.date_int.map(lambda x: int(str(x)[4:]))"
      ],
      "execution_count": null,
      "outputs": []
    },
    {
      "cell_type": "markdown",
      "metadata": {
        "id": "ZVVZ_OCFuWmw"
      },
      "source": [
        "## sqft_living_per_floor, sqft_living15_per_floor, sqft_above_per_floor 생성: 층당 면적"
      ]
    },
    {
      "cell_type": "code",
      "metadata": {
        "colab": {
          "background_save": true
        },
        "id": "K5hKsLfeuWmx"
      },
      "source": [
        "for data in [train,test]:\n",
        "    data['sqft_living_per_floor'] = data['sqft_living'] / data['floors']\n",
        "    data['sqft_living15_per_floor'] = data['sqft_living15'] / data['floors']\n",
        "    data['sqft_above_per_floor'] = data['sqft_above'] / data['floors']"
      ],
      "execution_count": null,
      "outputs": []
    },
    {
      "cell_type": "markdown",
      "metadata": {
        "id": "OqCb4AX9ccIB"
      },
      "source": [
        "##scailing"
      ]
    },
    {
      "cell_type": "code",
      "metadata": {
        "colab": {
          "background_save": true
        },
        "id": "26FYEGcAciJ9"
      },
      "source": [
        "train_df = train.drop(['id','price', 'date', 'sqft_living', 'sqft_lot', 'waterfront', 'yr_built',\t'yr_renovated',\t'zipcode',\t'lat',\t'long', 'log_price'\t], axis=1)\n",
        "test_df = test.drop(['id', 'date', 'sqft_living', 'sqft_lot', 'waterfront', 'yr_built',\t'yr_renovated',\t'zipcode',\t'lat',\t'long'\t], axis=1)"
      ],
      "execution_count": null,
      "outputs": []
    },
    {
      "cell_type": "code",
      "metadata": {
        "colab": {
          "background_save": true
        },
        "id": "ko9acYjOciOs"
      },
      "source": [
        "from sklearn.preprocessing import StandardScaler\n",
        "scaler = StandardScaler()\n",
        "scaler.fit(train_df)\n",
        "train_scaled = scaler.transform(train_df)\n",
        "test_scaled = scaler.transform(test_df)#테스트, 트레인데이터 스탠다드 스케일링 완료"
      ],
      "execution_count": null,
      "outputs": []
    },
    {
      "cell_type": "code",
      "metadata": {
        "colab": {
          "background_save": true
        },
        "id": "HVo_WO2SgI_C"
      },
      "source": [
        "train[list(train_df.columns)]= train_scaled"
      ],
      "execution_count": null,
      "outputs": []
    },
    {
      "cell_type": "code",
      "metadata": {
        "colab": {
          "background_save": true
        },
        "id": "RPWPCXqGciSm"
      },
      "source": [
        "test[list(test_df.columns)]= test_scaled"
      ],
      "execution_count": null,
      "outputs": []
    },
    {
      "cell_type": "markdown",
      "metadata": {
        "id": "gota4qT4ocfd"
      },
      "source": [
        "이외에도 정말 다양한 변수들을 만들어낼 수 있습니다."
      ]
    },
    {
      "cell_type": "code",
      "metadata": {
        "colab": {
          "background_save": true
        },
        "id": "AQtP60UHgtWE"
      },
      "source": [
        "train.head()"
      ],
      "execution_count": null,
      "outputs": []
    },
    {
      "cell_type": "code",
      "metadata": {
        "colab": {
          "background_save": true
        },
        "id": "7i8m1d-cgtar"
      },
      "source": [
        ""
      ],
      "execution_count": null,
      "outputs": []
    },
    {
      "cell_type": "markdown",
      "metadata": {
        "id": "zZZGzGK5uWmy"
      },
      "source": [
        "# Modeling"
      ]
    },
    {
      "cell_type": "markdown",
      "metadata": {
        "id": "vFjktbt8uWmy"
      },
      "source": [
        "피쳐 엔지니어링 과정이 끝났다면,  \n",
        "모델링 과정에서는 다양한 모델들을 활용하여 train 데이터를 학습하고 학습된 모델로 test 데이터의 답을 예측합니다.  \n",
        "오늘 주어진 문제는 '집값 예측'이므로 다양한 회귀 모델을 사용하시면 됩니다.  \n",
        "모델의 성능은 test 데이터에 대한 RMSE로 평가됩니다.  \n",
        "TIP: 한 가지 모델만 사용하지 않고, 여러 모델을 사용하여 예측 결과들을 앙상블(ex. 평균)하는 것이 훨씬 좋은 결과를 얻을 수 있습니다."
      ]
    },
    {
      "cell_type": "code",
      "metadata": {
        "colab": {
          "background_save": true
        },
        "id": "nB1ykXcIuWmy"
      },
      "source": [
        "import warnings\n",
        "warnings.filterwarnings('ignore')\n",
        "\n",
        "import pandas as pd\n",
        "pd.set_option(\"display.max_columns\", 100)\n",
        "import matplotlib.pyplot as plt\n",
        "from matplotlib import rc\n",
        "import numpy as np\n",
        "import seaborn as sns\n",
        "%matplotlib inline\n",
        "\n",
        "import missingno as msno\n",
        "import math\n",
        "from sklearn import preprocessing\n",
        "from sklearn.linear_model import LinearRegression\n",
        "from sklearn.model_selection import train_test_split\n",
        "\n",
        "from sklearn.preprocessing import LabelEncoder, StandardScaler, MinMaxScaler, OneHotEncoder\n",
        "from sklearn.decomposition import PCA\n",
        "\n",
        "from sklearn.ensemble import GradientBoostingRegressor\n",
        "import xgboost as xgb\n",
        "import lightgbm as lgb\n",
        "from sklearn.ensemble import RandomForestRegressor\n",
        "\n",
        "from sklearn.model_selection import KFold, cross_val_score\n",
        "from sklearn.metrics import mean_squared_error as mse\n",
        "from sklearn.model_selection import GridSearchCV, RandomizedSearchCV\n",
        "\n",
        "plt.style.use('ggplot')\n",
        "plt.rcParams['figure.figsize'] = (12, 8)\n",
        "plt.rcParams['font.size'] = 12\n",
        "\n",
        "# plt.rc('font', family='AppleGothic')\n",
        "plt.rc('axes', unicode_minus=False)\n",
        "\n",
        "np.random.seed(1120)"
      ],
      "execution_count": null,
      "outputs": []
    },
    {
      "cell_type": "code",
      "metadata": {
        "colab": {
          "background_save": true
        },
        "id": "5Q5Gf9uPuWmz"
      },
      "source": [
        "train.shape"
      ],
      "execution_count": null,
      "outputs": []
    },
    {
      "cell_type": "code",
      "metadata": {
        "colab": {
          "background_save": true
        },
        "id": "Z2-Cjzn3uWmz"
      },
      "source": [
        "test.shape"
      ],
      "execution_count": null,
      "outputs": []
    },
    {
      "cell_type": "markdown",
      "metadata": {
        "id": "2G0nzuecfkHQ"
      },
      "source": [
        "여기까지 진행했을 때, price에 log 변환만 수행했을 경우 train과 test의 column 수가 2만큼 차이나는 것이 정상입니다.  \n",
        "target feature(price, log_price)가 test에는 없기 때문입니다.  \n",
        "만약 아니라면 전처리 및 feature engineering 부분에서 train과 test에 모두 동일한 작업을 수행했는지 확인해보세요."
      ]
    },
    {
      "cell_type": "code",
      "metadata": {
        "colab": {
          "background_save": true
        },
        "id": "wBa8wFR9uWm0"
      },
      "source": [
        "train.columns"
      ],
      "execution_count": null,
      "outputs": []
    },
    {
      "cell_type": "code",
      "metadata": {
        "colab": {
          "background_save": true
        },
        "id": "M2ichqRVfdV9"
      },
      "source": [
        "test.columns"
      ],
      "execution_count": null,
      "outputs": []
    },
    {
      "cell_type": "code",
      "metadata": {
        "colab": {
          "background_save": true
        },
        "id": "d6OkHO-IuWm0"
      },
      "source": [
        "# 모델을 학습할 때 사용할 변수들을 선택합니다. 자유롭게 변경하여 학습해보세요.\n",
        "FEATURE_SELECT = [\n",
        " 'bedrooms',\n",
        " 'bathrooms',\n",
        " 'sqft_living15',\n",
        " 'sqft_lot15',\n",
        " 'waterfront',\n",
        " 'floors',\n",
        " 'view',\n",
        " 'condition',\n",
        " 'grade',\n",
        " 'sqft_above',\n",
        " 'sqft_basement'\n",
        "]"
      ],
      "execution_count": null,
      "outputs": []
    },
    {
      "cell_type": "code",
      "metadata": {
        "colab": {
          "background_save": true
        },
        "id": "GCWyjfMDuWm1"
      },
      "source": [
        "X_train, X_val, y_train, y_val = train_test_split(train[FEATURE_SELECT],  # 학습할 때 사용할 변수들입니다.\n",
        "                                                   train['log_price'],    # 예측할 타겟 변수입니다.\n",
        "                                                   test_size=0.2,         # train data의 1/5를 validation data로 사용합니다.\n",
        "                                                   random_state=1120)"
      ],
      "execution_count": null,
      "outputs": []
    },
    {
      "cell_type": "markdown",
      "metadata": {
        "id": "vYOXTvTouWm1"
      },
      "source": [
        "## 모델사용"
      ]
    },
    {
      "cell_type": "code",
      "metadata": {
        "colab": {
          "background_save": true
        },
        "id": "JR5ywnsduWm1"
      },
      "source": [
        "#XGB\n",
        "model_xgb = xgb.XGBRegressor(random_state=1120, metric='rmse') \n",
        "model_xgb.fit(X_train, y_train)\n",
        "y_pred_xgb = np.expm1(model_xgb.predict(X_val))\n",
        "score = np.sqrt(mse(np.expm1(y_val), y_pred_xgb))\n",
        "print('XGB RMSE 값: {0:.4f}'.format(score))"
      ],
      "execution_count": null,
      "outputs": []
    },
    {
      "cell_type": "code",
      "metadata": {
        "colab": {
          "background_save": true
        },
        "id": "EtNIgNjSXpSn"
      },
      "source": [
        "# LGBM\n",
        "model_lgb = lgb.LGBMRegressor(random_state=1120, metric='rmse')\n",
        "model_lgb.fit(X_train, y_train)\n",
        "y_pred_lgb = np.expm1(model_lgb.predict(X_val))\n",
        "score = np.sqrt(mse(np.expm1(y_val), y_pred_lgb))\n",
        "print('LGBM RMSE 값: {0:.4f}'.format(score))"
      ],
      "execution_count": null,
      "outputs": []
    },
    {
      "cell_type": "code",
      "metadata": {
        "colab": {
          "background_save": true
        },
        "id": "AHZLDaC3XpWc"
      },
      "source": [
        "from sklearn.linear_model import Ridge\n",
        "from sklearn.model_selection import cross_val_score\n",
        "\n",
        "model_ridge=Ridge(alpha=10)\n",
        "model_ridge.fit(X_train, y_train)\n",
        "y_pred_ridge=np.expm1(model_ridge.predict(X_val))\n",
        "score = np.sqrt(mse(np.expm1(y_val), y_pred_ridge))\n",
        "print('Ridge RMSE 값: {0:.4f}'.format(score))"
      ],
      "execution_count": null,
      "outputs": []
    },
    {
      "cell_type": "code",
      "metadata": {
        "colab": {
          "background_save": true
        },
        "id": "fhFzzJQ0bGeR"
      },
      "source": [
        ""
      ],
      "execution_count": null,
      "outputs": []
    },
    {
      "cell_type": "code",
      "metadata": {
        "colab": {
          "background_save": true
        },
        "id": "3ITRTOZibGhL"
      },
      "source": [
        ""
      ],
      "execution_count": null,
      "outputs": []
    },
    {
      "cell_type": "code",
      "metadata": {
        "colab": {
          "background_save": true
        },
        "id": "WV21GwzFbGke"
      },
      "source": [
        ""
      ],
      "execution_count": null,
      "outputs": []
    },
    {
      "cell_type": "code",
      "metadata": {
        "colab": {
          "background_save": true
        },
        "id": "CzY0a07bbGnB"
      },
      "source": [
        ""
      ],
      "execution_count": null,
      "outputs": []
    },
    {
      "cell_type": "code",
      "metadata": {
        "colab": {
          "background_save": true
        },
        "id": "-n0K75XyXpnd"
      },
      "source": [
        ""
      ],
      "execution_count": null,
      "outputs": []
    },
    {
      "cell_type": "code",
      "metadata": {
        "colab": {
          "background_save": true
        },
        "id": "4TschTP0XprF"
      },
      "source": [
        ""
      ],
      "execution_count": null,
      "outputs": []
    },
    {
      "cell_type": "code",
      "metadata": {
        "colab": {
          "background_save": true
        },
        "id": "6y9z5AFPXpud"
      },
      "source": [
        ""
      ],
      "execution_count": null,
      "outputs": []
    },
    {
      "cell_type": "markdown",
      "metadata": {
        "id": "sNGlytu9Xhma"
      },
      "source": [
        "## submission"
      ]
    },
    {
      "cell_type": "markdown",
      "metadata": {
        "id": "Zrnt9OktuWm4"
      },
      "source": [
        "모델이 잘 학습된 것 같다면, 이제 test 데이터에 대해 예측할 차례입니다."
      ]
    },
    {
      "cell_type": "code",
      "metadata": {
        "colab": {
          "background_save": true
        },
        "id": "wdg2azTsuWm4"
      },
      "source": [
        "test['price'] = np.expm1(model_xgb.predict(test[FEATURE_SELECT]))\n",
        "test"
      ],
      "execution_count": null,
      "outputs": []
    },
    {
      "cell_type": "markdown",
      "metadata": {
        "id": "0_cY9sx2xDtl"
      },
      "source": [
        "### 예측결과 제출"
      ]
    },
    {
      "cell_type": "markdown",
      "metadata": {
        "id": "VMpzOzU2uWm5"
      },
      "source": [
        "test 데이터에 대한 price 예측값이 생성된 것을 확인할 수 있습니다.  \n",
        "마지막으로, test 데이터의 price를 csv 파일로 저장하여 Kaggle Competition 페이지에 제출하시면 됩니다.  \n",
        "고생하셨습니다. :)"
      ]
    },
    {
      "cell_type": "code",
      "metadata": {
        "colab": {
          "background_save": true
        },
        "id": "8BnpZQwch7Ac"
      },
      "source": [
        "# submission 파일을 저장할 폴더 만들기\n",
        "SAVE_PATH = os.path.join(PATH, \"output\")\n",
        "if not os.path.exists(SAVE_PATH):\n",
        "  os.mkdir(SAVE_PATH)\n",
        "else:\n",
        "  pass"
      ],
      "execution_count": null,
      "outputs": []
    },
    {
      "cell_type": "code",
      "metadata": {
        "colab": {
          "background_save": true
        },
        "id": "rleQLae1qYvA"
      },
      "source": [
        "submission = test[['id', 'price']]  # 제출 submission에는 반드시 id, price 두 컬럼만 들어가야 합니다. \n",
        "submission.shape"
      ],
      "execution_count": null,
      "outputs": []
    },
    {
      "cell_type": "markdown",
      "metadata": {
        "id": "gXH_EVJopbaC"
      },
      "source": [
        "제출 전, 생성된 submission이 총 (4510행, 2열) 의 형태로 이루어져 있는지 꼭 확인하세요.  \n",
        "개수가 맞지 않으면 채점이 되지 않습니다."
      ]
    },
    {
      "cell_type": "code",
      "metadata": {
        "colab": {
          "background_save": true
        },
        "id": "MR9rBHSeuWm9"
      },
      "source": [
        "team = \"showmethemoney\"  # 반드시 팀명을 적어주세요.\n",
        "\n",
        "# 이 밑은 수정하지 마세요.\n",
        "from datetime import datetime\n",
        "timestamp = datetime.today().strftime(\"%Y%m%d%H%M%S\")\n",
        "submission.to_csv(os.path.join(SAVE_PATH, f'./{team}_{timestamp}.csv'), index=False)\n",
        "print(f\"디렉토리 'output'에 파일 '{team}_{timestamp}.csv' 저장 완료!\")"
      ],
      "execution_count": null,
      "outputs": []
    },
    {
      "cell_type": "code",
      "metadata": {
        "colab": {
          "background_save": true
        },
        "id": "7afrsYhDhWg5"
      },
      "source": [
        ""
      ],
      "execution_count": null,
      "outputs": []
    }
  ]
}