{
 "cells": [
  {
   "cell_type": "code",
   "execution_count": 1,
   "metadata": {},
   "outputs": [],
   "source": [
    "\n",
    "import warnings\n",
    "warnings.filterwarnings('ignore')\n",
    "import pandas as pd\n",
    "import numpy as np\n",
    "import seaborn as sns\n",
    "import matplotlib.pyplot as plt\n",
    "%matplotlib inline\n"
   ]
  },
  {
   "cell_type": "code",
   "execution_count": 2,
   "metadata": {},
   "outputs": [],
   "source": [
    "train_df_org = pd.read_csv('train.csv')\n",
    "test_df_org = pd.read_csv('test.csv')\n",
    "train_df=train_df_org.copy()\n",
    "test_df = test_df_org.copy()\n",
    "\n",
    "combine_org = [train_df_org, test_df_org]\n",
    "combine = [train_df, test_df]"
   ]
  },
  {
   "cell_type": "markdown",
   "metadata": {},
   "source": [
    "**컬럼명확인**\n",
    "\n",
    "**트레인 데이터는 중식계 석식계 있음 피처 12개**"
   ]
  },
  {
   "cell_type": "code",
   "execution_count": 3,
   "metadata": {},
   "outputs": [
    {
     "name": "stdout",
     "output_type": "stream",
     "text": [
      "컬럼명확인\n",
      " ['일자' '요일' '본사정원수' '본사휴가자수' '본사출장자수' '본사시간외근무명령서승인건수' '현본사소속재택근무자수' '조식메뉴'\n",
      " '중식메뉴' '석식메뉴' '중식계' '석식계']\n",
      "(1205, 12)\n"
     ]
    },
    {
     "data": {
      "text/html": [
       "<div>\n",
       "<style scoped>\n",
       "    .dataframe tbody tr th:only-of-type {\n",
       "        vertical-align: middle;\n",
       "    }\n",
       "\n",
       "    .dataframe tbody tr th {\n",
       "        vertical-align: top;\n",
       "    }\n",
       "\n",
       "    .dataframe thead th {\n",
       "        text-align: right;\n",
       "    }\n",
       "</style>\n",
       "<table border=\"1\" class=\"dataframe\">\n",
       "  <thead>\n",
       "    <tr style=\"text-align: right;\">\n",
       "      <th></th>\n",
       "      <th>일자</th>\n",
       "      <th>요일</th>\n",
       "      <th>본사정원수</th>\n",
       "      <th>본사휴가자수</th>\n",
       "      <th>본사출장자수</th>\n",
       "      <th>본사시간외근무명령서승인건수</th>\n",
       "      <th>현본사소속재택근무자수</th>\n",
       "      <th>조식메뉴</th>\n",
       "      <th>중식메뉴</th>\n",
       "      <th>석식메뉴</th>\n",
       "      <th>중식계</th>\n",
       "      <th>석식계</th>\n",
       "    </tr>\n",
       "  </thead>\n",
       "  <tbody>\n",
       "    <tr>\n",
       "      <td>0</td>\n",
       "      <td>2016-02-01</td>\n",
       "      <td>월</td>\n",
       "      <td>2601</td>\n",
       "      <td>50</td>\n",
       "      <td>150</td>\n",
       "      <td>238</td>\n",
       "      <td>0.0</td>\n",
       "      <td>모닝롤/찐빵  우유/두유/주스 계란후라이  호두죽/쌀밥 (쌀:국내산) 된장찌개  쥐...</td>\n",
       "      <td>쌀밥/잡곡밥 (쌀,현미흑미:국내산) 오징어찌개  쇠불고기 (쇠고기:호주산) 계란찜 ...</td>\n",
       "      <td>쌀밥/잡곡밥 (쌀,현미흑미:국내산) 육개장  자반고등어구이  두부조림  건파래무침 ...</td>\n",
       "      <td>1039.0</td>\n",
       "      <td>331.0</td>\n",
       "    </tr>\n",
       "    <tr>\n",
       "      <td>1</td>\n",
       "      <td>2016-02-02</td>\n",
       "      <td>화</td>\n",
       "      <td>2601</td>\n",
       "      <td>50</td>\n",
       "      <td>173</td>\n",
       "      <td>319</td>\n",
       "      <td>0.0</td>\n",
       "      <td>모닝롤/단호박샌드  우유/두유/주스 계란후라이  팥죽/쌀밥 (쌀:국내산) 호박젓국찌...</td>\n",
       "      <td>쌀밥/잡곡밥 (쌀,현미흑미:국내산) 김치찌개  가자미튀김  모둠소세지구이  마늘쫑무...</td>\n",
       "      <td>콩나물밥*양념장 (쌀,현미흑미:국내산) 어묵국  유산슬 (쇠고기:호주산) 아삭고추무...</td>\n",
       "      <td>867.0</td>\n",
       "      <td>560.0</td>\n",
       "    </tr>\n",
       "    <tr>\n",
       "      <td>2</td>\n",
       "      <td>2016-02-03</td>\n",
       "      <td>수</td>\n",
       "      <td>2601</td>\n",
       "      <td>56</td>\n",
       "      <td>180</td>\n",
       "      <td>111</td>\n",
       "      <td>0.0</td>\n",
       "      <td>모닝롤/베이글  우유/두유/주스 계란후라이  표고버섯죽/쌀밥 (쌀:국내산) 콩나물국...</td>\n",
       "      <td>카레덮밥 (쌀,현미흑미:국내산) 팽이장국  치킨핑거 (닭고기:국내산) 쫄면야채무침 ...</td>\n",
       "      <td>쌀밥/잡곡밥 (쌀,현미흑미:국내산) 청국장찌개  황태양념구이 (황태:러시아산) 고기...</td>\n",
       "      <td>1017.0</td>\n",
       "      <td>573.0</td>\n",
       "    </tr>\n",
       "    <tr>\n",
       "      <td>3</td>\n",
       "      <td>2016-02-04</td>\n",
       "      <td>목</td>\n",
       "      <td>2601</td>\n",
       "      <td>104</td>\n",
       "      <td>220</td>\n",
       "      <td>355</td>\n",
       "      <td>0.0</td>\n",
       "      <td>모닝롤/토마토샌드  우유/두유/주스 계란후라이  닭죽/쌀밥 (쌀,닭:국내산) 근대국...</td>\n",
       "      <td>쌀밥/잡곡밥 (쌀,현미흑미:국내산) 쇠고기무국  주꾸미볶음  부추전  시금치나물  ...</td>\n",
       "      <td>미니김밥*겨자장 (쌀,현미흑미:국내산) 우동  멕시칸샐러드  군고구마  무피클  포...</td>\n",
       "      <td>978.0</td>\n",
       "      <td>525.0</td>\n",
       "    </tr>\n",
       "    <tr>\n",
       "      <td>4</td>\n",
       "      <td>2016-02-05</td>\n",
       "      <td>금</td>\n",
       "      <td>2601</td>\n",
       "      <td>278</td>\n",
       "      <td>181</td>\n",
       "      <td>34</td>\n",
       "      <td>0.0</td>\n",
       "      <td>모닝롤/와플  우유/두유/주스 계란후라이  쇠고기죽/쌀밥 (쌀:국내산) 재첩국  방...</td>\n",
       "      <td>쌀밥/잡곡밥 (쌀,현미흑미:국내산) 떡국  돈육씨앗강정 (돼지고기:국내산) 우엉잡채...</td>\n",
       "      <td>쌀밥/잡곡밥 (쌀,현미흑미:국내산) 차돌박이찌개 (쇠고기:호주산) 닭갈비 (닭고기:...</td>\n",
       "      <td>925.0</td>\n",
       "      <td>330.0</td>\n",
       "    </tr>\n",
       "  </tbody>\n",
       "</table>\n",
       "</div>"
      ],
      "text/plain": [
       "           일자 요일  본사정원수  본사휴가자수  본사출장자수  본사시간외근무명령서승인건수  현본사소속재택근무자수  \\\n",
       "0  2016-02-01  월   2601      50     150             238          0.0   \n",
       "1  2016-02-02  화   2601      50     173             319          0.0   \n",
       "2  2016-02-03  수   2601      56     180             111          0.0   \n",
       "3  2016-02-04  목   2601     104     220             355          0.0   \n",
       "4  2016-02-05  금   2601     278     181              34          0.0   \n",
       "\n",
       "                                                조식메뉴  \\\n",
       "0  모닝롤/찐빵  우유/두유/주스 계란후라이  호두죽/쌀밥 (쌀:국내산) 된장찌개  쥐...   \n",
       "1  모닝롤/단호박샌드  우유/두유/주스 계란후라이  팥죽/쌀밥 (쌀:국내산) 호박젓국찌...   \n",
       "2  모닝롤/베이글  우유/두유/주스 계란후라이  표고버섯죽/쌀밥 (쌀:국내산) 콩나물국...   \n",
       "3  모닝롤/토마토샌드  우유/두유/주스 계란후라이  닭죽/쌀밥 (쌀,닭:국내산) 근대국...   \n",
       "4  모닝롤/와플  우유/두유/주스 계란후라이  쇠고기죽/쌀밥 (쌀:국내산) 재첩국  방...   \n",
       "\n",
       "                                                중식메뉴  \\\n",
       "0  쌀밥/잡곡밥 (쌀,현미흑미:국내산) 오징어찌개  쇠불고기 (쇠고기:호주산) 계란찜 ...   \n",
       "1  쌀밥/잡곡밥 (쌀,현미흑미:국내산) 김치찌개  가자미튀김  모둠소세지구이  마늘쫑무...   \n",
       "2  카레덮밥 (쌀,현미흑미:국내산) 팽이장국  치킨핑거 (닭고기:국내산) 쫄면야채무침 ...   \n",
       "3  쌀밥/잡곡밥 (쌀,현미흑미:국내산) 쇠고기무국  주꾸미볶음  부추전  시금치나물  ...   \n",
       "4  쌀밥/잡곡밥 (쌀,현미흑미:국내산) 떡국  돈육씨앗강정 (돼지고기:국내산) 우엉잡채...   \n",
       "\n",
       "                                                석식메뉴     중식계    석식계  \n",
       "0  쌀밥/잡곡밥 (쌀,현미흑미:국내산) 육개장  자반고등어구이  두부조림  건파래무침 ...  1039.0  331.0  \n",
       "1  콩나물밥*양념장 (쌀,현미흑미:국내산) 어묵국  유산슬 (쇠고기:호주산) 아삭고추무...   867.0  560.0  \n",
       "2  쌀밥/잡곡밥 (쌀,현미흑미:국내산) 청국장찌개  황태양념구이 (황태:러시아산) 고기...  1017.0  573.0  \n",
       "3  미니김밥*겨자장 (쌀,현미흑미:국내산) 우동  멕시칸샐러드  군고구마  무피클  포...   978.0  525.0  \n",
       "4  쌀밥/잡곡밥 (쌀,현미흑미:국내산) 차돌박이찌개 (쇠고기:호주산) 닭갈비 (닭고기:...   925.0  330.0  "
      ]
     },
     "execution_count": 3,
     "metadata": {},
     "output_type": "execute_result"
    }
   ],
   "source": [
    "print(\"컬럼명확인\\n\",train_df.columns.values)\n",
    "print(train_df.shape)\n",
    "train_df.head()"
   ]
  },
  {
   "cell_type": "code",
   "execution_count": 4,
   "metadata": {},
   "outputs": [],
   "source": [
    "for dataset in combine:\n",
    "    dataset.drop(['조식메뉴'],axis=1, inplace=True) \n",
    "\n",
    "\n"
   ]
  },
  {
   "cell_type": "markdown",
   "metadata": {},
   "source": [
    "**세미 홀리데이 만들기**\n",
    "\n",
    "기준 1. 석식계가 0인날(train 데이터에만 적용)\n",
    "(test 데이터는 문화의 날 없어졌으니 이 데이터 빼고 학습)"
   ]
  },
  {
   "cell_type": "code",
   "execution_count": 5,
   "metadata": {},
   "outputs": [
    {
     "name": "stdout",
     "output_type": "stream",
     "text": [
      "Int64Index([ 204,  224,  244,  262,  281,  306,  327,  346,  366,  392,  410,\n",
      "             412,  424,  449,  468,  492,  502,  510,  529,  549,  571,  589,\n",
      "             609,  633,  648,  667,  687,  706,  730,  747,  766,  786,  809,\n",
      "             828,  853,  872,  890,  912,  932,  955,  973,  993, 1166],\n",
      "           dtype='int64')\n",
      "(1162, 11)\n"
     ]
    }
   ],
   "source": [
    "\n",
    "# print(train_df[train_df['석식계']==0])\n",
    "idx_cultureday = train_df[train_df['석식계']==0].index\n",
    "print(idx_cultureday)\n",
    "train_df.drop(idx_cultureday,inplace=True)\n",
    "print(train_df.shape)"
   ]
  },
  {
   "cell_type": "markdown",
   "metadata": {},
   "source": [
    "휴가자수가 과도하게 많은날을 semiholiday 로 지정(피처 새로 만들기)"
   ]
  },
  {
   "cell_type": "code",
   "execution_count": 6,
   "metadata": {},
   "outputs": [],
   "source": [
    "#휴가자수가 과도하게 많은날을 semiholiday로 지정\n",
    "nintynine_percentile = train_df['본사휴가자수'].quantile(q=0.99, interpolation='nearest')\n",
    "for dataset in combine:\n",
    "    dataset['semiholiday'] = 0\n",
    "    dataset.loc[dataset['본사휴가자수']>nintynine_percentile,'semiholiday']=1\n",
    "  "
   ]
  },
  {
   "cell_type": "markdown",
   "metadata": {},
   "source": [
    "휴가자나 출장자는 점심 저녁중에 하나는 먹을 수도 있음. 따라서, 총 정원에서 재택근무자만 뺀걸로 새로운 피처 만들기"
   ]
  },
  {
   "cell_type": "code",
   "execution_count": 7,
   "metadata": {},
   "outputs": [],
   "source": [
    "for dataset in combine:\n",
    "    dataset['실근무자']= dataset['본사정원수']-dataset['현본사소속재택근무자수']\n",
    "  "
   ]
  },
  {
   "cell_type": "markdown",
   "metadata": {},
   "source": [
    "재택근무자수 10을 기준으로 애프터 코로나 기준 만들기"
   ]
  },
  {
   "cell_type": "code",
   "execution_count": 8,
   "metadata": {},
   "outputs": [],
   "source": [
    "for dataset in combine:\n",
    "    dataset['aftercorona'] = 0\n",
    "    dataset.loc[dataset['현본사소속재택근무자수']>10, 'aftercorona'] =1"
   ]
  },
  {
   "cell_type": "markdown",
   "metadata": {},
   "source": [
    "본사 정원 현본사 재택근무자수 피처 삭제"
   ]
  },
  {
   "cell_type": "code",
   "execution_count": 9,
   "metadata": {},
   "outputs": [],
   "source": [
    "for dataset in combine:\n",
    "    dataset.drop(['본사정원수','현본사소속재택근무자수'],axis=1, inplace=True)"
   ]
  },
  {
   "cell_type": "markdown",
   "metadata": {},
   "source": [
    "요일 원핫 인코딩"
   ]
  },
  {
   "cell_type": "code",
   "execution_count": 10,
   "metadata": {},
   "outputs": [],
   "source": [
    "sample1=pd.DataFrame(train_df['요일'])\n",
    "daycolumn1=pd.get_dummies(sample1)\n",
    "train_df1 = pd.concat([train_df,daycolumn1],axis=1)\n",
    "train_df= train_df1"
   ]
  },
  {
   "cell_type": "code",
   "execution_count": 11,
   "metadata": {},
   "outputs": [],
   "source": [
    "sample2=pd.DataFrame(test_df['요일'])\n",
    "daycolumn2=pd.get_dummies(sample2)\n",
    "test_df2 = pd.concat([test_df,daycolumn2],axis=1)\n",
    "test_df= test_df2"
   ]
  },
  {
   "cell_type": "code",
   "execution_count": 12,
   "metadata": {},
   "outputs": [
    {
     "name": "stdout",
     "output_type": "stream",
     "text": [
      "<class 'pandas.core.frame.DataFrame'>\n",
      "RangeIndex: 50 entries, 0 to 49\n",
      "Data columns (total 15 columns):\n",
      "일자                50 non-null object\n",
      "요일                50 non-null object\n",
      "본사휴가자수            50 non-null int64\n",
      "본사출장자수            50 non-null int64\n",
      "본사시간외근무명령서승인건수    50 non-null int64\n",
      "중식메뉴              50 non-null object\n",
      "석식메뉴              50 non-null object\n",
      "semiholiday       50 non-null int64\n",
      "실근무자              50 non-null float64\n",
      "aftercorona       50 non-null int64\n",
      "요일_금              50 non-null uint8\n",
      "요일_목              50 non-null uint8\n",
      "요일_수              50 non-null uint8\n",
      "요일_월              50 non-null uint8\n",
      "요일_화              50 non-null uint8\n",
      "dtypes: float64(1), int64(5), object(4), uint8(5)\n",
      "memory usage: 4.3+ KB\n"
     ]
    }
   ],
   "source": [
    "test_df.info()"
   ]
  },
  {
   "cell_type": "markdown",
   "metadata": {},
   "source": [
    "요일 피처 삭제"
   ]
  },
  {
   "cell_type": "code",
   "execution_count": 13,
   "metadata": {},
   "outputs": [],
   "source": [
    "train_df.drop(['요일'],axis=1, inplace=True)\n",
    "test_df.drop(['요일'],axis=1, inplace=True)"
   ]
  },
  {
   "cell_type": "code",
   "execution_count": 14,
   "metadata": {},
   "outputs": [],
   "source": [
    "train_df=train_df.rename(columns={'일자':'datetime'})\n",
    "test_df= test_df.rename(columns={'일자':'datetime'})"
   ]
  },
  {
   "cell_type": "markdown",
   "metadata": {},
   "source": [
    "월 데이터 추출 후 일자 데이터 삭제"
   ]
  },
  {
   "cell_type": "code",
   "execution_count": 15,
   "metadata": {},
   "outputs": [
    {
     "name": "stdout",
     "output_type": "stream",
     "text": [
      "<class 'pandas.core.frame.DataFrame'>\n",
      "Int64Index: 1162 entries, 0 to 1204\n",
      "Data columns (total 16 columns):\n",
      "datetime          1162 non-null datetime64[ns]\n",
      "본사휴가자수            1162 non-null int64\n",
      "본사출장자수            1162 non-null int64\n",
      "본사시간외근무명령서승인건수    1162 non-null int64\n",
      "중식메뉴              1162 non-null object\n",
      "석식메뉴              1162 non-null object\n",
      "중식계               1162 non-null float64\n",
      "석식계               1162 non-null float64\n",
      "semiholiday       1162 non-null int64\n",
      "실근무자              1162 non-null float64\n",
      "aftercorona       1162 non-null int64\n",
      "요일_금              1162 non-null uint8\n",
      "요일_목              1162 non-null uint8\n",
      "요일_수              1162 non-null uint8\n",
      "요일_월              1162 non-null uint8\n",
      "요일_화              1162 non-null uint8\n",
      "dtypes: datetime64[ns](1), float64(3), int64(5), object(2), uint8(5)\n",
      "memory usage: 114.6+ KB\n"
     ]
    }
   ],
   "source": [
    "train_df['datetime'] = train_df.datetime.apply(pd.to_datetime)\n",
    "train_df.info()"
   ]
  },
  {
   "cell_type": "code",
   "execution_count": 16,
   "metadata": {},
   "outputs": [
    {
     "name": "stdout",
     "output_type": "stream",
     "text": [
      "<class 'pandas.core.frame.DataFrame'>\n",
      "Int64Index: 1162 entries, 0 to 1204\n",
      "Data columns (total 17 columns):\n",
      "datetime          1162 non-null datetime64[ns]\n",
      "본사휴가자수            1162 non-null int64\n",
      "본사출장자수            1162 non-null int64\n",
      "본사시간외근무명령서승인건수    1162 non-null int64\n",
      "중식메뉴              1162 non-null object\n",
      "석식메뉴              1162 non-null object\n",
      "중식계               1162 non-null float64\n",
      "석식계               1162 non-null float64\n",
      "semiholiday       1162 non-null int64\n",
      "실근무자              1162 non-null float64\n",
      "aftercorona       1162 non-null int64\n",
      "요일_금              1162 non-null uint8\n",
      "요일_목              1162 non-null uint8\n",
      "요일_수              1162 non-null uint8\n",
      "요일_월              1162 non-null uint8\n",
      "요일_화              1162 non-null uint8\n",
      "month             1162 non-null int64\n",
      "dtypes: datetime64[ns](1), float64(3), int64(6), object(2), uint8(5)\n",
      "memory usage: 123.7+ KB\n",
      "None\n"
     ]
    },
    {
     "data": {
      "text/html": [
       "<div>\n",
       "<style scoped>\n",
       "    .dataframe tbody tr th:only-of-type {\n",
       "        vertical-align: middle;\n",
       "    }\n",
       "\n",
       "    .dataframe tbody tr th {\n",
       "        vertical-align: top;\n",
       "    }\n",
       "\n",
       "    .dataframe thead th {\n",
       "        text-align: right;\n",
       "    }\n",
       "</style>\n",
       "<table border=\"1\" class=\"dataframe\">\n",
       "  <thead>\n",
       "    <tr style=\"text-align: right;\">\n",
       "      <th></th>\n",
       "      <th>datetime</th>\n",
       "      <th>본사휴가자수</th>\n",
       "      <th>본사출장자수</th>\n",
       "      <th>본사시간외근무명령서승인건수</th>\n",
       "      <th>중식메뉴</th>\n",
       "      <th>석식메뉴</th>\n",
       "      <th>중식계</th>\n",
       "      <th>석식계</th>\n",
       "      <th>semiholiday</th>\n",
       "      <th>실근무자</th>\n",
       "      <th>aftercorona</th>\n",
       "      <th>요일_금</th>\n",
       "      <th>요일_목</th>\n",
       "      <th>요일_수</th>\n",
       "      <th>요일_월</th>\n",
       "      <th>요일_화</th>\n",
       "      <th>month</th>\n",
       "    </tr>\n",
       "  </thead>\n",
       "  <tbody>\n",
       "    <tr>\n",
       "      <td>0</td>\n",
       "      <td>2016-02-01</td>\n",
       "      <td>50</td>\n",
       "      <td>150</td>\n",
       "      <td>238</td>\n",
       "      <td>쌀밥/잡곡밥 (쌀,현미흑미:국내산) 오징어찌개  쇠불고기 (쇠고기:호주산) 계란찜 ...</td>\n",
       "      <td>쌀밥/잡곡밥 (쌀,현미흑미:국내산) 육개장  자반고등어구이  두부조림  건파래무침 ...</td>\n",
       "      <td>1039.0</td>\n",
       "      <td>331.0</td>\n",
       "      <td>0</td>\n",
       "      <td>2601.0</td>\n",
       "      <td>0</td>\n",
       "      <td>0</td>\n",
       "      <td>0</td>\n",
       "      <td>0</td>\n",
       "      <td>1</td>\n",
       "      <td>0</td>\n",
       "      <td>2</td>\n",
       "    </tr>\n",
       "    <tr>\n",
       "      <td>1</td>\n",
       "      <td>2016-02-02</td>\n",
       "      <td>50</td>\n",
       "      <td>173</td>\n",
       "      <td>319</td>\n",
       "      <td>쌀밥/잡곡밥 (쌀,현미흑미:국내산) 김치찌개  가자미튀김  모둠소세지구이  마늘쫑무...</td>\n",
       "      <td>콩나물밥*양념장 (쌀,현미흑미:국내산) 어묵국  유산슬 (쇠고기:호주산) 아삭고추무...</td>\n",
       "      <td>867.0</td>\n",
       "      <td>560.0</td>\n",
       "      <td>0</td>\n",
       "      <td>2601.0</td>\n",
       "      <td>0</td>\n",
       "      <td>0</td>\n",
       "      <td>0</td>\n",
       "      <td>0</td>\n",
       "      <td>0</td>\n",
       "      <td>1</td>\n",
       "      <td>2</td>\n",
       "    </tr>\n",
       "    <tr>\n",
       "      <td>2</td>\n",
       "      <td>2016-02-03</td>\n",
       "      <td>56</td>\n",
       "      <td>180</td>\n",
       "      <td>111</td>\n",
       "      <td>카레덮밥 (쌀,현미흑미:국내산) 팽이장국  치킨핑거 (닭고기:국내산) 쫄면야채무침 ...</td>\n",
       "      <td>쌀밥/잡곡밥 (쌀,현미흑미:국내산) 청국장찌개  황태양념구이 (황태:러시아산) 고기...</td>\n",
       "      <td>1017.0</td>\n",
       "      <td>573.0</td>\n",
       "      <td>0</td>\n",
       "      <td>2601.0</td>\n",
       "      <td>0</td>\n",
       "      <td>0</td>\n",
       "      <td>0</td>\n",
       "      <td>1</td>\n",
       "      <td>0</td>\n",
       "      <td>0</td>\n",
       "      <td>2</td>\n",
       "    </tr>\n",
       "  </tbody>\n",
       "</table>\n",
       "</div>"
      ],
      "text/plain": [
       "    datetime  본사휴가자수  본사출장자수  본사시간외근무명령서승인건수  \\\n",
       "0 2016-02-01      50     150             238   \n",
       "1 2016-02-02      50     173             319   \n",
       "2 2016-02-03      56     180             111   \n",
       "\n",
       "                                                중식메뉴  \\\n",
       "0  쌀밥/잡곡밥 (쌀,현미흑미:국내산) 오징어찌개  쇠불고기 (쇠고기:호주산) 계란찜 ...   \n",
       "1  쌀밥/잡곡밥 (쌀,현미흑미:국내산) 김치찌개  가자미튀김  모둠소세지구이  마늘쫑무...   \n",
       "2  카레덮밥 (쌀,현미흑미:국내산) 팽이장국  치킨핑거 (닭고기:국내산) 쫄면야채무침 ...   \n",
       "\n",
       "                                                석식메뉴     중식계    석식계  \\\n",
       "0  쌀밥/잡곡밥 (쌀,현미흑미:국내산) 육개장  자반고등어구이  두부조림  건파래무침 ...  1039.0  331.0   \n",
       "1  콩나물밥*양념장 (쌀,현미흑미:국내산) 어묵국  유산슬 (쇠고기:호주산) 아삭고추무...   867.0  560.0   \n",
       "2  쌀밥/잡곡밥 (쌀,현미흑미:국내산) 청국장찌개  황태양념구이 (황태:러시아산) 고기...  1017.0  573.0   \n",
       "\n",
       "   semiholiday    실근무자  aftercorona  요일_금  요일_목  요일_수  요일_월  요일_화  month  \n",
       "0            0  2601.0            0     0     0     0     1     0      2  \n",
       "1            0  2601.0            0     0     0     0     0     1      2  \n",
       "2            0  2601.0            0     0     0     1     0     0      2  "
      ]
     },
     "execution_count": 16,
     "metadata": {},
     "output_type": "execute_result"
    }
   ],
   "source": [
    "train_df['month'] = train_df.datetime.apply(lambda x : x.month)\n",
    "print(train_df.info())\n",
    "train_df.head(3)"
   ]
  },
  {
   "cell_type": "code",
   "execution_count": 17,
   "metadata": {},
   "outputs": [
    {
     "name": "stdout",
     "output_type": "stream",
     "text": [
      "<class 'pandas.core.frame.DataFrame'>\n",
      "RangeIndex: 50 entries, 0 to 49\n",
      "Data columns (total 15 columns):\n",
      "datetime          50 non-null datetime64[ns]\n",
      "본사휴가자수            50 non-null int64\n",
      "본사출장자수            50 non-null int64\n",
      "본사시간외근무명령서승인건수    50 non-null int64\n",
      "중식메뉴              50 non-null object\n",
      "석식메뉴              50 non-null object\n",
      "semiholiday       50 non-null int64\n",
      "실근무자              50 non-null float64\n",
      "aftercorona       50 non-null int64\n",
      "요일_금              50 non-null uint8\n",
      "요일_목              50 non-null uint8\n",
      "요일_수              50 non-null uint8\n",
      "요일_월              50 non-null uint8\n",
      "요일_화              50 non-null uint8\n",
      "month             50 non-null int64\n",
      "dtypes: datetime64[ns](1), float64(1), int64(6), object(2), uint8(5)\n",
      "memory usage: 4.3+ KB\n",
      "None\n"
     ]
    },
    {
     "data": {
      "text/html": [
       "<div>\n",
       "<style scoped>\n",
       "    .dataframe tbody tr th:only-of-type {\n",
       "        vertical-align: middle;\n",
       "    }\n",
       "\n",
       "    .dataframe tbody tr th {\n",
       "        vertical-align: top;\n",
       "    }\n",
       "\n",
       "    .dataframe thead th {\n",
       "        text-align: right;\n",
       "    }\n",
       "</style>\n",
       "<table border=\"1\" class=\"dataframe\">\n",
       "  <thead>\n",
       "    <tr style=\"text-align: right;\">\n",
       "      <th></th>\n",
       "      <th>datetime</th>\n",
       "      <th>본사휴가자수</th>\n",
       "      <th>본사출장자수</th>\n",
       "      <th>본사시간외근무명령서승인건수</th>\n",
       "      <th>중식메뉴</th>\n",
       "      <th>석식메뉴</th>\n",
       "      <th>중식계</th>\n",
       "      <th>석식계</th>\n",
       "      <th>semiholiday</th>\n",
       "      <th>실근무자</th>\n",
       "      <th>aftercorona</th>\n",
       "      <th>요일_금</th>\n",
       "      <th>요일_목</th>\n",
       "      <th>요일_수</th>\n",
       "      <th>요일_월</th>\n",
       "      <th>요일_화</th>\n",
       "      <th>month</th>\n",
       "    </tr>\n",
       "  </thead>\n",
       "  <tbody>\n",
       "    <tr>\n",
       "      <td>0</td>\n",
       "      <td>2016-02-01</td>\n",
       "      <td>50</td>\n",
       "      <td>150</td>\n",
       "      <td>238</td>\n",
       "      <td>쌀밥/잡곡밥 (쌀,현미흑미:국내산) 오징어찌개  쇠불고기 (쇠고기:호주산) 계란찜 ...</td>\n",
       "      <td>쌀밥/잡곡밥 (쌀,현미흑미:국내산) 육개장  자반고등어구이  두부조림  건파래무침 ...</td>\n",
       "      <td>1039.0</td>\n",
       "      <td>331.0</td>\n",
       "      <td>0</td>\n",
       "      <td>2601.0</td>\n",
       "      <td>0</td>\n",
       "      <td>0</td>\n",
       "      <td>0</td>\n",
       "      <td>0</td>\n",
       "      <td>1</td>\n",
       "      <td>0</td>\n",
       "      <td>2</td>\n",
       "    </tr>\n",
       "    <tr>\n",
       "      <td>1</td>\n",
       "      <td>2016-02-02</td>\n",
       "      <td>50</td>\n",
       "      <td>173</td>\n",
       "      <td>319</td>\n",
       "      <td>쌀밥/잡곡밥 (쌀,현미흑미:국내산) 김치찌개  가자미튀김  모둠소세지구이  마늘쫑무...</td>\n",
       "      <td>콩나물밥*양념장 (쌀,현미흑미:국내산) 어묵국  유산슬 (쇠고기:호주산) 아삭고추무...</td>\n",
       "      <td>867.0</td>\n",
       "      <td>560.0</td>\n",
       "      <td>0</td>\n",
       "      <td>2601.0</td>\n",
       "      <td>0</td>\n",
       "      <td>0</td>\n",
       "      <td>0</td>\n",
       "      <td>0</td>\n",
       "      <td>0</td>\n",
       "      <td>1</td>\n",
       "      <td>2</td>\n",
       "    </tr>\n",
       "    <tr>\n",
       "      <td>2</td>\n",
       "      <td>2016-02-03</td>\n",
       "      <td>56</td>\n",
       "      <td>180</td>\n",
       "      <td>111</td>\n",
       "      <td>카레덮밥 (쌀,현미흑미:국내산) 팽이장국  치킨핑거 (닭고기:국내산) 쫄면야채무침 ...</td>\n",
       "      <td>쌀밥/잡곡밥 (쌀,현미흑미:국내산) 청국장찌개  황태양념구이 (황태:러시아산) 고기...</td>\n",
       "      <td>1017.0</td>\n",
       "      <td>573.0</td>\n",
       "      <td>0</td>\n",
       "      <td>2601.0</td>\n",
       "      <td>0</td>\n",
       "      <td>0</td>\n",
       "      <td>0</td>\n",
       "      <td>1</td>\n",
       "      <td>0</td>\n",
       "      <td>0</td>\n",
       "      <td>2</td>\n",
       "    </tr>\n",
       "  </tbody>\n",
       "</table>\n",
       "</div>"
      ],
      "text/plain": [
       "    datetime  본사휴가자수  본사출장자수  본사시간외근무명령서승인건수  \\\n",
       "0 2016-02-01      50     150             238   \n",
       "1 2016-02-02      50     173             319   \n",
       "2 2016-02-03      56     180             111   \n",
       "\n",
       "                                                중식메뉴  \\\n",
       "0  쌀밥/잡곡밥 (쌀,현미흑미:국내산) 오징어찌개  쇠불고기 (쇠고기:호주산) 계란찜 ...   \n",
       "1  쌀밥/잡곡밥 (쌀,현미흑미:국내산) 김치찌개  가자미튀김  모둠소세지구이  마늘쫑무...   \n",
       "2  카레덮밥 (쌀,현미흑미:국내산) 팽이장국  치킨핑거 (닭고기:국내산) 쫄면야채무침 ...   \n",
       "\n",
       "                                                석식메뉴     중식계    석식계  \\\n",
       "0  쌀밥/잡곡밥 (쌀,현미흑미:국내산) 육개장  자반고등어구이  두부조림  건파래무침 ...  1039.0  331.0   \n",
       "1  콩나물밥*양념장 (쌀,현미흑미:국내산) 어묵국  유산슬 (쇠고기:호주산) 아삭고추무...   867.0  560.0   \n",
       "2  쌀밥/잡곡밥 (쌀,현미흑미:국내산) 청국장찌개  황태양념구이 (황태:러시아산) 고기...  1017.0  573.0   \n",
       "\n",
       "   semiholiday    실근무자  aftercorona  요일_금  요일_목  요일_수  요일_월  요일_화  month  \n",
       "0            0  2601.0            0     0     0     0     1     0      2  \n",
       "1            0  2601.0            0     0     0     0     0     1      2  \n",
       "2            0  2601.0            0     0     0     1     0     0      2  "
      ]
     },
     "execution_count": 17,
     "metadata": {},
     "output_type": "execute_result"
    }
   ],
   "source": [
    "test_df['datetime'] = test_df.datetime.apply(pd.to_datetime)\n",
    "test_df['month'] = test_df.datetime.apply(lambda x : x.month)\n",
    "print(test_df.info())\n",
    "train_df.head(3)"
   ]
  },
  {
   "cell_type": "code",
   "execution_count": 18,
   "metadata": {},
   "outputs": [],
   "source": [
    "train_df.drop(['datetime'],axis=1, inplace=True)\n",
    "test_df.drop(['datetime'],axis=1, inplace=True)\n",
    "\n"
   ]
  },
  {
   "cell_type": "code",
   "execution_count": 19,
   "metadata": {},
   "outputs": [
    {
     "name": "stdout",
     "output_type": "stream",
     "text": [
      "<class 'pandas.core.frame.DataFrame'>\n",
      "Int64Index: 1162 entries, 0 to 1204\n",
      "Data columns (total 16 columns):\n",
      "본사휴가자수            1162 non-null int64\n",
      "본사출장자수            1162 non-null int64\n",
      "본사시간외근무명령서승인건수    1162 non-null int64\n",
      "중식메뉴              1162 non-null object\n",
      "석식메뉴              1162 non-null object\n",
      "중식계               1162 non-null float64\n",
      "석식계               1162 non-null float64\n",
      "semiholiday       1162 non-null int64\n",
      "실근무자              1162 non-null float64\n",
      "aftercorona       1162 non-null int64\n",
      "요일_금              1162 non-null uint8\n",
      "요일_목              1162 non-null uint8\n",
      "요일_수              1162 non-null uint8\n",
      "요일_월              1162 non-null uint8\n",
      "요일_화              1162 non-null uint8\n",
      "month             1162 non-null int64\n",
      "dtypes: float64(3), int64(6), object(2), uint8(5)\n",
      "memory usage: 114.6+ KB\n"
     ]
    }
   ],
   "source": [
    "train_df.info()"
   ]
  },
  {
   "cell_type": "markdown",
   "metadata": {},
   "source": [
    "메뉴 데이터 처리\n",
    "점심,저녁 train\n",
    "점심 저녁 test순"
   ]
  },
  {
   "cell_type": "markdown",
   "metadata": {},
   "source": [
    "점심 저녁 train 데이터"
   ]
  },
  {
   "cell_type": "code",
   "execution_count": 20,
   "metadata": {},
   "outputs": [],
   "source": [
    "# 일별 점심메뉴를 작은 리스트로 갖고 있는 큰 리스트 (lunch) 만들기 \n",
    "lunch = []\n",
    "dinner = []\n",
    "for day in range(len(train_df)):\n",
    "    tmp_lun = train_df.iloc[day, 3].split(' ') # 공백으로 문자열 구분 \n",
    "    tmp_lun = ' '.join(tmp_lun).split()    # 빈 원소 삭제\n",
    "    tmp_din = train_df.iloc[day, 4].split(' ') # 공백으로 문자열 구분 \n",
    "    tmp_din = ' '.join(tmp_din).split()    # 빈 원소 삭제\n",
    "    \n",
    "    \n",
    "    search = '('   # 원산지 정보는 삭제\n",
    "    for menu in tmp_lun:\n",
    "        if search in menu:\n",
    "            tmp_lun.remove(menu)\n",
    "    lunch.append(tmp_lun) \n",
    "    \n",
    "    search = '('   # 원산지 정보는 삭제\n",
    "    for menu in tmp_din:\n",
    "        if search in menu:\n",
    "            tmp_din.remove(menu)\n",
    "    dinner.append(tmp_din) "
   ]
  },
  {
   "cell_type": "code",
   "execution_count": 21,
   "metadata": {},
   "outputs": [
    {
     "name": "stdout",
     "output_type": "stream",
     "text": [
      "['쌀밥/잡곡밥', '냉모밀국수', '매운돈갈비찜', '메밀전병*간장', '고구마순볶음', '포기김치', '양상추샐러드*딸기요거트']\n",
      "[['쌀밥/잡곡밥', '육개장', '자반고등어구이', '두부조림', '건파래무침', '포기김치'], ['콩나물밥*양념장', '어묵국', '유산슬', '아삭고추무침', '바나나', '포기김치'], ['쌀밥/잡곡밥', '청국장찌개', '황태양념구이', '고기전', '새송이버섯볶음', '포기김치'], ['미니김밥*겨자장', '우동', '멕시칸샐러드', '군고구마', '무피클', '포기김치'], ['쌀밥/잡곡밥', '차돌박이찌개', '닭갈비', '감자소세지볶음', '콩나물무침', '포기김치']]\n"
     ]
    }
   ],
   "source": [
    "print(lunch[1025])\n",
    "print(dinner[0:5])"
   ]
  },
  {
   "cell_type": "code",
   "execution_count": 22,
   "metadata": {},
   "outputs": [
    {
     "name": "stdout",
     "output_type": "stream",
     "text": [
      "<class 'pandas.core.frame.DataFrame'>\n",
      "RangeIndex: 50 entries, 0 to 49\n",
      "Data columns (total 14 columns):\n",
      "본사휴가자수            50 non-null int64\n",
      "본사출장자수            50 non-null int64\n",
      "본사시간외근무명령서승인건수    50 non-null int64\n",
      "중식메뉴              50 non-null object\n",
      "석식메뉴              50 non-null object\n",
      "semiholiday       50 non-null int64\n",
      "실근무자              50 non-null float64\n",
      "aftercorona       50 non-null int64\n",
      "요일_금              50 non-null uint8\n",
      "요일_목              50 non-null uint8\n",
      "요일_수              50 non-null uint8\n",
      "요일_월              50 non-null uint8\n",
      "요일_화              50 non-null uint8\n",
      "month             50 non-null int64\n",
      "dtypes: float64(1), int64(6), object(2), uint8(5)\n",
      "memory usage: 3.9+ KB\n"
     ]
    }
   ],
   "source": [
    "test_df.info()"
   ]
  },
  {
   "cell_type": "code",
   "execution_count": 23,
   "metadata": {},
   "outputs": [],
   "source": [
    "# 일별 점심메뉴를 작은 리스트로 갖고 있는 큰 리스트 (lunch) 만들기 \n",
    "lunch_test = []\n",
    "dinner_test = []\n",
    "for day in range(len(test_df)):\n",
    "    tmp_lun = test_df.iloc[day, 3].split(' ') # 공백으로 문자열 구분 \n",
    "    tmp_lun = ' '.join(tmp_lun).split()    # 빈 원소 삭제\n",
    "    tmp_din = test_df.iloc[day, 4].split(' ') # 공백으로 문자열 구분 \n",
    "    tmp_din = ' '.join(tmp_din).split()    # 빈 원소 삭제\n",
    "    \n",
    "    \n",
    "    search = '('   # 원산지 정보는 삭제\n",
    "    for menu in tmp_lun:\n",
    "        if search in menu:\n",
    "            tmp_lun.remove(menu)\n",
    "    lunch_test.append(tmp_lun) \n",
    "    \n",
    "    search = '('   # 원산지 정보는 삭제\n",
    "    for menu in tmp_din:\n",
    "        if search in menu:\n",
    "            tmp_din.remove(menu)\n",
    "    dinner_test.append(tmp_din) "
   ]
  },
  {
   "cell_type": "code",
   "execution_count": 24,
   "metadata": {},
   "outputs": [
    {
     "name": "stdout",
     "output_type": "stream",
     "text": [
      "[['쌀밥/흑미밥/찰현미밥', '대구지리', '매운돈갈비찜', '오꼬노미계란말이', '상추무침', '포기김치', '양상추샐러드*딸기D'], ['쌀밥/보리밥/찰현미밥', '우렁된장찌개', '오리주물럭', '청양부추전', '수제삼색무쌈', '겉절이김치', '양상추샐러드*오미자D'], ['쌀밥/흑미밥/찰현미밥', '팽이장국', '수제돈까스*소스', '가자미조림', '동초나물무침', '포기김치', '양상추샐러드*파인요거트D'], ['쌀밥/흑미밥/찰현미밥', '배추들깨국', '오리대패불고기', '시금치프리타타', '부추고추장무침', '포기김치', '양상추샐러드*망고D'], ['쌀밥/팥밥/찰현미밥', '부대찌개', '닭살데리야끼조림', '버섯탕수', '세발나물무침', '알타리김치/사과푸딩', '양상추샐러드*오리엔탈D']]\n"
     ]
    }
   ],
   "source": [
    "print(lunch_test[0:5])"
   ]
  },
  {
   "cell_type": "markdown",
   "metadata": {},
   "source": [
    "문자열(띄어쓰기로) 구성된 tf-idf 전 전처리 완료 상태로 만들기"
   ]
  },
  {
   "cell_type": "code",
   "execution_count": 61,
   "metadata": {},
   "outputs": [],
   "source": [
    "def toalist(time):\n",
    "    sample= []\n",
    "    for i in time:\n",
    "        a = \" \".join(i)\n",
    "        sample.append(a)\n",
    "    sample2=[]\n",
    "    for i in sample:\n",
    "        if i.find(\"/\"):\n",
    "            i = i.replace(\"/\",\" \")\n",
    "        if i.find(\"*\"):\n",
    "            i = i.replace(\"*\",\" \")\n",
    "        if i.find(\"&\"):\n",
    "            i = i.replace(\"&\",\" \")\n",
    "        sample2.append(i)\n",
    "    return sample2"
   ]
  },
  {
   "cell_type": "code",
   "execution_count": 62,
   "metadata": {},
   "outputs": [],
   "source": [
    "ln_tr = toalist(lunch)\n",
    "dn_tr = toalist(dinner)\n",
    "ln_te = toalist(lunch_test) \n",
    "dn_te = toalist(dinner_test)"
   ]
  },
  {
   "cell_type": "code",
   "execution_count": 55,
   "metadata": {},
   "outputs": [
    {
     "name": "stdout",
     "output_type": "stream",
     "text": [
      "<class 'pandas.core.frame.DataFrame'>\n",
      "RangeIndex: 1162 entries, 0 to 1161\n",
      "Data columns (total 1 columns):\n",
      "0    1162 non-null object\n",
      "dtypes: object(1)\n",
      "memory usage: 9.2+ KB\n",
      "None\n"
     ]
    }
   ],
   "source": [
    "print(ln_tr.info())"
   ]
  },
  {
   "cell_type": "code",
   "execution_count": 56,
   "metadata": {},
   "outputs": [],
   "source": [
    "\n",
    "ln_tr = [str (item) for item in ln_tr]\n",
    "ln_te = [str (item) for item in ln_te]"
   ]
  },
  {
   "cell_type": "code",
   "execution_count": 64,
   "metadata": {},
   "outputs": [
    {
     "name": "stdout",
     "output_type": "stream",
     "text": [
      "(1162, 1579) (50, 1579)\n"
     ]
    }
   ],
   "source": [
    "from sklearn.feature_extraction.text import TfidfVectorizer\n",
    "\n",
    "tfidf_vect = TfidfVectorizer()\n",
    "tfidf_vect.fit(ln_tr)\n",
    "ln_tr_tfidf_vect = tfidf_vect.transform(ln_tr)\n",
    "ln_te_tfidf_vect = tfidf_vect.transform(ln_te)\n",
    "\n",
    "print(ln_tr_tfidf_vect.shape,ln_te_tfidf_vect.shape )"
   ]
  },
  {
   "cell_type": "code",
   "execution_count": 65,
   "metadata": {},
   "outputs": [
    {
     "name": "stdout",
     "output_type": "stream",
     "text": [
      "(1162, 1532) (50, 1532)\n"
     ]
    }
   ],
   "source": [
    "tfidf_vect2 = TfidfVectorizer()\n",
    "tfidf_vect2.fit(dn_tr)\n",
    "dn_tr_tfidf_vect = tfidf_vect2.transform(dn_tr)\n",
    "dn_te_tfidf_vect = tfidf_vect2.transform(dn_te)\n",
    "\n",
    "print(dn_tr_tfidf_vect.shape,dn_te_tfidf_vect.shape )"
   ]
  },
  {
   "cell_type": "code",
   "execution_count": 71,
   "metadata": {},
   "outputs": [
    {
     "data": {
      "text/plain": [
       "<1162x1579 sparse matrix of type '<class 'numpy.float64'>'\n",
       "\twith 8826 stored elements in Compressed Sparse Row format>"
      ]
     },
     "execution_count": 71,
     "metadata": {},
     "output_type": "execute_result"
    }
   ],
   "source": [
    "ln_tr_tfidf_vect"
   ]
  },
  {
   "cell_type": "markdown",
   "metadata": {},
   "source": [
    "기본적으로 test데이터랑 train데이터에 메뉴들이 다 담기긴 함."
   ]
  },
  {
   "cell_type": "code",
   "execution_count": null,
   "metadata": {},
   "outputs": [],
   "source": [
    "#eda해준 코드를 이용해볼까하다가, 디너는 또 다르고, 고려해야할 요인이 많아 변수도 너무 많아서, tf-idf 쓰는게 괜찮을 거라 생각, 어디에나 있는 밥\n",
    "#이런거는 덜 처리될거고, /랑 *  처리만 다시해서 리스트로 만든담에 걍 tf-idf 돌리는게 쉬울듯 낼하자(쌀밥 이런거 좀 감소될듯)\n",
    "#그런담에 점심 저녁 트레인 데이터(컬럼명 변경한거에), 점심저녁 테스트 데이터 (컬럼명 변경한거) 만들고\n",
    "# 그중에 쓸 피처만 골라서 train_ln train_dn test_ln test_dn 만들고, 거기에 각각tf-idf로 만든 피처 추가하고\n",
    "# 그렇게 된걸로 모델돌리기(선형회귀, lightgbm ,xgbooost 이런걸로 대충돌리고 예측값 도출시키자)\n"
   ]
  },
  {
   "cell_type": "code",
   "execution_count": 72,
   "metadata": {},
   "outputs": [
    {
     "data": {
      "text/html": [
       "<div>\n",
       "<style scoped>\n",
       "    .dataframe tbody tr th:only-of-type {\n",
       "        vertical-align: middle;\n",
       "    }\n",
       "\n",
       "    .dataframe tbody tr th {\n",
       "        vertical-align: top;\n",
       "    }\n",
       "\n",
       "    .dataframe thead th {\n",
       "        text-align: right;\n",
       "    }\n",
       "</style>\n",
       "<table border=\"1\" class=\"dataframe\">\n",
       "  <thead>\n",
       "    <tr style=\"text-align: right;\">\n",
       "      <th></th>\n",
       "      <th>dayoff</th>\n",
       "      <th>bustrip</th>\n",
       "      <th>ovtime</th>\n",
       "      <th>ln</th>\n",
       "      <th>dn</th>\n",
       "      <th>target_ln</th>\n",
       "      <th>target_dn</th>\n",
       "      <th>semiholiday</th>\n",
       "      <th>networker</th>\n",
       "      <th>aftercorona</th>\n",
       "      <th>fri</th>\n",
       "      <th>thu</th>\n",
       "      <th>wed</th>\n",
       "      <th>mon</th>\n",
       "      <th>tue</th>\n",
       "      <th>month</th>\n",
       "    </tr>\n",
       "  </thead>\n",
       "  <tbody>\n",
       "    <tr>\n",
       "      <td>0</td>\n",
       "      <td>50</td>\n",
       "      <td>150</td>\n",
       "      <td>238</td>\n",
       "      <td>쌀밥/잡곡밥 (쌀,현미흑미:국내산) 오징어찌개  쇠불고기 (쇠고기:호주산) 계란찜 ...</td>\n",
       "      <td>쌀밥/잡곡밥 (쌀,현미흑미:국내산) 육개장  자반고등어구이  두부조림  건파래무침 ...</td>\n",
       "      <td>1039.0</td>\n",
       "      <td>331.0</td>\n",
       "      <td>0</td>\n",
       "      <td>2601.0</td>\n",
       "      <td>0</td>\n",
       "      <td>0</td>\n",
       "      <td>0</td>\n",
       "      <td>0</td>\n",
       "      <td>1</td>\n",
       "      <td>0</td>\n",
       "      <td>2</td>\n",
       "    </tr>\n",
       "    <tr>\n",
       "      <td>1</td>\n",
       "      <td>50</td>\n",
       "      <td>173</td>\n",
       "      <td>319</td>\n",
       "      <td>쌀밥/잡곡밥 (쌀,현미흑미:국내산) 김치찌개  가자미튀김  모둠소세지구이  마늘쫑무...</td>\n",
       "      <td>콩나물밥*양념장 (쌀,현미흑미:국내산) 어묵국  유산슬 (쇠고기:호주산) 아삭고추무...</td>\n",
       "      <td>867.0</td>\n",
       "      <td>560.0</td>\n",
       "      <td>0</td>\n",
       "      <td>2601.0</td>\n",
       "      <td>0</td>\n",
       "      <td>0</td>\n",
       "      <td>0</td>\n",
       "      <td>0</td>\n",
       "      <td>0</td>\n",
       "      <td>1</td>\n",
       "      <td>2</td>\n",
       "    </tr>\n",
       "  </tbody>\n",
       "</table>\n",
       "</div>"
      ],
      "text/plain": [
       "   dayoff  bustrip  ovtime                                                 ln  \\\n",
       "0      50      150     238  쌀밥/잡곡밥 (쌀,현미흑미:국내산) 오징어찌개  쇠불고기 (쇠고기:호주산) 계란찜 ...   \n",
       "1      50      173     319  쌀밥/잡곡밥 (쌀,현미흑미:국내산) 김치찌개  가자미튀김  모둠소세지구이  마늘쫑무...   \n",
       "\n",
       "                                                  dn  target_ln  target_dn  \\\n",
       "0  쌀밥/잡곡밥 (쌀,현미흑미:국내산) 육개장  자반고등어구이  두부조림  건파래무침 ...     1039.0      331.0   \n",
       "1  콩나물밥*양념장 (쌀,현미흑미:국내산) 어묵국  유산슬 (쇠고기:호주산) 아삭고추무...      867.0      560.0   \n",
       "\n",
       "   semiholiday  networker  aftercorona  fri  thu  wed  mon  tue  month  \n",
       "0            0     2601.0            0    0    0    0    1    0      2  \n",
       "1            0     2601.0            0    0    0    0    0    1      2  "
      ]
     },
     "execution_count": 72,
     "metadata": {},
     "output_type": "execute_result"
    }
   ],
   "source": [
    "train = train_df.copy()\n",
    "train.columns = ['dayoff', 'bustrip', 'ovtime', 'ln', 'dn', 'target_ln','target_dn', 'semiholiday', 'networker', 'aftercorona', 'fri', 'thu', 'wed','mon','tue','month']\n",
    "train.head(2)\n",
    "\n",
    "\n"
   ]
  },
  {
   "cell_type": "code",
   "execution_count": 73,
   "metadata": {},
   "outputs": [
    {
     "data": {
      "text/html": [
       "<div>\n",
       "<style scoped>\n",
       "    .dataframe tbody tr th:only-of-type {\n",
       "        vertical-align: middle;\n",
       "    }\n",
       "\n",
       "    .dataframe tbody tr th {\n",
       "        vertical-align: top;\n",
       "    }\n",
       "\n",
       "    .dataframe thead th {\n",
       "        text-align: right;\n",
       "    }\n",
       "</style>\n",
       "<table border=\"1\" class=\"dataframe\">\n",
       "  <thead>\n",
       "    <tr style=\"text-align: right;\">\n",
       "      <th></th>\n",
       "      <th>dayoff</th>\n",
       "      <th>bustrip</th>\n",
       "      <th>ovtime</th>\n",
       "      <th>ln</th>\n",
       "      <th>dn</th>\n",
       "      <th>semiholiday</th>\n",
       "      <th>networker</th>\n",
       "      <th>aftercorona</th>\n",
       "      <th>fri</th>\n",
       "      <th>thu</th>\n",
       "      <th>wed</th>\n",
       "      <th>mon</th>\n",
       "      <th>tue</th>\n",
       "      <th>month</th>\n",
       "    </tr>\n",
       "  </thead>\n",
       "  <tbody>\n",
       "    <tr>\n",
       "      <td>0</td>\n",
       "      <td>88</td>\n",
       "      <td>182</td>\n",
       "      <td>5</td>\n",
       "      <td>쌀밥/흑미밥/찰현미밥 대구지리 매운돈갈비찜 오꼬노미계란말이 상추무침 포기김치 양상추...</td>\n",
       "      <td>흑미밥 얼큰순두부찌개 쇠고기우엉볶음 버섯햄볶음 (New)아삭이고추무절임 포기김치</td>\n",
       "      <td>0</td>\n",
       "      <td>2625.0</td>\n",
       "      <td>1</td>\n",
       "      <td>0</td>\n",
       "      <td>0</td>\n",
       "      <td>1</td>\n",
       "      <td>0</td>\n",
       "      <td>0</td>\n",
       "      <td>1</td>\n",
       "    </tr>\n",
       "    <tr>\n",
       "      <td>1</td>\n",
       "      <td>104</td>\n",
       "      <td>212</td>\n",
       "      <td>409</td>\n",
       "      <td>쌀밥/보리밥/찰현미밥 우렁된장찌개 오리주물럭 청양부추전 수제삼색무쌈 겉절이김치 양상...</td>\n",
       "      <td>충무김밥 우동국물 오징어무침 꽃맛살샐러드 얼갈이쌈장무침 석박지</td>\n",
       "      <td>0</td>\n",
       "      <td>2635.0</td>\n",
       "      <td>1</td>\n",
       "      <td>0</td>\n",
       "      <td>1</td>\n",
       "      <td>0</td>\n",
       "      <td>0</td>\n",
       "      <td>0</td>\n",
       "      <td>1</td>\n",
       "    </tr>\n",
       "  </tbody>\n",
       "</table>\n",
       "</div>"
      ],
      "text/plain": [
       "   dayoff  bustrip  ovtime                                                 ln  \\\n",
       "0      88      182       5  쌀밥/흑미밥/찰현미밥 대구지리 매운돈갈비찜 오꼬노미계란말이 상추무침 포기김치 양상추...   \n",
       "1     104      212     409  쌀밥/보리밥/찰현미밥 우렁된장찌개 오리주물럭 청양부추전 수제삼색무쌈 겉절이김치 양상...   \n",
       "\n",
       "                                              dn  semiholiday  networker  \\\n",
       "0  흑미밥 얼큰순두부찌개 쇠고기우엉볶음 버섯햄볶음 (New)아삭이고추무절임 포기김치             0     2625.0   \n",
       "1            충무김밥 우동국물 오징어무침 꽃맛살샐러드 얼갈이쌈장무침 석박지             0     2635.0   \n",
       "\n",
       "   aftercorona  fri  thu  wed  mon  tue  month  \n",
       "0            1    0    0    1    0    0      1  \n",
       "1            1    0    1    0    0    0      1  "
      ]
     },
     "execution_count": 73,
     "metadata": {},
     "output_type": "execute_result"
    }
   ],
   "source": [
    "test = test_df.copy()\n",
    "test.columns = ['dayoff', 'bustrip', 'ovtime', 'ln', 'dn', 'semiholiday', 'networker', 'aftercorona', 'fri', 'thu', 'wed','mon','tue','month']\n",
    "test.head(2)"
   ]
  },
  {
   "cell_type": "markdown",
   "metadata": {},
   "source": [
    "점심 예측 모델 데이터 만들기(tf-idf)"
   ]
  },
  {
   "cell_type": "code",
   "execution_count": 74,
   "metadata": {},
   "outputs": [],
   "source": [
    "train_ln = train.drop(['ln','dn','target_dn'],axis=1)\n",
    "test_ln = test.drop(['ln','dn'],axis=1)\n",
    "train_dn = train.drop(['ln','dn','target_ln'],axis=1)\n",
    "test_dn = test.drop(['ln','dn'],axis=1)"
   ]
  },
  {
   "cell_type": "code",
   "execution_count": 75,
   "metadata": {},
   "outputs": [
    {
     "data": {
      "text/html": [
       "<div>\n",
       "<style scoped>\n",
       "    .dataframe tbody tr th:only-of-type {\n",
       "        vertical-align: middle;\n",
       "    }\n",
       "\n",
       "    .dataframe tbody tr th {\n",
       "        vertical-align: top;\n",
       "    }\n",
       "\n",
       "    .dataframe thead th {\n",
       "        text-align: right;\n",
       "    }\n",
       "</style>\n",
       "<table border=\"1\" class=\"dataframe\">\n",
       "  <thead>\n",
       "    <tr style=\"text-align: right;\">\n",
       "      <th></th>\n",
       "      <th>dayoff</th>\n",
       "      <th>bustrip</th>\n",
       "      <th>ovtime</th>\n",
       "      <th>target_ln</th>\n",
       "      <th>semiholiday</th>\n",
       "      <th>networker</th>\n",
       "      <th>aftercorona</th>\n",
       "      <th>fri</th>\n",
       "      <th>thu</th>\n",
       "      <th>wed</th>\n",
       "      <th>mon</th>\n",
       "      <th>tue</th>\n",
       "      <th>month</th>\n",
       "    </tr>\n",
       "  </thead>\n",
       "  <tbody>\n",
       "    <tr>\n",
       "      <td>0</td>\n",
       "      <td>50</td>\n",
       "      <td>150</td>\n",
       "      <td>238</td>\n",
       "      <td>1039.0</td>\n",
       "      <td>0</td>\n",
       "      <td>2601.0</td>\n",
       "      <td>0</td>\n",
       "      <td>0</td>\n",
       "      <td>0</td>\n",
       "      <td>0</td>\n",
       "      <td>1</td>\n",
       "      <td>0</td>\n",
       "      <td>2</td>\n",
       "    </tr>\n",
       "    <tr>\n",
       "      <td>1</td>\n",
       "      <td>50</td>\n",
       "      <td>173</td>\n",
       "      <td>319</td>\n",
       "      <td>867.0</td>\n",
       "      <td>0</td>\n",
       "      <td>2601.0</td>\n",
       "      <td>0</td>\n",
       "      <td>0</td>\n",
       "      <td>0</td>\n",
       "      <td>0</td>\n",
       "      <td>0</td>\n",
       "      <td>1</td>\n",
       "      <td>2</td>\n",
       "    </tr>\n",
       "    <tr>\n",
       "      <td>2</td>\n",
       "      <td>56</td>\n",
       "      <td>180</td>\n",
       "      <td>111</td>\n",
       "      <td>1017.0</td>\n",
       "      <td>0</td>\n",
       "      <td>2601.0</td>\n",
       "      <td>0</td>\n",
       "      <td>0</td>\n",
       "      <td>0</td>\n",
       "      <td>1</td>\n",
       "      <td>0</td>\n",
       "      <td>0</td>\n",
       "      <td>2</td>\n",
       "    </tr>\n",
       "    <tr>\n",
       "      <td>3</td>\n",
       "      <td>104</td>\n",
       "      <td>220</td>\n",
       "      <td>355</td>\n",
       "      <td>978.0</td>\n",
       "      <td>0</td>\n",
       "      <td>2601.0</td>\n",
       "      <td>0</td>\n",
       "      <td>0</td>\n",
       "      <td>1</td>\n",
       "      <td>0</td>\n",
       "      <td>0</td>\n",
       "      <td>0</td>\n",
       "      <td>2</td>\n",
       "    </tr>\n",
       "    <tr>\n",
       "      <td>4</td>\n",
       "      <td>278</td>\n",
       "      <td>181</td>\n",
       "      <td>34</td>\n",
       "      <td>925.0</td>\n",
       "      <td>0</td>\n",
       "      <td>2601.0</td>\n",
       "      <td>0</td>\n",
       "      <td>1</td>\n",
       "      <td>0</td>\n",
       "      <td>0</td>\n",
       "      <td>0</td>\n",
       "      <td>0</td>\n",
       "      <td>2</td>\n",
       "    </tr>\n",
       "  </tbody>\n",
       "</table>\n",
       "</div>"
      ],
      "text/plain": [
       "   dayoff  bustrip  ovtime  target_ln  semiholiday  networker  aftercorona  \\\n",
       "0      50      150     238     1039.0            0     2601.0            0   \n",
       "1      50      173     319      867.0            0     2601.0            0   \n",
       "2      56      180     111     1017.0            0     2601.0            0   \n",
       "3     104      220     355      978.0            0     2601.0            0   \n",
       "4     278      181      34      925.0            0     2601.0            0   \n",
       "\n",
       "   fri  thu  wed  mon  tue  month  \n",
       "0    0    0    0    1    0      2  \n",
       "1    0    0    0    0    1      2  \n",
       "2    0    0    1    0    0      2  \n",
       "3    0    1    0    0    0      2  \n",
       "4    1    0    0    0    0      2  "
      ]
     },
     "execution_count": 75,
     "metadata": {},
     "output_type": "execute_result"
    }
   ],
   "source": [
    "train_ln.head()"
   ]
  },
  {
   "cell_type": "code",
   "execution_count": 84,
   "metadata": {},
   "outputs": [
    {
     "data": {
      "text/plain": [
       "(1162,)"
      ]
     },
     "execution_count": 84,
     "metadata": {},
     "output_type": "execute_result"
    }
   ],
   "source": [
    "from scipy import sparse\n",
    "lntr_y = train_ln['target_ln'].to_numpy()\n",
    "lntr_x = train_ln.drop(['target_ln'],axis=1).to_numpy()\n",
    "lnte_x = test_ln.to_numpy()\n",
    "\n",
    "\n",
    "lntr_y.shape"
   ]
  },
  {
   "cell_type": "code",
   "execution_count": 90,
   "metadata": {},
   "outputs": [
    {
     "data": {
      "text/plain": [
       "(1162,)"
      ]
     },
     "execution_count": 90,
     "metadata": {},
     "output_type": "execute_result"
    }
   ],
   "source": [
    "from scipy import sparse\n",
    "dntr_y = train_dn['target_dn'].to_numpy()\n",
    "dntr_x = train_dn.drop(['target_dn'],axis=1).to_numpy()\n",
    "dnte_x = test_dn.to_numpy()\n",
    "\n",
    "dntr_y.shape"
   ]
  },
  {
   "cell_type": "code",
   "execution_count": 85,
   "metadata": {},
   "outputs": [
    {
     "name": "stdout",
     "output_type": "stream",
     "text": [
      "<class 'scipy.sparse.csr.csr_matrix'> (1162, 1591)\n"
     ]
    }
   ],
   "source": [
    "\n",
    "\n",
    "from scipy.sparse import hstack\n",
    "sparse_matrix = (lntr_x,ln_tr_tfidf_vect)\n",
    "lntr_x = hstack(sparse_matrix).tocsr()\n",
    "print(type(lntr_x),lntr_x.shape)"
   ]
  },
  {
   "cell_type": "code",
   "execution_count": 86,
   "metadata": {},
   "outputs": [
    {
     "name": "stdout",
     "output_type": "stream",
     "text": [
      "<class 'scipy.sparse.csr.csr_matrix'> (50, 1591)\n"
     ]
    }
   ],
   "source": [
    "sparse_matrix2 = (lnte_x,ln_te_tfidf_vect)\n",
    "lnte_x = hstack(sparse_matrix2).tocsr()\n",
    "print(type(lnte_x),lnte_x.shape)\n",
    "\n"
   ]
  },
  {
   "cell_type": "code",
   "execution_count": 91,
   "metadata": {},
   "outputs": [
    {
     "name": "stdout",
     "output_type": "stream",
     "text": [
      "<class 'scipy.sparse.csr.csr_matrix'> (1162, 1544)\n"
     ]
    }
   ],
   "source": [
    "from scipy.sparse import hstack\n",
    "sparse_matrix = (dntr_x,dn_tr_tfidf_vect)\n",
    "dntr_x = hstack(sparse_matrix).tocsr()\n",
    "print(type(dntr_x),dntr_x.shape)"
   ]
  },
  {
   "cell_type": "code",
   "execution_count": 92,
   "metadata": {},
   "outputs": [
    {
     "name": "stdout",
     "output_type": "stream",
     "text": [
      "<class 'scipy.sparse.csr.csr_matrix'> (50, 1544)\n"
     ]
    }
   ],
   "source": [
    "sparse_matrix2 = (dnte_x,dn_te_tfidf_vect)\n",
    "dnte_x = hstack(sparse_matrix2).tocsr()\n",
    "print(type(dnte_x),dnte_x.shape)"
   ]
  },
  {
   "cell_type": "markdown",
   "metadata": {},
   "source": [
    "점심예측모델 모델에 데이터 적용"
   ]
  },
  {
   "cell_type": "code",
   "execution_count": 87,
   "metadata": {},
   "outputs": [
    {
     "name": "stdout",
     "output_type": "stream",
     "text": [
      "[1020.2 1029.6  689.7 1210.8 1001.6 1022.2 1023.4  719.1 1291.1  994.1\n",
      "  840.5 1238.1 1119.  1022.8  941.4  724.4 1220.9 1010.9  961.   887.2\n",
      "  580.3 1031.1  998.1  972.1  619.8 1258.4 1108.  1036.8  985.5  572.\n",
      " 1263.9 1000.2  984.1  956.2  710.7 1214.3 1007.4  918.7  914.2  540.1\n",
      " 1251.9 1072.4 1005.1  866.   538.6 1208.  1062.9  961.5  902.8  555.7]\n"
     ]
    }
   ],
   "source": [
    "from sklearn.ensemble import RandomForestRegressor\n",
    "model_ln = RandomForestRegressor(n_jobs=-1, random_state=42)\n",
    "model_ln.fit(lntr_x, lntr_y)\n",
    "pred_ln = model_ln.predict(lnte_x)\n",
    "print(pred_ln)"
   ]
  },
  {
   "cell_type": "markdown",
   "metadata": {},
   "source": [
    "저녁 예측모델 모델에 데이터 적용"
   ]
  },
  {
   "cell_type": "code",
   "execution_count": 93,
   "metadata": {},
   "outputs": [
    {
     "name": "stdout",
     "output_type": "stream",
     "text": [
      "[420.8 436.8 263.5 487.6 433.  485.2 402.3 450.3 616.2 498.1 279.6 721.\n",
      " 651.2 450.  503.5 396.5 630.7 616.1 455.4 461.1 251.7 613.1 458.1 550.6\n",
      " 348.6 635.8 625.5 423.8 590.1 282.  724.4 585.  421.7 418.8 251.  600.6\n",
      " 637.6 428.9 380.5 276.3 658.3 638.6 449.  422.7 281.2 550.7 589.8 447.1\n",
      " 442.1 279. ]\n"
     ]
    }
   ],
   "source": [
    "from sklearn.ensemble import RandomForestRegressor\n",
    "model_dn = RandomForestRegressor(n_jobs=-1, random_state=42)\n",
    "model_dn.fit(dntr_x, dntr_y)\n",
    "pred_dn = model_dn.predict(dnte_x)\n",
    "print(pred_dn)"
   ]
  },
  {
   "cell_type": "markdown",
   "metadata": {},
   "source": [
    "제출용 데이터 만들기"
   ]
  },
  {
   "cell_type": "code",
   "execution_count": 94,
   "metadata": {},
   "outputs": [],
   "source": [
    "submission = pd.read_csv('sample_submission.csv')"
   ]
  },
  {
   "cell_type": "code",
   "execution_count": 95,
   "metadata": {},
   "outputs": [],
   "source": [
    "submission['중식계'] = pred_ln\n",
    "submission['석식계'] = pred_dn\n",
    "submission.to_csv('baseline.csv', index=False)"
   ]
  }
 ],
 "metadata": {
  "kernelspec": {
   "display_name": "Python 3",
   "language": "python",
   "name": "python3"
  },
  "language_info": {
   "codemirror_mode": {
    "name": "ipython",
    "version": 3
   },
   "file_extension": ".py",
   "mimetype": "text/x-python",
   "name": "python",
   "nbconvert_exporter": "python",
   "pygments_lexer": "ipython3",
   "version": "3.7.4"
  }
 },
 "nbformat": 4,
 "nbformat_minor": 2
}
