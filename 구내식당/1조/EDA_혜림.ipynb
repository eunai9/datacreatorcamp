{
 "cells": [
  {
   "cell_type": "code",
   "execution_count": 2,
   "metadata": {},
   "outputs": [],
   "source": [
    "import pandas as pd\n",
    "import numpy as np\n",
    "import matplotlib.pyplot as plt\n",
    "import seaborn as sns\n",
    "\n",
    "import missingno\n",
    "\n",
    "from sklearn.feature_extraction.text import CountVectorizer"
   ]
  },
  {
   "cell_type": "code",
   "execution_count": 12,
   "metadata": {},
   "outputs": [],
   "source": [
    "import warnings\n",
    "warnings.filterwarnings(\"ignore\")"
   ]
  },
  {
   "cell_type": "code",
   "execution_count": 9,
   "metadata": {},
   "outputs": [
    {
     "data": {
      "text/html": [
       "<div>\n",
       "<style scoped>\n",
       "    .dataframe tbody tr th:only-of-type {\n",
       "        vertical-align: middle;\n",
       "    }\n",
       "\n",
       "    .dataframe tbody tr th {\n",
       "        vertical-align: top;\n",
       "    }\n",
       "\n",
       "    .dataframe thead th {\n",
       "        text-align: right;\n",
       "    }\n",
       "</style>\n",
       "<table border=\"1\" class=\"dataframe\">\n",
       "  <thead>\n",
       "    <tr style=\"text-align: right;\">\n",
       "      <th></th>\n",
       "      <th>일자</th>\n",
       "      <th>요일</th>\n",
       "      <th>본사정원수</th>\n",
       "      <th>본사휴가자수</th>\n",
       "      <th>본사출장자수</th>\n",
       "      <th>본사시간외근무명령서승인건수</th>\n",
       "      <th>현본사소속재택근무자수</th>\n",
       "      <th>조식메뉴</th>\n",
       "      <th>중식메뉴</th>\n",
       "      <th>석식메뉴</th>\n",
       "      <th>중식계</th>\n",
       "      <th>석식계</th>\n",
       "    </tr>\n",
       "  </thead>\n",
       "  <tbody>\n",
       "    <tr>\n",
       "      <th>0</th>\n",
       "      <td>2016-02-01</td>\n",
       "      <td>월</td>\n",
       "      <td>2601</td>\n",
       "      <td>50</td>\n",
       "      <td>150</td>\n",
       "      <td>238</td>\n",
       "      <td>0.0</td>\n",
       "      <td>모닝롤/찐빵  우유/두유/주스 계란후라이  호두죽/쌀밥 (쌀:국내산) 된장찌개  쥐...</td>\n",
       "      <td>쌀밥/잡곡밥 (쌀,현미흑미:국내산) 오징어찌개  쇠불고기 (쇠고기:호주산) 계란찜 ...</td>\n",
       "      <td>쌀밥/잡곡밥 (쌀,현미흑미:국내산) 육개장  자반고등어구이  두부조림  건파래무침 ...</td>\n",
       "      <td>1039.0</td>\n",
       "      <td>331.0</td>\n",
       "    </tr>\n",
       "    <tr>\n",
       "      <th>1</th>\n",
       "      <td>2016-02-02</td>\n",
       "      <td>화</td>\n",
       "      <td>2601</td>\n",
       "      <td>50</td>\n",
       "      <td>173</td>\n",
       "      <td>319</td>\n",
       "      <td>0.0</td>\n",
       "      <td>모닝롤/단호박샌드  우유/두유/주스 계란후라이  팥죽/쌀밥 (쌀:국내산) 호박젓국찌...</td>\n",
       "      <td>쌀밥/잡곡밥 (쌀,현미흑미:국내산) 김치찌개  가자미튀김  모둠소세지구이  마늘쫑무...</td>\n",
       "      <td>콩나물밥*양념장 (쌀,현미흑미:국내산) 어묵국  유산슬 (쇠고기:호주산) 아삭고추무...</td>\n",
       "      <td>867.0</td>\n",
       "      <td>560.0</td>\n",
       "    </tr>\n",
       "    <tr>\n",
       "      <th>2</th>\n",
       "      <td>2016-02-03</td>\n",
       "      <td>수</td>\n",
       "      <td>2601</td>\n",
       "      <td>56</td>\n",
       "      <td>180</td>\n",
       "      <td>111</td>\n",
       "      <td>0.0</td>\n",
       "      <td>모닝롤/베이글  우유/두유/주스 계란후라이  표고버섯죽/쌀밥 (쌀:국내산) 콩나물국...</td>\n",
       "      <td>카레덮밥 (쌀,현미흑미:국내산) 팽이장국  치킨핑거 (닭고기:국내산) 쫄면야채무침 ...</td>\n",
       "      <td>쌀밥/잡곡밥 (쌀,현미흑미:국내산) 청국장찌개  황태양념구이 (황태:러시아산) 고기...</td>\n",
       "      <td>1017.0</td>\n",
       "      <td>573.0</td>\n",
       "    </tr>\n",
       "    <tr>\n",
       "      <th>3</th>\n",
       "      <td>2016-02-04</td>\n",
       "      <td>목</td>\n",
       "      <td>2601</td>\n",
       "      <td>104</td>\n",
       "      <td>220</td>\n",
       "      <td>355</td>\n",
       "      <td>0.0</td>\n",
       "      <td>모닝롤/토마토샌드  우유/두유/주스 계란후라이  닭죽/쌀밥 (쌀,닭:국내산) 근대국...</td>\n",
       "      <td>쌀밥/잡곡밥 (쌀,현미흑미:국내산) 쇠고기무국  주꾸미볶음  부추전  시금치나물  ...</td>\n",
       "      <td>미니김밥*겨자장 (쌀,현미흑미:국내산) 우동  멕시칸샐러드  군고구마  무피클  포...</td>\n",
       "      <td>978.0</td>\n",
       "      <td>525.0</td>\n",
       "    </tr>\n",
       "    <tr>\n",
       "      <th>4</th>\n",
       "      <td>2016-02-05</td>\n",
       "      <td>금</td>\n",
       "      <td>2601</td>\n",
       "      <td>278</td>\n",
       "      <td>181</td>\n",
       "      <td>34</td>\n",
       "      <td>0.0</td>\n",
       "      <td>모닝롤/와플  우유/두유/주스 계란후라이  쇠고기죽/쌀밥 (쌀:국내산) 재첩국  방...</td>\n",
       "      <td>쌀밥/잡곡밥 (쌀,현미흑미:국내산) 떡국  돈육씨앗강정 (돼지고기:국내산) 우엉잡채...</td>\n",
       "      <td>쌀밥/잡곡밥 (쌀,현미흑미:국내산) 차돌박이찌개 (쇠고기:호주산) 닭갈비 (닭고기:...</td>\n",
       "      <td>925.0</td>\n",
       "      <td>330.0</td>\n",
       "    </tr>\n",
       "  </tbody>\n",
       "</table>\n",
       "</div>"
      ],
      "text/plain": [
       "           일자 요일  본사정원수  본사휴가자수  본사출장자수  본사시간외근무명령서승인건수  현본사소속재택근무자수  \\\n",
       "0  2016-02-01  월   2601      50     150             238          0.0   \n",
       "1  2016-02-02  화   2601      50     173             319          0.0   \n",
       "2  2016-02-03  수   2601      56     180             111          0.0   \n",
       "3  2016-02-04  목   2601     104     220             355          0.0   \n",
       "4  2016-02-05  금   2601     278     181              34          0.0   \n",
       "\n",
       "                                                조식메뉴  \\\n",
       "0  모닝롤/찐빵  우유/두유/주스 계란후라이  호두죽/쌀밥 (쌀:국내산) 된장찌개  쥐...   \n",
       "1  모닝롤/단호박샌드  우유/두유/주스 계란후라이  팥죽/쌀밥 (쌀:국내산) 호박젓국찌...   \n",
       "2  모닝롤/베이글  우유/두유/주스 계란후라이  표고버섯죽/쌀밥 (쌀:국내산) 콩나물국...   \n",
       "3  모닝롤/토마토샌드  우유/두유/주스 계란후라이  닭죽/쌀밥 (쌀,닭:국내산) 근대국...   \n",
       "4  모닝롤/와플  우유/두유/주스 계란후라이  쇠고기죽/쌀밥 (쌀:국내산) 재첩국  방...   \n",
       "\n",
       "                                                중식메뉴  \\\n",
       "0  쌀밥/잡곡밥 (쌀,현미흑미:국내산) 오징어찌개  쇠불고기 (쇠고기:호주산) 계란찜 ...   \n",
       "1  쌀밥/잡곡밥 (쌀,현미흑미:국내산) 김치찌개  가자미튀김  모둠소세지구이  마늘쫑무...   \n",
       "2  카레덮밥 (쌀,현미흑미:국내산) 팽이장국  치킨핑거 (닭고기:국내산) 쫄면야채무침 ...   \n",
       "3  쌀밥/잡곡밥 (쌀,현미흑미:국내산) 쇠고기무국  주꾸미볶음  부추전  시금치나물  ...   \n",
       "4  쌀밥/잡곡밥 (쌀,현미흑미:국내산) 떡국  돈육씨앗강정 (돼지고기:국내산) 우엉잡채...   \n",
       "\n",
       "                                                석식메뉴     중식계    석식계  \n",
       "0  쌀밥/잡곡밥 (쌀,현미흑미:국내산) 육개장  자반고등어구이  두부조림  건파래무침 ...  1039.0  331.0  \n",
       "1  콩나물밥*양념장 (쌀,현미흑미:국내산) 어묵국  유산슬 (쇠고기:호주산) 아삭고추무...   867.0  560.0  \n",
       "2  쌀밥/잡곡밥 (쌀,현미흑미:국내산) 청국장찌개  황태양념구이 (황태:러시아산) 고기...  1017.0  573.0  \n",
       "3  미니김밥*겨자장 (쌀,현미흑미:국내산) 우동  멕시칸샐러드  군고구마  무피클  포...   978.0  525.0  \n",
       "4  쌀밥/잡곡밥 (쌀,현미흑미:국내산) 차돌박이찌개 (쇠고기:호주산) 닭갈비 (닭고기:...   925.0  330.0  "
      ]
     },
     "execution_count": 9,
     "metadata": {},
     "output_type": "execute_result"
    }
   ],
   "source": [
    "train = pd.read_csv(\"train.csv\")\n",
    "test = pd.read_csv(\"test.csv\")\n",
    "submission = pd.read_csv(\"sample_submission.csv\")\n",
    "train.head(5)"
   ]
  },
  {
   "cell_type": "code",
   "execution_count": 31,
   "metadata": {},
   "outputs": [
    {
     "data": {
      "text/plain": [
       "<AxesSubplot:>"
      ]
     },
     "execution_count": 31,
     "metadata": {},
     "output_type": "execute_result"
    },
    {
     "data": {
      "image/png": "[encoded data removed]",
      "text/plain": [
       "<Figure size 1800x720 with 2 Axes>"
      ]
     },
     "metadata": {
      "needs_background": "light"
     },
     "output_type": "display_data"
    }
   ],
   "source": [
    "missingno.matrix(train)"
   ]
  },
  {
   "cell_type": "code",
   "execution_count": 52,
   "metadata": {},
   "outputs": [
    {
     "name": "stdout",
     "output_type": "stream",
     "text": [
      "<class 'pandas.core.frame.DataFrame'>\n",
      "RangeIndex: 1205 entries, 0 to 1204\n",
      "Data columns (total 12 columns):\n",
      " #   Column     Non-Null Count  Dtype         \n",
      "---  ------     --------------  -----         \n",
      " 0   date       1205 non-null   datetime64[ns]\n",
      " 1   dow        1205 non-null   object        \n",
      " 2   employees  1205 non-null   int64         \n",
      " 3   dayoff     1205 non-null   int64         \n",
      " 4   bustrip    1205 non-null   int64         \n",
      " 5   ovtime     1205 non-null   int64         \n",
      " 6   remote     1205 non-null   float64       \n",
      " 7   brk        1205 non-null   object        \n",
      " 8   ln         1205 non-null   object        \n",
      " 9   dn         1205 non-null   object        \n",
      " 10  target_ln  1205 non-null   float64       \n",
      " 11  target_dn  1205 non-null   float64       \n",
      "dtypes: datetime64[ns](1), float64(3), int64(4), object(4)\n",
      "memory usage: 113.1+ KB\n"
     ]
    }
   ],
   "source": [
    "train.info()"
   ]
  },
  {
   "cell_type": "code",
   "execution_count": 145,
   "metadata": {},
   "outputs": [],
   "source": [
    "\n",
    "train.columns = ['date', 'dow', 'employees', 'dayoff', 'bustrip', 'ovtime', 'remote', 'brk', 'ln', 'dn', 'target_ln', 'target_dn']\n",
    "test.columns= ['date', 'dow', 'employees', 'dayoff', 'bustrip', 'ovtime', 'remote', 'brk', 'ln', 'dn']"
   ]
  },
  {
   "cell_type": "code",
   "execution_count": 19,
   "metadata": {},
   "outputs": [
    {
     "data": {
      "text/plain": [
       "<AxesSubplot:xlabel='target_dn', ylabel='Density'>"
      ]
     },
     "execution_count": 19,
     "metadata": {},
     "output_type": "execute_result"
    },
    {
     "data": {
      "image/png": "[encoded data removed]",
      "text/plain": [
       "<Figure size 432x288 with 1 Axes>"
      ]
     },
     "metadata": {
      "needs_background": "light"
     },
     "output_type": "display_data"
    }
   ],
   "source": [
    "# 단순 히스토 그램 \n",
    "sns.distplot(train['target_ln'])\n",
    "sns.distplot(train['target_dn'])"
   ]
  },
  {
   "cell_type": "markdown",
   "metadata": {},
   "source": [
    "- 석식계는 0이 많아 보임 \n",
    "- 중식계와 석식계 모두 정규분포의 형태를 띔"
   ]
  },
  {
   "cell_type": "code",
   "execution_count": 29,
   "metadata": {},
   "outputs": [
    {
     "data": {
      "text/plain": [
       "[<matplotlib.lines.Line2D at 0x218702ff790>]"
      ]
     },
     "execution_count": 29,
     "metadata": {},
     "output_type": "execute_result"
    },
    {
     "data": {
      "image/png": "[encoded data removed]",
      "text/plain": [
       "<Figure size 864x360 with 1 Axes>"
      ]
     },
     "metadata": {
      "needs_background": "light"
     },
     "output_type": "display_data"
    }
   ],
   "source": [
    "# 추세선\n",
    "train['date'] = pd.to_datetime(train['date'])\n",
    "\n",
    "plt.figure(figsize=(12, 5))\n",
    "plt.plot(train['date'], train['target_ln'])\n",
    "plt.plot(train['date'],train['target_dn'])"
   ]
  },
  {
   "cell_type": "markdown",
   "metadata": {},
   "source": [
    "- 코로나 전후로 달라보이지는 않음\n",
    "- 대신 중식 및 석식의 경우 주기적으로 이용 수가 낮아지는 것을 확인 (특히 석식은 그 주기가 짧은 듯 근데 그 주기가 2020 들어서는 안 보임) "
   ]
  },
  {
   "cell_type": "code",
   "execution_count": 47,
   "metadata": {},
   "outputs": [
    {
     "data": {
      "text/plain": [
       "[<matplotlib.lines.Line2D at 0x218737f3340>]"
      ]
     },
     "execution_count": 47,
     "metadata": {},
     "output_type": "execute_result"
    },
    {
     "data": {
      "image/png": "[encoded data removed]",
      "text/plain": [
       "<Figure size 720x360 with 6 Axes>"
      ]
     },
     "metadata": {
      "needs_background": "light"
     },
     "output_type": "display_data"
    }
   ],
   "source": [
    "fig, ax  = plt.subplots(2,3,figsize=(10,5))\n",
    "\n",
    "ax[0][0].plot(train['date'], train['employees'])\n",
    "ax[0][1].plot(train['date'], train['dayoff'])\n",
    "ax[0][2].plot(train['date'], train['bustrip'])\n",
    "ax[1][0].plot(train['date'], train['ovtime'])\n",
    "ax[1][1].plot(train['date'], train['remote'])\n",
    "ax[1][2].plot(train['date'], train['target_ln'])"
   ]
  },
  {
   "cell_type": "markdown",
   "metadata": {},
   "source": [
    "- 정원이 크게 는 것으로 보임\n",
    "- remote 도 코로나 이후 크게 증가함 \n",
    "- 정기적으로 dayoff 가 많은 날 확인"
   ]
  },
  {
   "cell_type": "code",
   "execution_count": 51,
   "metadata": {},
   "outputs": [
    {
     "data": {
      "text/plain": [
       "<AxesSubplot:>"
      ]
     },
     "execution_count": 51,
     "metadata": {},
     "output_type": "execute_result"
    },
    {
     "data": {
      "image/png": "[encoded data removed]",
      "text/plain": [
       "<Figure size 432x288 with 2 Axes>"
      ]
     },
     "metadata": {
      "needs_background": "light"
     },
     "output_type": "display_data"
    }
   ],
   "source": [
    "corr = train.corr()\n",
    "sns.heatmap(corr)"
   ]
  },
  {
   "cell_type": "markdown",
   "metadata": {},
   "source": [
    "- overtime과 target_dn, target_ln이 유사해 보임\n",
    "- target_ln과 target_dn이 유사해 보임 => target_ln을 먼저 예측한 후 이걸 변수로 써서 또 target_dn을 예측해 볼 수 있지 않을까?"
   ]
  },
  {
   "cell_type": "code",
   "execution_count": 58,
   "metadata": {
    "scrolled": true
   },
   "outputs": [
    {
     "data": {
      "text/html": [
       "<div>\n",
       "<style scoped>\n",
       "    .dataframe tbody tr th:only-of-type {\n",
       "        vertical-align: middle;\n",
       "    }\n",
       "\n",
       "    .dataframe tbody tr th {\n",
       "        vertical-align: top;\n",
       "    }\n",
       "\n",
       "    .dataframe thead th {\n",
       "        text-align: right;\n",
       "    }\n",
       "</style>\n",
       "<table border=\"1\" class=\"dataframe\">\n",
       "  <thead>\n",
       "    <tr style=\"text-align: right;\">\n",
       "      <th></th>\n",
       "      <th>dn</th>\n",
       "    </tr>\n",
       "  </thead>\n",
       "  <tbody>\n",
       "    <tr>\n",
       "      <th>204</th>\n",
       "      <td>*</td>\n",
       "    </tr>\n",
       "    <tr>\n",
       "      <th>224</th>\n",
       "      <td>*</td>\n",
       "    </tr>\n",
       "    <tr>\n",
       "      <th>244</th>\n",
       "      <td>*</td>\n",
       "    </tr>\n",
       "    <tr>\n",
       "      <th>262</th>\n",
       "      <td>*</td>\n",
       "    </tr>\n",
       "    <tr>\n",
       "      <th>281</th>\n",
       "      <td>*</td>\n",
       "    </tr>\n",
       "    <tr>\n",
       "      <th>306</th>\n",
       "      <td>*</td>\n",
       "    </tr>\n",
       "    <tr>\n",
       "      <th>327</th>\n",
       "      <td>자기계발의날</td>\n",
       "    </tr>\n",
       "    <tr>\n",
       "      <th>346</th>\n",
       "      <td>*자기계발의날*</td>\n",
       "    </tr>\n",
       "    <tr>\n",
       "      <th>366</th>\n",
       "      <td>가정의날</td>\n",
       "    </tr>\n",
       "    <tr>\n",
       "      <th>392</th>\n",
       "      <td>*</td>\n",
       "    </tr>\n",
       "    <tr>\n",
       "      <th>410</th>\n",
       "      <td>쌀밥/잡곡밥 (쌀:국내산) 된장찌개  미니함박조림  계란말이  비름나물  포기김치 ...</td>\n",
       "    </tr>\n",
       "    <tr>\n",
       "      <th>412</th>\n",
       "      <td>*</td>\n",
       "    </tr>\n",
       "    <tr>\n",
       "      <th>424</th>\n",
       "      <td>*</td>\n",
       "    </tr>\n",
       "    <tr>\n",
       "      <th>449</th>\n",
       "      <td>*</td>\n",
       "    </tr>\n",
       "    <tr>\n",
       "      <th>468</th>\n",
       "      <td>*</td>\n",
       "    </tr>\n",
       "    <tr>\n",
       "      <th>492</th>\n",
       "      <td>*</td>\n",
       "    </tr>\n",
       "    <tr>\n",
       "      <th>502</th>\n",
       "      <td>쌀밥/잡곡밥 (쌀:국내산) 쇠고기무국  고추잡채*꽃빵  계란찜  오이무침  포기김치...</td>\n",
       "    </tr>\n",
       "    <tr>\n",
       "      <th>510</th>\n",
       "      <td>*</td>\n",
       "    </tr>\n",
       "    <tr>\n",
       "      <th>529</th>\n",
       "      <td>*</td>\n",
       "    </tr>\n",
       "    <tr>\n",
       "      <th>549</th>\n",
       "      <td></td>\n",
       "    </tr>\n",
       "    <tr>\n",
       "      <th>571</th>\n",
       "      <td></td>\n",
       "    </tr>\n",
       "    <tr>\n",
       "      <th>589</th>\n",
       "      <td>*</td>\n",
       "    </tr>\n",
       "    <tr>\n",
       "      <th>609</th>\n",
       "      <td></td>\n",
       "    </tr>\n",
       "    <tr>\n",
       "      <th>633</th>\n",
       "      <td>*</td>\n",
       "    </tr>\n",
       "    <tr>\n",
       "      <th>648</th>\n",
       "      <td></td>\n",
       "    </tr>\n",
       "    <tr>\n",
       "      <th>667</th>\n",
       "      <td>자기계발의날</td>\n",
       "    </tr>\n",
       "    <tr>\n",
       "      <th>687</th>\n",
       "      <td>*</td>\n",
       "    </tr>\n",
       "    <tr>\n",
       "      <th>706</th>\n",
       "      <td>자기계발의날</td>\n",
       "    </tr>\n",
       "    <tr>\n",
       "      <th>730</th>\n",
       "      <td>자기개발의날</td>\n",
       "    </tr>\n",
       "    <tr>\n",
       "      <th>747</th>\n",
       "      <td>*  자기계발의날  *</td>\n",
       "    </tr>\n",
       "    <tr>\n",
       "      <th>766</th>\n",
       "      <td>*  자기개발의날  *</td>\n",
       "    </tr>\n",
       "    <tr>\n",
       "      <th>786</th>\n",
       "      <td>*  자기계발의날  *</td>\n",
       "    </tr>\n",
       "    <tr>\n",
       "      <th>809</th>\n",
       "      <td>*  자기개발의날  *</td>\n",
       "    </tr>\n",
       "    <tr>\n",
       "      <th>828</th>\n",
       "      <td>*  자기개발의날  *</td>\n",
       "    </tr>\n",
       "    <tr>\n",
       "      <th>853</th>\n",
       "      <td>자기계발의날</td>\n",
       "    </tr>\n",
       "    <tr>\n",
       "      <th>872</th>\n",
       "      <td>*</td>\n",
       "    </tr>\n",
       "    <tr>\n",
       "      <th>890</th>\n",
       "      <td>*</td>\n",
       "    </tr>\n",
       "    <tr>\n",
       "      <th>912</th>\n",
       "      <td>*</td>\n",
       "    </tr>\n",
       "    <tr>\n",
       "      <th>932</th>\n",
       "      <td>*</td>\n",
       "    </tr>\n",
       "    <tr>\n",
       "      <th>955</th>\n",
       "      <td>*</td>\n",
       "    </tr>\n",
       "    <tr>\n",
       "      <th>973</th>\n",
       "      <td>자기개발의날</td>\n",
       "    </tr>\n",
       "    <tr>\n",
       "      <th>993</th>\n",
       "      <td>자기개발의날</td>\n",
       "    </tr>\n",
       "    <tr>\n",
       "      <th>1166</th>\n",
       "      <td>＜자기 계발의 날＞</td>\n",
       "    </tr>\n",
       "  </tbody>\n",
       "</table>\n",
       "</div>"
      ],
      "text/plain": [
       "                                                     dn\n",
       "204                                           *        \n",
       "224                                           *        \n",
       "244                                            *       \n",
       "262                                           *        \n",
       "281                                           *        \n",
       "306                                           *        \n",
       "327                                        자기계발의날      \n",
       "346                                      *자기계발의날*      \n",
       "366                                          가정의날      \n",
       "392                                           *        \n",
       "410   쌀밥/잡곡밥 (쌀:국내산) 된장찌개  미니함박조림  계란말이  비름나물  포기김치 ...\n",
       "412                                           *        \n",
       "424                                           *        \n",
       "449                                           *        \n",
       "468                                           *        \n",
       "492                                           *        \n",
       "502   쌀밥/잡곡밥 (쌀:국내산) 쇠고기무국  고추잡채*꽃빵  계란찜  오이무침  포기김치...\n",
       "510                                           *        \n",
       "529                                             *      \n",
       "549                                                    \n",
       "571                                                    \n",
       "589                                            *       \n",
       "609                                                    \n",
       "633                                           *        \n",
       "648                                                    \n",
       "667                                      자기계발의날        \n",
       "687                                           *        \n",
       "706                                      자기계발의날        \n",
       "730                                      자기개발의날        \n",
       "747                                    *  자기계발의날  *    \n",
       "766                                    *  자기개발의날  *    \n",
       "786                                    *  자기계발의날  *    \n",
       "809                                    *  자기개발의날  *    \n",
       "828                                   *  자기개발의날  *     \n",
       "853                                      자기계발의날        \n",
       "872                                           *        \n",
       "890                                           *        \n",
       "912                                           *        \n",
       "932                                           *        \n",
       "955                                           *        \n",
       "973                                      자기개발의날        \n",
       "993                                      자기개발의날        \n",
       "1166                                   ＜자기 계발의 날＞      "
      ]
     },
     "execution_count": 58,
     "metadata": {},
     "output_type": "execute_result"
    }
   ],
   "source": [
    "train.loc[train['target_dn']==0,['dn']]"
   ]
  },
  {
   "cell_type": "markdown",
   "metadata": {},
   "source": [
    "- 자기개발의 날 수요일이 많네"
   ]
  },
  {
   "cell_type": "code",
   "execution_count": 64,
   "metadata": {},
   "outputs": [
    {
     "data": {
      "text/html": [
       "<div>\n",
       "<style scoped>\n",
       "    .dataframe tbody tr th:only-of-type {\n",
       "        vertical-align: middle;\n",
       "    }\n",
       "\n",
       "    .dataframe tbody tr th {\n",
       "        vertical-align: top;\n",
       "    }\n",
       "\n",
       "    .dataframe thead th {\n",
       "        text-align: right;\n",
       "    }\n",
       "</style>\n",
       "<table border=\"1\" class=\"dataframe\">\n",
       "  <thead>\n",
       "    <tr style=\"text-align: right;\">\n",
       "      <th></th>\n",
       "      <th>employees</th>\n",
       "      <th>dayoff</th>\n",
       "      <th>bustrip</th>\n",
       "      <th>ovtime</th>\n",
       "      <th>remote</th>\n",
       "      <th>target_ln</th>\n",
       "      <th>target_dn</th>\n",
       "      <th>worker_lunch</th>\n",
       "    </tr>\n",
       "  </thead>\n",
       "  <tbody>\n",
       "    <tr>\n",
       "      <th>employees</th>\n",
       "      <td>1.000000</td>\n",
       "      <td>0.244666</td>\n",
       "      <td>-0.061688</td>\n",
       "      <td>0.146544</td>\n",
       "      <td>0.452293</td>\n",
       "      <td>-0.115529</td>\n",
       "      <td>-0.173852</td>\n",
       "      <td>0.503771</td>\n",
       "    </tr>\n",
       "    <tr>\n",
       "      <th>dayoff</th>\n",
       "      <td>0.244666</td>\n",
       "      <td>1.000000</td>\n",
       "      <td>-0.273318</td>\n",
       "      <td>-0.230789</td>\n",
       "      <td>0.065397</td>\n",
       "      <td>-0.391975</td>\n",
       "      <td>-0.316894</td>\n",
       "      <td>-0.552661</td>\n",
       "    </tr>\n",
       "    <tr>\n",
       "      <th>bustrip</th>\n",
       "      <td>-0.061688</td>\n",
       "      <td>-0.273318</td>\n",
       "      <td>1.000000</td>\n",
       "      <td>-0.308757</td>\n",
       "      <td>-0.352643</td>\n",
       "      <td>-0.512680</td>\n",
       "      <td>-0.188164</td>\n",
       "      <td>0.136389</td>\n",
       "    </tr>\n",
       "    <tr>\n",
       "      <th>ovtime</th>\n",
       "      <td>0.146544</td>\n",
       "      <td>-0.230789</td>\n",
       "      <td>-0.308757</td>\n",
       "      <td>1.000000</td>\n",
       "      <td>0.156792</td>\n",
       "      <td>0.535611</td>\n",
       "      <td>0.571168</td>\n",
       "      <td>0.309118</td>\n",
       "    </tr>\n",
       "    <tr>\n",
       "      <th>remote</th>\n",
       "      <td>0.452293</td>\n",
       "      <td>0.065397</td>\n",
       "      <td>-0.352643</td>\n",
       "      <td>0.156792</td>\n",
       "      <td>1.000000</td>\n",
       "      <td>0.076509</td>\n",
       "      <td>-0.057534</td>\n",
       "      <td>-0.150393</td>\n",
       "    </tr>\n",
       "    <tr>\n",
       "      <th>target_ln</th>\n",
       "      <td>-0.115529</td>\n",
       "      <td>-0.391975</td>\n",
       "      <td>-0.512680</td>\n",
       "      <td>0.535611</td>\n",
       "      <td>0.076509</td>\n",
       "      <td>1.000000</td>\n",
       "      <td>0.508287</td>\n",
       "      <td>0.286810</td>\n",
       "    </tr>\n",
       "    <tr>\n",
       "      <th>target_dn</th>\n",
       "      <td>-0.173852</td>\n",
       "      <td>-0.316894</td>\n",
       "      <td>-0.188164</td>\n",
       "      <td>0.571168</td>\n",
       "      <td>-0.057534</td>\n",
       "      <td>0.508287</td>\n",
       "      <td>1.000000</td>\n",
       "      <td>0.172373</td>\n",
       "    </tr>\n",
       "    <tr>\n",
       "      <th>worker_lunch</th>\n",
       "      <td>0.503771</td>\n",
       "      <td>-0.552661</td>\n",
       "      <td>0.136389</td>\n",
       "      <td>0.309118</td>\n",
       "      <td>-0.150393</td>\n",
       "      <td>0.286810</td>\n",
       "      <td>0.172373</td>\n",
       "      <td>1.000000</td>\n",
       "    </tr>\n",
       "  </tbody>\n",
       "</table>\n",
       "</div>"
      ],
      "text/plain": [
       "              employees    dayoff   bustrip    ovtime    remote  target_ln  \\\n",
       "employees      1.000000  0.244666 -0.061688  0.146544  0.452293  -0.115529   \n",
       "dayoff         0.244666  1.000000 -0.273318 -0.230789  0.065397  -0.391975   \n",
       "bustrip       -0.061688 -0.273318  1.000000 -0.308757 -0.352643  -0.512680   \n",
       "ovtime         0.146544 -0.230789 -0.308757  1.000000  0.156792   0.535611   \n",
       "remote         0.452293  0.065397 -0.352643  0.156792  1.000000   0.076509   \n",
       "target_ln     -0.115529 -0.391975 -0.512680  0.535611  0.076509   1.000000   \n",
       "target_dn     -0.173852 -0.316894 -0.188164  0.571168 -0.057534   0.508287   \n",
       "worker_lunch   0.503771 -0.552661  0.136389  0.309118 -0.150393   0.286810   \n",
       "\n",
       "              target_dn  worker_lunch  \n",
       "employees     -0.173852      0.503771  \n",
       "dayoff        -0.316894     -0.552661  \n",
       "bustrip       -0.188164      0.136389  \n",
       "ovtime         0.571168      0.309118  \n",
       "remote        -0.057534     -0.150393  \n",
       "target_ln      0.508287      0.286810  \n",
       "target_dn      1.000000      0.172373  \n",
       "worker_lunch   0.172373      1.000000  "
      ]
     },
     "metadata": {},
     "output_type": "display_data"
    }
   ],
   "source": [
    "train['worker_lunch'] = train['employees'] - train['dayoff'] - train['bustrip'] - train['remote']\n",
    "\n",
    "corr= train.corr()\n",
    "display(corr)"
   ]
  },
  {
   "cell_type": "code",
   "execution_count": 77,
   "metadata": {},
   "outputs": [
    {
     "data": {
      "text/plain": [
       "<AxesSubplot:>"
      ]
     },
     "execution_count": 77,
     "metadata": {},
     "output_type": "execute_result"
    },
    {
     "data": {
      "image/png": "[encoded data removed]",
      "text/plain": [
       "<Figure size 432x288 with 2 Axes>"
      ]
     },
     "metadata": {
      "needs_background": "light"
     },
     "output_type": "display_data"
    }
   ],
   "source": [
    "sns.heatmap(corr)"
   ]
  },
  {
   "cell_type": "markdown",
   "metadata": {},
   "source": [
    "- 실 근로자 수를 반영해도 더 높은 상관관계를 보이거나 하지는 않는 듯"
   ]
  },
  {
   "cell_type": "code",
   "execution_count": 76,
   "metadata": {},
   "outputs": [
    {
     "data": {
      "text/html": [
       "<div>\n",
       "<style scoped>\n",
       "    .dataframe tbody tr th:only-of-type {\n",
       "        vertical-align: middle;\n",
       "    }\n",
       "\n",
       "    .dataframe tbody tr th {\n",
       "        vertical-align: top;\n",
       "    }\n",
       "\n",
       "    .dataframe thead th {\n",
       "        text-align: right;\n",
       "    }\n",
       "</style>\n",
       "<table border=\"1\" class=\"dataframe\">\n",
       "  <thead>\n",
       "    <tr style=\"text-align: right;\">\n",
       "      <th></th>\n",
       "      <th>employees</th>\n",
       "      <th>dayoff</th>\n",
       "      <th>bustrip</th>\n",
       "      <th>ovtime</th>\n",
       "      <th>remote</th>\n",
       "      <th>target_ln</th>\n",
       "      <th>target_dn</th>\n",
       "      <th>worker_lunch</th>\n",
       "    </tr>\n",
       "    <tr>\n",
       "      <th>dow</th>\n",
       "      <th></th>\n",
       "      <th></th>\n",
       "      <th></th>\n",
       "      <th></th>\n",
       "      <th></th>\n",
       "      <th></th>\n",
       "      <th></th>\n",
       "      <th></th>\n",
       "    </tr>\n",
       "  </thead>\n",
       "  <tbody>\n",
       "    <tr>\n",
       "      <th>금</th>\n",
       "      <td>2807.817427</td>\n",
       "      <td>245.078838</td>\n",
       "      <td>273.680498</td>\n",
       "      <td>38.995851</td>\n",
       "      <td>37.278008</td>\n",
       "      <td>653.609959</td>\n",
       "      <td>404.979253</td>\n",
       "      <td>2251.780083</td>\n",
       "    </tr>\n",
       "    <tr>\n",
       "      <th>목</th>\n",
       "      <td>2805.815574</td>\n",
       "      <td>137.372951</td>\n",
       "      <td>255.577869</td>\n",
       "      <td>379.545082</td>\n",
       "      <td>42.389344</td>\n",
       "      <td>823.991803</td>\n",
       "      <td>480.401639</td>\n",
       "      <td>2370.475410</td>\n",
       "    </tr>\n",
       "    <tr>\n",
       "      <th>수</th>\n",
       "      <td>2805.690377</td>\n",
       "      <td>113.092050</td>\n",
       "      <td>241.405858</td>\n",
       "      <td>8.209205</td>\n",
       "      <td>45.652720</td>\n",
       "      <td>905.213389</td>\n",
       "      <td>363.615063</td>\n",
       "      <td>2405.539749</td>\n",
       "    </tr>\n",
       "    <tr>\n",
       "      <th>월</th>\n",
       "      <td>2812.049793</td>\n",
       "      <td>174.742739</td>\n",
       "      <td>204.190871</td>\n",
       "      <td>483.767635</td>\n",
       "      <td>45.518672</td>\n",
       "      <td>1144.331950</td>\n",
       "      <td>538.933610</td>\n",
       "      <td>2387.597510</td>\n",
       "    </tr>\n",
       "    <tr>\n",
       "      <th>화</th>\n",
       "      <td>2807.712500</td>\n",
       "      <td>119.004167</td>\n",
       "      <td>230.637500</td>\n",
       "      <td>457.308333</td>\n",
       "      <td>46.737500</td>\n",
       "      <td>925.620833</td>\n",
       "      <td>520.129167</td>\n",
       "      <td>2411.333333</td>\n",
       "    </tr>\n",
       "  </tbody>\n",
       "</table>\n",
       "</div>"
      ],
      "text/plain": [
       "       employees      dayoff     bustrip      ovtime     remote    target_ln  \\\n",
       "dow                                                                            \n",
       "금    2807.817427  245.078838  273.680498   38.995851  37.278008   653.609959   \n",
       "목    2805.815574  137.372951  255.577869  379.545082  42.389344   823.991803   \n",
       "수    2805.690377  113.092050  241.405858    8.209205  45.652720   905.213389   \n",
       "월    2812.049793  174.742739  204.190871  483.767635  45.518672  1144.331950   \n",
       "화    2807.712500  119.004167  230.637500  457.308333  46.737500   925.620833   \n",
       "\n",
       "      target_dn  worker_lunch  \n",
       "dow                            \n",
       "금    404.979253   2251.780083  \n",
       "목    480.401639   2370.475410  \n",
       "수    363.615063   2405.539749  \n",
       "월    538.933610   2387.597510  \n",
       "화    520.129167   2411.333333  "
      ]
     },
     "execution_count": 76,
     "metadata": {},
     "output_type": "execute_result"
    }
   ],
   "source": [
    " train.groupby(train['dow']).mean()"
   ]
  },
  {
   "cell_type": "code",
   "execution_count": 79,
   "metadata": {},
   "outputs": [
    {
     "data": {
      "text/plain": [
       "Index(['date', 'dow', 'employees', 'dayoff', 'bustrip', 'ovtime', 'remote',\n",
       "       'brk', 'ln', 'dn', 'target_ln', 'target_dn', 'worker_lunch'],\n",
       "      dtype='object')"
      ]
     },
     "execution_count": 79,
     "metadata": {},
     "output_type": "execute_result"
    }
   ],
   "source": [
    "train.columns"
   ]
  },
  {
   "cell_type": "code",
   "execution_count": 88,
   "metadata": {},
   "outputs": [
    {
     "name": "stdout",
     "output_type": "stream",
     "text": [
      "[['쌀밥/잡곡밥', '오징어찌개', '쇠불고기', '계란찜', '청포묵무침', '요구르트', '포기김치'], ['쌀밥/잡곡밥', '김치찌개', '가자미튀김', '모둠소세지구이', '마늘쫑무침', '요구르트', '배추겉절이'], ['카레덮밥', '팽이장국', '치킨핑거', '쫄면야채무침', '견과류조림', '요구르트', '포기김치'], ['쌀밥/잡곡밥', '쇠고기무국', '주꾸미볶음', '부추전', '시금치나물', '요구르트', '포기김치'], ['쌀밥/잡곡밥', '떡국', '돈육씨앗강정', '우엉잡채', '청경채무침', '요구르트', '포기김치'], ['쌀밥/잡곡밥', '시래기국', '훈제오리구이', '도토리묵무침', '쌈무/양파절임', '요구르트', '포기김치'], ['쌀밥/잡곡밥', '꽃게탕', '돈육굴소스볶음', '옥수수전', '유채나물', '요구르트', '포기김치'], ['쌀밥/잡곡밥', '시금치국', '닭감자조림', '연두부*양념장', '콩나물무침', '요구르트', '포기김치'], ['쌀밥/잡곡밥', '쇠고기무국', '탕수어', '오징어숙회무침', '취나물', '요구르트', '포기김치'], ['쌀밥/잡곡밥', '냉이된장국', '쇠고기장조림', '통도라지구이', '치커리무침', '요구르트', '포기김치'], ['낙지비빔밥', '유부장국', '고구마치즈구이', '해초무침', '요구르트', '요구르트', '포기김치'], ['쌀밥/잡곡밥', '대구찌개', '마늘간장치킨', '새송이버섯볶음', '돌나물무침/치킨무', '요구르트', '포기김치'], ['쌀밥/오곡밥', '쇠고기느타리국', '갈치구이', '호박꼬지&고사리&무나물', '파래김*양념장', '부럼/요구르트', '포기김치'], ['쌀밥/잡곡밥', '콩나물국', '돈육간장볶음', '버섯잡채', '꽃상추무침', '요구르트', '포기김치'], ['비빔밥', '팽이장국', '소세지피망볶음', '맛탕', '귤', '요구르트', '포기김치'], ['쌀밥/잡곡밥', '북어계란국', '닭갈비', '새싹두부구이', '곰피초장', '요구르트', '포기김치'], ['쌀밥/잡곡밥', '수제비국', '오징어볶음', '계란찜', '도라지초무침', '요구르트', '포기김치'], ['쌀밥/잡곡밥', '얼갈이된장국', '제육볶음', '늙은호박전', '치커리생채', '요구르트', '포기김치'], ['쌀밥/잡곡밥', '쇠고기미역국', '주꾸미볶음', '맛살계란말이', '아삭고추무침', '포기김치'], ['쌀밥/잡곡밥', '근대된장국', '탕수육', '새송이버섯조림', '무생채', '요구르트', '포기김치'], ['쌀밥/잡곡밥', '부대찌개', '가자미튀김', '메추리알조림', '열무된장나물', '깍두기'], ['쌀밥/잡곡밥', '콩나물국', '닭갈비', '모둠묵*양념장', '톳두부무침', '포기김치'], ['쌀밥/잡곡밥', '차돌박이찌개', '고등어김치말이', '소세지구이', '풋마늘초무침', '깍두기'], ['쌀밥/잡곡밥', '북어국', '돈육장조림', '홍어무침', '시금치나물', '포기김치'], ['쌀밥/잡곡밥', '고추장찌개', '닭데리야끼조림', '해물파전', '취나물', '포기김치'], ['쌀밥/잡곡밥', '배추된장국', '수제돈가스', '탕평채', '쫄면무침', '포기김치'], ['쌀밥/잡곡밥', '어묵국', '돈육고추장볶음', '모둠양채쌈*쌈장', '콩나물파채무침', '포기김치'], ['쌀밥/잡곡밥', '쑥국', '소불고기', '골뱅이무침*소면', '마늘쫑볶음', '포기김치'], ['곤드레밥', '콩나물김치국', '미니채소떡갈비', '두부계란부침', '무나물', '포기김치'], ['쌀밥/잡곡밥', '사골우거지국', '탕수어', '파래김*양념장', '깻순나물', '깍두기'], ['쌀밥/잡곡밥', '시금치국', '훈제오리구이', '연근땅콩조림', '쌈무/부추생채', '포기김치'], ['쌀밥/잡곡밥', '꽃게탕', '버섯불고기', '계란말이', '도토리묵무침', '포기김치'], ['쌀밥/잡곡밥', '쇠고기샤브국', '코다리강정', '두부&김치볶음', '유채나물', '깍두기'], ['콩나물밥*달래장', '맑은국', '치킨텐더*요거트D', '땅콩조림', '실곤약초무침', '포기김치'], ['쌀밥/잡곡밥', '북어계란국', '쇠고기장조림', '오징어초무침', '시래기나물', '포기김치'], ['쌀밥/잡곡밥', '닭개장', '자반고등어구이', '비엔나볶음', '열무나물', '배추겉절이'], ['쌀밥/잡곡밥', '얼갈이된장국', '닭갈비', '해파리냉채', '취나물', '포기김치'], ['쌀밥/잡곡밥', '옹심이만두국', '주꾸미볶음', '새송이버섯전', '치커리유자청생채', '포기김치'], ['봄새싹비빔밥', '쪽파국', '오징어튀김', '알감자버터구이', '오렌지', '포기김치'], ['쌀밥/잡곡밥', '매운콩나물국', '돈육굴소스볶음', '동태전', '봄동나물', '포기김치'], ['쌀밥/잡곡밥', '버섯들깨탕', '갈치조림', '우엉잡채', '아삭고추무침', '포기김치'], ['쌀밥/잡곡밥', '순두부찌개', '쇠불고기', '브로컬리맛살볶음', '풋마늘초무침', '포기김치'], ['쌀밥/잡곡밥', '북어국', '오징어볶음*소면', '모둠소시지구이', '시금치나물', '포기김치'], ['쌀밥/잡곡밥', '올갱이아욱국', '제육볶음', '두부조림', '모둠쌈*쌈장', '포기김치'], ['쌀밥/잡곡밥', '어묵국', '매운돼지갈비찜', '해물파전', '무생채', '포기김치'], ['쌀밥/잡곡밥', '배추된장국', '순살양념치킨', '메추리알조림', '콩나물무침', '포기김치'], ['쌀밥/잡곡밥', '시래기국', '훈제오리구이', '무쌈/양파절임', '풋마늘초무침', '포기김치'], ['쌀밥/잡곡밥', '부대찌개', '쇠고기단호박조림', '열무나물', '시금치나물', '포기김치'], ['쌀밥/잡곡밥', '수제비국', '돈육굴소스볶음', '양배추쌈', '무생채', '포기김치'], ['쌀밥/잡곡밥', '냉이된장찌개', '닭데리야끼조림', '도라지초무침', '콩나물무침', '포기김치'], ['쌀밥/잡곡밥', '배추된장국', '돈육강정', '콩나물잡채', '브로컬리두부무침', '포기김치'], ['쌀밥/잡곡밥', '육개장', '꽁치한마리구이', '고기전', '해초무침', '포기김치'], ['콩나물밥', '근대된장국', '매콤떡갈비조림', '청포묵무침', '부추생채', '포기김치'], ['쌀밥/잡곡밥', '대구매운탕', '쇠고기볶음', '옥수수전', '청경채생채', '포기김치'], ['쌀밥/잡곡밥', '북어국', '등갈비김치찜', '연근조림', '깻잎양념지', '열무김치'], ['쌀밥/잡곡밥', '콩나물국', '돈간장불고기', '김치전', '버섯볶음', '포기김치'], ['쌀밥/잡곡밥', '쇠고기무국', '주꾸미볶음', '치즈계란말이', '풋마늘대무침', '포기김치'], ['나물비빔밥', '미소장국', '궁중떡찜', '알감자버터구이', '유기농식혜', '배추겉절이'], ['쌀밥/잡곡밥', '미역국', '양념파닭', '동그랑땡부침', '콩자반/치킨무', '포기김치'], ['쌀밥/잡곡밥', '돈육김치찌개', '미트볼조림', '고등어카레구이', '치커리사과무침', '깍두기'], ['쌀밥/잡곡밥', '시금치국', '닭갈비', '맛살겨자채', '비름나물', '포기김치'], ['곤드레밥', '무채국', '모둠장조림', '온두부', '실곤약초무침', '볶은김치'], ['쌀밥/잡곡밥', '쇠고기샤브국', '오징어볶음', '동태전', '무생채', '포기김치'], ['쌀밥/잡곡밥', '매운어묵국', '훈제오리구이', '무쌈/양파절임', '도토리묵무침', '포기김치'], ['쌀밥/잡곡밥', '콩나물국', '버섯불고기', '오징어초무침', '시금치나물', '포기김치'], ['단호박영양밥', '시래기된장국', '돈육칠리강정', '멸치크랜베리볶음', '가지나물', '포기김치'], ['쌀밥/잡곡밥', '오징어국', '찜닭', '꽃맛살볶음', '통도라지구이', '포기김치'], ['쌀밥/잡곡밥', '된장찌개', '매운돼지갈비찜', '해물파전', '치커리유자생채', '배추겉절이'], ['쌀밥/잡곡밥', '감자고추장찌개', '돈육굴소스볶음', '계란찜', '꽃상추무침', '포기김치'], ['쌀밥/잡곡밥', '들깨버섯탕', '고등어김치말이', '고기전', '비름나물', '깍두기'], ['산채비빔밥', '미소장국', '치킨핑거', '연근땅콩조림', '요플레', '포기김치'], ['쌀밥/잡곡밥', '열무된장국', '미니채소떡갈비', '골뱅이무침*소면', '숙주나물', '포기김치'], ['쌀밥/잡곡밥', '순두부찌개', '닭오븐구이', '새송이버섯전', '불미나리무침', '포기김치'], ['쌀밥/잡곡밥', '북어콩나물국', '쇠고기불고기', '옥수수전', '오이무침', '포기김치'], ['쌀밥/잡곡밥', '한방갈비탕', '꼬지삼색전', '오징어숙회무침', '치커리생채', '석박지'], ['낙지볶음밥', '미역장국', '탕수어', '우엉조림', '매실주스', '포기김치'], ['쌀밥/잡곡밥', '쇠고기해장국', '갈치구이', '비엔나감자볶음', '무생채', '포기김치'], ['쌀밥/잡곡밥', '배추된장국', '닭양념조림', '동그랑땡전', '고구마순나물', '깍두기'], ['쌀밥/잡곡밥', '콩나물김치국', '누룽지탕수육', '명태조림', '오이도라지생채', '포기김치'], ['쌀밥/잡곡밥', '근대된장국', '닭갈비', '잡채', '깻잎양념지', '포기김치'], ['열무비빔밥', '강된장찌개', '오징어튀김', '궁중떡볶이', '음료', '포기김치'], ['쌀밥/잡곡밥', '오이미역냉국', '모둠장조림', '두부구이', '실곤약초무침', '포기김치'], ['쌀밥/잡곡밥', '차돌박이찌개', '찜닭', '김치전', '머위대나물', '포기김치'], ['쌀밥/잡곡밥', '북어계란국', '돈육굴소스볶음', '홍어채무침', '가지나물', '포기김치'], ['쌀밥/잡곡밥', '참치김치찌개', '순살깐풍기', '맛살콩나물냉채', '브로컬리초장', '깍두기'], ['쌀밥/잡곡밥', '매운콩나물국', '돼지갈비찜', '부추전', '비름나물', '포기김치'], ['쌀밥/잡곡밥', '된장찌개', '오징어볶음', '모둠소시지구이', '치커리사과무침', '포기김치'], ['쌀밥/잡곡밥', '북어콩나물국', '제육볶음', '참치야채전', '모둠쌈', '포기김치'], ['쌀밥/잡곡밥', '배추된장국', '닭양념조림', '탕평채', '어묵볶음', '열무김치'], ['카레덮밥', '맑은국', '떡갈비조림', '쫄면무침', '열무된장나물', '포기김치'], ['쌀밥/잡곡밥', '부대찌개', '가자미양념찜', '고기전', '해초무침', '깍두기'], ['쌀밥/잡곡밥', '꽃게탕', '돈육강정', '버섯잡채', '김구이', '포기김치'], ['쌀밥/잡곡밥', '어묵국', '레몬탕수육', '명태엿장조림', '시금치나물', '포기김치'], ['쌀밥/잡곡밥', '대구찌개', '간장치킨', '마늘쫑볶음', '오이무침/치킨무', '포기김치'], ['쌀밥/잡곡밥', '시래기국', '돈삼겹보쌈', '새송이버섯전', '콩나물파채무침', '포기김치/상추쌈'], ['쌀밥/잡곡밥', '쇠고기무국', '매콤낙지볶음', '메추리알조림', '숙주나물', '포기김치'], ['쌀밥/잡곡밥', '도토리묵냉국', '목살데리야끼구이', '골뱅이무침&소면', '간장깻잎지', '포기김치'], ['쌀밥/잡곡밥', '배추된장국', '훈제오리구이', '실곤약초무침', '쌈무/야채스틱', '포기김치'], ['쌀밥/잡곡밥', '육개장', '고등어구이', '닭가슴살냉채', '마늘쫑무침', '포기김치'], ['쌀밥/잡곡밥', '콩나물국', '간장돼지갈비찜', '계란말이', '상추겉절이', '포기김치'], ['쌀밥/잡곡밥', '버섯들깨찌개', '닭오븐구이', '김치전', '치커리사과무침', '열무김치'], ['쌀밥/잡곡밥', '수제비국', '유자청제육볶음', '두부새싹구이', '양배추쌈*쌈장', '포기김치'], ['쌀밥/잡곡밥', '감자고추장찌개', '버섯불고기', '맛살겨자초무침', '노각무침', '포기김치'], ['쌀밥/잡곡밥', '쇠고기미역국', '꽁치김치말이찜', '모둠소세지구이', '비름나물', '배추겉절이'], ['곤드레밥', '가쯔오장국', '닭강정', '해물파전', '통도라지구이', '포기김치'], ['쌀밥/잡곡밥', '된장찌개', '갈치조림', '돈육잡채', '오이생채', '포기김치'], ['쌀밥/잡곡밥', '우무묵냉국', '갈릭돈까스', '감자볶음', '영양부추', '알타리김치'], ['쌀밥/잡곡밥', '호박잎찌개', '돈육굴소스볶음', '홍어채무침', '모듬쌈*쌈장', '포기김치'], ['쌀밥/잡곡밥', '건새우아욱국', '순살파닭', '꽃맛살볶음', '도라지나물', '포기김치'], ['나물비빔밥', '오이냉국', '사천식탕수육', '감자만두', '수박', '포기김치'], ['쌀밥/잡곡밥', '배추된장국', '매운주꾸미볶음', '동태전', '브로컬리두부무침', '알타리김치'], ['쌀밥/잡곡밥', '북어계란국', '등갈비김치찜', '삼치구이', '가지나물', '열무김치'], ['쌀밥/잡곡밥', '순두부찌개', '돈육떡강정', '새송이버섯전', '해초무침', '포기김치'], ['쌀밥/잡곡밥', '시래기국', '목살데리야끼', '늙은호박전', '치커리들깨무침', '포기김치'], ['쌀밥/잡곡밥', '사골우거지탕', '미트볼조림', '골뱅이무침*소면', '청포묵무침', '포기김치'], ['쌀밥/잡곡밥', '우묵콩국', '고추장불고기', '명태엿장조림', '깻잎지', '알타리김치'], ['참치회덮밥', '미소장국', '고구마치즈구이', '춘권', '토마토/락교', '포기김치'], ['쌀밥/잡곡밥', '쇠고기미역국', '불닭볶음', '해파리겨자채', '쌈무/참나물생채', '포기김치'], ['쌀밥/잡곡밥', '청국장찌개', '미니채소떡갈비', '계란말이', '연근조림', '포기김치'], ['쌀밥/잡곡밥', '시금치국', '동파삼겹수육', '감자채볶음', '오이도라지무침/수박', '포기김치'], ['쌀밥/잡곡밥', '꽃게탕', '훈제오리냉채', '동그랑땡전', '콩자반', '배추겉절이'], ['연복풍덮밥', '도토리묵냉국', '꽁치오븐구이', '마늘쫑무침', '양배추피클', '포기김치'], ['쌀밥/잡곡밥', '부대찌개*라면사리', '갈치구이', '닭살겨자냉채', '꽈리고추찜', '포기김치'], ['열무보리비빔밥', '팽이장국', '꽃맛살볶음', '웨지감자오븐구이', '유기농식혜', '알타리김치'], ['쌀밥/잡곡밥', '버섯들깨탕', '레몬탕수육', '메추리알조림', '콩나물무침', '포기김치'], ['쌀밥/잡곡밥', '복숭아미역냉국', '닭데리야끼조림', '비엔나감자볶음', '시금치무침', '포기김치'], ['쌀밥/잡곡밥', '된장찌개', '매콤돼지갈비찜', '연근/오징어튀김', '무생채', '열무김치'], ['쌀밥/잡곡밥', '호박잎된장국', '유자청제육볶음', '오꼬노미계란말이', '도라지초무침', '포기김치'], ['쌀밥/잡곡밥', '콩나물국', '미니함박조림', '오징어브로컬리숙회', '오이무침', '포기김치'], ['쌀밥/잡곡밥', '사과오이냉국', '장어강정', '우엉잡채', '치커리생채', '포기김치'], ['쌀밥/잡곡밥', '시래기국', '삼겹살오븐구이', '매운어묵볶음', '상추&마늘', '포기김치'], ['불고기덮밥', '맑은국', '새우까스&탈탈소스', '고구마범벅', '노각무침', '포기김치'], ['쌀밥/잡곡밥', '닭곰탕', '고등어조림', '비엔나피망볶음', '해초무침', '알타리김치'], ['쌀밥/잡곡밥', '대구매운탕', '오징어볶음', '고기전', '청경채무침', '포기김치'], ['쌀밥/잡곡밥', '열무된장국', '갈릭돈가스', '마늘쫑볶음', '실곤약초무침', '포기김치'], ['단호박영양밥', '도토리묵냉국', '소고기숙주볶음', '땅콩조림', '쑥갓두부무침', '포기김치'], ['쌀밥/잡곡밥', '꽃게탕', '고추잡채*꽃빵', '꽁치와사비구이', '오이무침', '포기김치'], ['쌀밥/잡곡밥', '배추된장국', '칠리탕수육', '두부조림', '콩나물무침', '열무김치'], ['쌀밥/잡곡밥', '해물된장찌개', '닭볶음', '연근조림', '치커리유자청무침', '포기김치'], ['쌀밥/잡곡밥', '육개장', '동태무조림', '부추전', '올방개묵무침', '포기김치'], ['쌀밥/잡곡밥', '떡국', '마늘치킨', '홍어채무침', '꽃맛살오리엔탈샐러드', '포기김치'], ['쌀밥/잡곡밥', '순두부찌개', '소불고기', '골뱅이무침*소면', '아삭고추무침', '포기김치'], ['쌀밥/잡곡밥', '버섯매운탕', '갈치구이', '모듬소시지볶음', '호박잎쌈*양념', '포기김치'], ['낙지비빔밥', '가쯔오장국', '계란말이', '과일샐러드', '단무지무침', '열무김치'], ['쌀밥/잡곡밥', '오징어국', '목살데리야끼', '버섯잡채', '브로컬리초장', '포기김치'], ['쌀밥/잡곡밥', '시래기된장국', '닭찜', '해물파전', '청경채무침', '포기김치'], ['쌀밥/잡곡밥', '쇠고기샤브국', '오징어볶음', '옥수수전', '연두부*양념', '포기김치'], ['쌀밥/잡곡밥', '부대찌개', '가자미카레튀김', '모둠버섯볶음', '참나물땅콩무침', '파김치'], ['곤드레밥', '두부맑은국', '돈육떡강정', '계란찜', '오이무침', '포기김치'], ['쌀밥/잡곡밥', '된장찌개', '오리고추장볶음', '콩나물잡채', '부추생채', '알타리김치'], ['쌀밥/잡곡밥', '황태맑은국', '유린기', '도토리묵무침', '숙주나물', '포기김치'], ['쌀밥/잡곡밥', '시래기국', '닭볶음', '동그랑땡', '상추겉절이', '깍두기'], ['쌀밥/잡곡밥', '토란국', '매운돼지갈비찜', '어묵볶음', '쑥갓두부무침', '포기김치'], ['쌀밥/잡곡밥', '어묵국', '오리훈제고추장볶음', '계란말이', '애호박나물', '포기김치'], ['쌀밥/잡곡밥', '얼갈이된장국', '레몬탕수육', '감자채볶음', '참나물생채', '포기김치'], ['열무비빔밥', '팽이장국', '너비아니구이', '땅콩조림', '핫도그/음료', '깍두기'], ['쌀밥/잡곡밥', '쇠고기무국', '임연수찜', '햄피망볶음', '단배추나물', '포기김치'], ['쌀밥/잡곡밥', '오징어국', '소고기숙주볶음', '두부조림', '무생채', '포기김치'], ['쌀밥/잡곡밥', '아욱된장국', '유자청돈육볶음', '우엉잡채', '양배추쌈&쌈장', '포기김치'], ['쌀밥/잡곡밥', '느타리버섯국', '간장파닭', '쫄면무침', '열무된장나물', '포기김치'], ['카레덮밥', '맑은국', '샐러드파스타', '새송이버섯조림', '오이무침', '포기김치'], ['쌀밥/잡곡밥', '된장찌개', '돈육장조림', '호박부추전', '올방개묵무침', '포기김치'], ['쌀밥/잡곡밥', '우거지해장국', '꽁치한마리구이', '가지볶음', '브로컬리초장', '알타리김치'], ['쌀밥/잡곡밥', '배추된장국', '버섯불고기', '골뱅이소면무침', '마늘쫑건새우볶음', '포기김치'], ['쌀밥/잡곡밥', '차돌박이찌개', '매운주꾸미볶음', '모둠소세지구이', '콩나물무침', '포기김치'], ['쌀밥/잡곡밥', '미역국', '한방소갈비찜', '오징어숙회무침', '동태/새송이전', '배추겉절이'], ['쌀밥/잡곡밥', '대구매운탕', '표고돈육탕수', '메추리알곤약조림', '부추생채', '포기김치'], ['쌀밥/잡곡밥', '쇠고기샤브국', '오징어볶음', '맛살계란말이', '참나물무침', '포기김치'], ['쌀밥/잡곡밥', '시금치된장국', '목살스테이크', '버섯잡채', '오이무침', '배추겉절이'], ['산채비빔밥*강된장', '팽이버섯국', '생선커틀릿', '*타르타르소스', '오복지무침', '오렌지주스', '포기김치'], ['쌀밥/잡곡밥', '떡국', '마늘치킨', '모듬묵*양념장', '열무된장나물', '포기김치'], ['쌀밥/잡곡밥', '건새우무국', '등갈비김치찜', '계란버섯장조림', '애호박나물', '포기김치'], ['쌀밥/잡곡밥', '미역국', '소불고기', '모둠양채쌈', '매운어묵볶음', '포기김치'], ['쌀밥/잡곡밥', '꽃게탕', '미트볼칠리조림', '부추전', '치커리유자청무침', '포기김치'], ['쌀밥/잡곡밥', '참치김치찌개', '유린기', '셀프무쌈말이', '멸치크렌베리볶음', '포기김치'], ['쌀밥/잡곡밥', '돈신탕(해장탕)', '꽁치김치말이', '메밀버섯전', '쑥갓두부무침', '알타리김치'], ['짜장밥', '계란국', '사천식탕수육', '풍기샐러드', '단무지', '포기김치'], ['쌀밥/잡곡밥', '된장찌개', '제육볶음', '해물파전', '콩나물무침', '포기김치'], ['쌀밥/잡곡밥', '육개장', '갈치구이', '고추잡채*꽃빵', '미역레몬초무침', '깍두기'], ['곤드레밥', '배추된장국', '데리야끼파닭', '실곤약초무침', '땅콩조림', '포기김치'], ['쌀밥/잡곡밥', '동태찌개', '돈육장조림', '두부계란전', '해초무침', '포기김치'], ['쌀밥/잡곡밥', '버섯들깨탕', '고등어조림', '비엔나감자볶음', '통도라지구이', '알타리김치'], ['쌀밥/잡곡밥', '근대된장국', '쇠고기숙주볶음', '새송이버섯전', '홍어채무침', '포기김치'], ['쌀밥/잡곡밥', '알탕', '닭갈비', '생선까스*탈탈소스', '시금치나물', '포기김치'], ['콩나물밥', '가쯔오장국', '훈제오리/무쌈', '양파절임', '부추겉절이', '포기김치'], ['쌀밥/잡곡밥', '쇠고기무국', '쭈꾸미볶음', '계란말이', '세발나물', '포기김치'], ['쌀밥/잡곡밥', '사골우거지탕', '명태엿장조림', '모듬소세지구이', '오이무침', '석박지'], ['쌀밥/잡곡밥', '오징어국', '유자청제육볶음', '날치알계란찜', '상추파채무침', '포기김치'], ['쌀밥/잡곡밥', '차돌박이찌개', '순살양념치킨', '동그랑땡전', '깻잎지', '포기김치'], ['단호박영양밥', '꽃게탕', '고추잡채*꽃빵', '연근조림', '무생채/귤', '포기김치'], ['쌀밥/잡곡밥', '김치콩나물국', '쇠고기장조림', '닭살겨자채', '멸치아몬드볶음', '알타리김치'], ['쌀밥/잡곡밥', '아욱된장국', '칠리탕수육', '동태전', '치커리무침', '포기김치'], ['쌀밥/잡곡밥', '어묵국', '소고기버섯볶음', '오징어숙회무침', '부추호박전', '포기김치'], ['쌀밥/잡곡밥', '김치국', '닭데리야끼조림', '햄감자채볶음', '브로컬리무침', '포기김치'], ['버섯영양밥', '조랭이떡미역국', '유산슬', '임연수구이', '청경채무침', '포기김치'], ['쌀밥/잡곡밥', '설렁탕', '해물김치전', '올방개묵무침', '풋고추*양파', '깍두기'], ['쌀밥/잡곡밥', '콩비지찌개', '순살깐풍기', '어묵볶음', '쌈다시마초장', '갓김치'], ['쌀밥/잡곡밥', '시래기된장국', '누룽지탕수육', '계란찜', '도라지초무침', '포기김치'], ['쌀밥/잡곡밥', '대구매운탕', '쇠고기숙주볶음', '새싹두부구이', '오이생채', '포기김치'], ['쌀밥/잡곡밥', '순두부탕', '파닭', '갈치조림', '청포묵무침', '포기김치'], ['쌀밥/잡곡밥', '수제비국', '짬뽕불고기', '우엉잡채', '참나물', '포기김치'], ['카레덮밥', '맑은국', '통감자오븐구이', '샐러드파스타', '연근땅콩조림', '베추겉절이'], ['쌀밥/잡곡밥', '쇠고기느타리국', '오징어볶음', '모둠소시지구이', '물파래무침', '포기김치'], ['쌀밥/잡곡밥', '근대국', '제육볶음', '늙은호박전', '모둠쌈', '포기김치'], ['나물비빔밥', '가쯔오장국', '치킨핑거*요거트D', '감자샐러드', '오복지무침', '포기김치'], ['쌀밥/잡곡밥', '콩나물국', '모둠장조림', '골뱅이무침*소면', '톳두부무침', '알타리김치'], ['쌀밥/잡곡밥', '떡국', '양념찜닭', '콩나물겨자채', '청경채무침', '포기김치'], ['쌀밥/잡곡밥', '순두부찌개', '훈제오리구이', '참치야채전', '무쌈말이', '포기김치'], ['쌀밥/잡곡밥', '홍합탕', '삼겹살오븐구이', '실곤약흑임자무침', '배추쌈/무말랭이', '포기김치'], ['짜장밥', '유부장국', '해물누룽지탕', '개성감자만두', '쨔샤이무침/아이스슈', '포기김치'], ['쌀밥/잡곡밥', '아욱국', '양념돼지갈비찜', '버섯메밀전', '상추초무침', '알타리김치'], ['쌀밥/잡곡밥', '차돌박이된장찌개', '삼치무조림', '닭가슴살냉채', '마늘쫑무침', '포기김치'], ['쌀밥/잡곡밥', '콩나물김치국', '돈육굴소스볶음', '매운어묵무침', '다시마*브로컬리', '깍두기'], ['쌀밥/잡곡밥', '냉이된장찌개', '코다리강정', '돈육잡채', '오이도라지무침', '포기김치'], ['소불고기덮밥', '가쯔오장국', '고구마튀김', '멕시칸샐러드', '청경채무침', '포기김치'], ['쌀밥/잡곡밥', '콩비지찌개', '오리고추장볶음', '옥수수계란찜', '부추생채', '포기김치'], ['쌀밥/잡곡밥', '쇠고기샤브국', '갈치구이', '비엔케찹볶음', '아삭고추무침', '포기김치'], ['쌀밥/잡곡밥', '배추된장국', '짬뽕불고기', '감자채볶음', '하루나겉절이', '포기김치'], ['쌀밥/잡곡밥', '콩나물국', '고추잡채*꽃빵', '꽁치김치말이', '올방개묵무침', '깍두기'], ['쌀밥/잡곡밥', '된장찌개', '마늘간장치킨', '홍어채무침', '가지나물', '포기김치'], ['쌀밥/잡곡밥', '꽃게탕', '쇠고기버섯볶음', '양배추쌈*쌈장', '오이무침', '포기김치'], ['쌀밥/잡곡밥', '얼갈이국', '떡갈비조림', '동태전', '치커리유자청무침', '포기김치'], ['쌀밥/잡곡밥', '동태찌개', '돈육간장불고기', '두부새싹구이', '풋마늘대무침', '포기김치'], ['쌀밥/잡곡밥', '열무된장국', '닭갈비', '우엉잡채', '포기김치'], ['콩나물밥', '가쯔오장국', '미트볼케찹조림', '꽃맛살샐러드', '군고구마', '배추겉절이'], ['쌀밥/잡곡밥', '시래기국', '오징어볶음*소면', '소세지감자조림', '쑥갓두부무침', '포기김치'], ['쌀밥/잡곡밥', '순두부찌개', '수제돈까스', '꽈리고추어묵볶음', '물미역초장', '포기김치'], ['쌀밥/잡곡밥', '사골떡국', '쇠고기낙지볶음', '부추깻잎전', '통도라지구이', '포기김치'], ['쌀밥/잡곡밥', '홍합탕', '매운동태찜', '언양식불고기', '콩나물파채절이', '포기김치'], ['곤드레밥', '황태국', '동그랑땡전', '비빔메밀국수', '꽈리고추멸치볶음', '배추겉절이'], ['쌀밥/잡곡밥', '육개장', '굴비구이', '두반장감자볶음', '청경채생채', '포기김치'], ['쌀밥/잡곡밥', '된장찌개', '레몬탕수육', '주꾸미초무침', '어묵볶음', '포기김치'], ['쌀밥/잡곡밥', '콩나물국', '동파육', '무쌈말이', '쫑상추무침', '포기김치'], ['쌀밥/잡곡밥', '쇠고기미역국', '주꾸미떡볶음', '고기전', '두반장가지볶음', '포기김치'], ['비빔밥', '팽이장국', '생선까스', '씨리얼과일샐러드', '오복지무침', '포기김치'], ['쌀밥/잡곡밥', '어묵국', '매운닭찜', '모듬버섯구이*초장', '봄동된장무침', '배추겉절이'], ['쌀밥/잡곡밥', '짬뽕국', '미니함박조림', '잡채', '치커리유자생채', '포기김치'], ['쌀밥/잡곡밥', '얼갈이된장국', '오징어볶음*소면', '꽃맛살햄볶음', '참나물땅콩무침', '포기김치'], ['쌀밥/잡곡밥', '순두부찌개', '쇠고기숙주볶음', '삼색묵무침', '시금치초생채', '포기김치'], ['쌀밥/잡곡밥', '아욱국', '훈제오리구이', '옥수수전', '무쌈/부추무침', '배추겉절이'], ['쌀밥/잡곡밥', '수제비국', '유자청돈육볶음', '두부새싹구이', '청경채무침', '포기김치'], ['쌀밥/잡곡밥', '닭개장', '가자미카레튀김', '비엔나케찹볶음', '파래김*양념장', '포기김치'], ['쌀밥/잡곡밥', '냉이콩나물국', '닭볶음', '새송이버섯전', '마늘쫑무침', '포기김치'], ['쌀밥/잡곡밥', '알탕', '돈육간장불고기', '감자채볶음', '깻잎찜', '포기김치'], ['카레덮밥', '맑은국', '유린기', '개성감자만두', '오이사과무침', '포기김치'], ['쌀밥/잡곡밥', '배추된장국', '소갈비찜', '삼색꼬지전', '콩나물무침', '포기김치'], ['쌀밥/잡곡밥', '미역국', '언양식불고기*양파채', '양잡피잡채', '진미채무침', '포기김치'], ['쌀밥/잡곡밥', '시금치된장국', '고추장불고기', '닭살겨자채', '모듬쌈', '포기김치'], ['쌀밥/잡곡밥', '굴김치두부국', '스위트칠리미트볼', '갈치구이', '치커리생채', '알타리김치'], ['쌀밥/잡곡밥', '콩나물국', '소고기낙지볶음', '연두부찜', '무생채', '포기김치'], ['쌀밥/잡곡밥', '냉이된장찌개', '닭갈비', '감자전', '단배추나물', '포기김치'], ['쌀밥/잡곡밥', '대구매운탕', '유산슬', '땅콩멸치볶음', '실곤약무침', '포기김치'], ['콩나물밥', '맑은국', '닭오븐구이', '춘권*칠리소스', '물미역무침', '포기김치'], ['쌀밥/잡곡밥', '배추국', '수제돈까스', '명태조림', '치커리생채', '알타리김치'], ['오곡밥', '소고기무국', '굴비구이', '홍어무침', '보름나물/김구이', '포기김치'], ['쌀밥/잡곡밥', '쇠고기미역국', '제육볶음', '두부구이*양념장', '도라지오이생채', '포기김치'], ['쌀밥/잡곡밥', '된장찌개', '주꾸미볶음', '돈육잡채', '숙주나물', '배추겉절이'], ['쌀밥/잡곡밥', '들깨시래기국', '순살파닭', '해물김치전', '다시마쌈', '포기김치'], ['쌀밥/잡곡밥', '홍합탕', '소불고기', '오징어초무침', '얼갈이나물', '포기김치'], ['쌀밥/잡곡밥', '어묵국', '등갈비김치찜', '동태전', '부추무침', '깍두기'], ['쌀밥/잡곡밥', '열무된장국', '동파육', '새송이버섯전', '치커리유자무침', '포기김치'], ['쌀밥/잡곡밥', '버섯들깨탕', '낙지볶음', '야채계란찜', '취나물', '배추겉절이'], ['나물비빔밥', '유부장국', '생선까스*탈탈소스', '파스타샐러드', '마늘쫑볶음', '알타리김치'], ['쌀밥/잡곡밥', '콩나물국', '돼지갈비찜', '메추리알조림', '브로컬리초장', '포기김치'], ['쌀밥/잡곡밥', '수제비국', '깐풍기', '어묵볶음', '톳무침', '포기김치'], ['쌀밥/잡곡밥', '봄동된장국', '훈제오리구이', '녹두김치전', '양파절임/오이부추무침', '포기김치'], ['쌀밥/잡곡밥', '사골떡국', '언양식불고기', '콩나물동태찜', '돌나물무침', '배추겉절이'], ['쌀밥/잡곡밥', '돈육김치찌개', '팝콘치킨*데리마요', '고등어조림', '해초무침', '깍두기'], ['카레덮밥', '맑은국', '미니채소떡갈비', '군만두', '무피클', '포기김치'], ['쌀밥/잡곡밥', '어묵국', '순살닭갈비', '동그랑땡전', '치커리사과무침', '포기김치'], ['쌀밥/잡곡밥', '토란탕', '돈육칠리강정', '꽁치한마리구이', '봄동달래무침', '포기김치'], ['곤드레밥*강된장', '미소국', '오징어볶음', '햄감자채볶음', '고추간장지', '포기김치'], ['쌀밥/잡곡밥', '아욱국', '마늘치킨', '골뱅이무침*소면', '숙주나물', '석박지'], ['쌀밥/잡곡밥', '얼큰순두부찌개', '해물청경채볶음', '계란말이', '도라지오이생채', '포기김치'], ['쌀밥/잡곡밥', '오징어국', '버섯불고기', '야채계란찜', '파래김*양념장', '포기김치'], ['쌀밥/잡곡밥', '동태찌개', '미트볼케찹조림', '우엉잡채', '방풍나물', '포기김치'], ['쌀밥/잡곡밥', '근대국', '양념찜닭', '옥수수전', '건새우마늘쫑볶음', '포기김치'], ['쌀밥/잡곡밥', '옹심이만두국', '돈육굴소스볶음', '콩나물겨자채', '모듬쌈', '포기김치'], ['쌀밥/잡곡밥', '고추장찌개', '치킨커틀렛', '연근땅콩조림', '시금치나물', '배추겉절이'], ['쌀밥/잡곡밥', '아욱국', '콩나물불고기', '맛살전', '상추무침', '포기김치'], ['쌀밥/잡곡밥', '냉이된장찌개', '쇠고기장조림', '굴비구이', '부추생채', '포기김치'], ['쌀밥/잡곡밥', '돈육김치찌개', '유린기', '비엔나볶음', '세발나물', '깍두기'], ['쌀밥/잡곡밥', '콩가루배추국', '돼지갈비찜', '물파래전', '통도라지구이', '포기김치'], ['쌀밥/잡곡밥', '대구매운탕', '고추잡채*꽃빵', '올방개묵무침', '김구이', '포기김치'], ['쌀밥/잡곡밥', '알탕', '소고기숙주볶음', '오꼬노미계란말이', '얼갈이나물', '포기김치'], ['쌀밥/잡곡밥', '소고기미역국', '주꾸미볶음', '탕평채', '시금치나물', '포기김치'], ['봄나물비빔밥', '팽이장국', '언양식불고기', '땅콩조림', '바나나', '포기김치'], ['쌀밥/잡곡밥', '북어콩나물국', '사천식탕수육', '김치전', '쑥갓두부무침', '포기김치'], ['쌀밥/잡곡밥', '쇠고기무국(빨갛게)', '생선커틀렛', '닭가슴살장조림', '콩나물무침', '포기김치'], ['쌀밥/잡곡밥', '꽃게탕', '오이달래무침', '쌈무/양파절임', '포기김치'], ['쌀밥/잡곡밥', '된장찌개', '쇠불고기', '동태전', '도토리묵무침', '배추겉절이'], ['짜장밥', '맑은계란국', '유산슬', '부추만두', '단무지무침', '포기김치'], ['쌀밥/잡곡밥', '근대국', '마늘치킨', '감자채전', '크래미숙주무침', '포기김치'], ['쌀밥/잡곡밥', '육개장', '미니채소떡갈비', '버섯구이*발사믹D', '참나물생채', '포기김치'], ['쌀밥/잡곡밥', '얼갈이국', '쇠고기낙지볶음', '날치알계란찜', '비름나물', '포기김치'], ['쌀밥/잡곡밥', '김치찌개', '해물누룽지탕', '우엉잡채', '청경채무침', '열무김치'], ['쌀밥/잡곡밥', '들깨미역국', '삼겹살오븐구이', '맛살콩나물냉채', '파채상추무침', '포기김치'], ['쌀밥/잡곡밥', '황태국', '닭데리야끼조림', '매운어묵볶음', '시금치나물', '포기김치'], ['쌀밥/잡곡밥', '쇠고기샤브국', '오징어볶음', '메추리알조림', '머위된장나물', '포기김치'], ['쌀밥/잡곡밥', '된장찌개', '돈육굴소스볶음', '오징어숙회무침', '방풍나물', '포기김치'], ['쌀밥/잡곡밥', '들깨시래기국', '쇠고기장조림', '시금치프리타타', '도라지생채', '얼갈이겉절이'], ['곤드레밥', '맑은국', '탕수어', '쫄면무침', '요플레', '포기김치'], ['쌀밥/잡곡밥', '아욱국', '등갈비김치찜', '참치야채전', '가지나물', '열무김치'], ['쌀밥/잡곡밥', '콩나물김치국', '버섯불고기', '브로컬리맛살볶음', '부추생채', '포기김치'], ['쌀밥/잡곡밥', '부대찌개', '언양식불고기', '계란장조림', '아삭고추된장무침', '포기김치'], ['쌀밥/잡곡밥', '차돌박이찌개', '닭강정', '콩나물잡채', '도토리묵무침', '포기김치'], ['비빔밥', '맑은국', '오징어튀김', '견과류조림', '하와이안샐러드', '깍두기'], ['쌀밥/잡곡밥', '미역국', '매콤함박스테이크', '삼치구이', '영양부추생채', '열무김치'], ['쌀밥/잡곡밥', '꽃게찌개', '탕수육', '곤약야채무침', '숙주나물', '배추겉절이'], ['쌀밥/잡곡밥', '참치김치찌개', '훈제오리구이/쌈무', '올방개묵무침', '부추생채/양파절임', '열무김치'], ['쌀밥/잡곡밥', '들깨미역국', '닭갈비', '생선까스*타르소스', '무생채', '포기김치'], ['쌀밥/잡곡밥', '고추장찌개', '쇠불고기', '홍어채무침', '머위대들깨볶음', '포기김치'], ['쌀밥/잡곡밥', '된장찌개', '제육볶음', '잡채', '콩나물무침', '포기김치'], ['쌀밥/잡곡밥', '콩가루배추국', '낙지볶음', '새송이버섯전', '비름나물', '깍두기'], ['쌀밥/잡곡밥', '옹심이만두떡국', '유린기', '카레감자채볶음', '마늘쫑무침', '포기김치'], ['쌀밥/잡곡밥', '콩비지찌개', '돈육꽈리고추볶음', '매운어묵볶음', '치커리유자청무침', '열무김치'], ['쌀밥/잡곡밥', '쇠고기샤브국', '오징어볶음', '맛살계란찜', '양념깻잎지', '포기김치'], ['쌀밥/잡곡밥', '열무된장국', '쇠고기장조림', '동태전', '미나리오이무침', '포기김치'], ['쌀밥/잡곡밥', '부대찌개', '굴비구이', '고추잡채*꽃빵', '청경채무침', '깍두기'], ['쌀밥/잡곡밥', '새우살미역국', '순살양념치킨', '콩나물겨자채', '참나물생채', '포기김치'], ['쌀밥/잡곡밥', '시금치된장국', '제육볶음', '버섯구이*발사믹D', '양배추*쌈', '포기김치'], ['쌀밥/잡곡밥', '소고기국', '간장찜닭', '부추전', '해초무침', '포기김치'], ['콩나물밥', '김치국', '고등어구이', '감자프리타타', '고추지', '열무김치'], ['쌀밥/잡곡밥', '들깨시래기국', '오리불고기', '두부조림', '상추겉절이', '오이소박이'], ['쌀밥/잡곡밥', '콩나물국', '주꾸미떡볶음', '동그랑땡전', '부추생채', '포기김치'], ['쌀밥/잡곡밥', '황태국', '소불고기', '계란찜', '청경채사과생채', '포기김치'], ['쌀밥/잡곡밥', '얼갈이된장국', '동파삼겹수육', '맛살전', '아삭고추무침', '포기김치'], ['열무보리비빔밥', '가쯔오장국', '탕수만두', '콥샐러드', '오이지무침', '포기김치'], ['쌀밥/잡곡밥', '오이냉국', '등갈비김치찜', '어묵볶음', '참나물땅콩무침', '깍두기'], ['쌀밥/잡곡밥', '돈육김치찌개', '삼치된장구이', '모듬소세지볶음', '도토리묵무침', '배추겉절이'], ['쌀밥/잡곡밥', '근대국', '돈육굴소스볶음', '계란말이', '모둠쌈/씨앗쌈장', '포기김치'], ['쌀밥/잡곡밥', '콩나물국', '훈제오리구이', '새송이버섯전', '쌈무/부추생채', '포기김치'], ['쌀밥/잡곡밥', '얼갈이된장국', '미니채소떡갈비', '골뱅이무침*소면', '숙주나물', '배추겉절이'], ['쌀밥/잡곡밥', '호박잎된장찌개', '깐풍기', '어묵꽈리고추볶음', '실곤약초무침', '포기김치'], ['쌀밥/잡곡밥', '연두부탕', '쇠고기숙주볶음', '홍어채무침', '고구마순나물', '포기김치'], ['쌀밥/잡곡밥', '도토리묵냉국', '쭈꾸미볶음', '늙은호박전', '치커리사과생채', '깍두기'], ['곤드레밥*강된장', '가쯔오장국', '치킨핑거', '파스타샐러드', '견과류조림', '포기김치'], ['쌀밥/잡곡밥', '쇠고기샤브국', '갈치구이', '메추리알조림', '무생채', '배추겉절이'], ['쌀밥/잡곡밥', '아욱된장국', '삼겹살구이', '감자채볶음', '쫑상추무침', '포기김치'], ['쌀밥/잡곡밥', '들깨시래기국', '유자청제육볶음', '해물부추전', '오이도라지생채', '포기김치'], ['쌀밥/잡곡밥', '오이지냉국', '고등어김치말이', '감자비엔나볶음', '연근조림', '열무김치'], ['카레라이스', '유부주머니국', '언양식불고기', '떡볶이', '수박', '포기김치'], ['쌀밥/잡곡밥', '쇠고기미역국', '해물누룽지탕', '비빔야채만두', '양념깻잎지', '포기김치'], ['쌀밥/잡곡밥', '나가사끼짬뽕국', '닭갈비', '셀프무쌈말이', '콩나물무침', '포기김치'], ['쌀밥/잡곡밥', '차돌박이찌개', '훈제오리고추장볶음', '곤약흑임자무침', '양배추쌈*양념장', '포기김치'], ['쌀밥/잡곡밥', '북어콩나물국', '오징어볶음', '동그랑땡구이', '시금치나물', '포기김치'], ['콩나물밥', '얼갈이된장국', '삼치구이', '잡채', '아삭고추무침', '깍두기'], ['쌀밥/잡곡밥', '우무묵냉국', '갈릭돈까스', '두부양념조림', '부추생채', '포기김치'], ['쌀밥/잡곡밥', '꼬지어묵탕', '매운닭찜', '감자채전', '미역줄기볶음', '열무김치'], ['쌀밥/잡곡밥', '콩나물국', '짬뽕불고기', '계란찜', '청경채겉절이', '포기김치'], ['쌀밥/잡곡밥', '배추된장국', '낙지볶음', '고기전', '미역레몬초무침', '포기김치'], ['짜장덮밥', '계란국', '유산슬', '군만두', '단무지/사과', '열무김치'], ['쌀밥/잡곡밥', '아욱된장국', '등갈비김치찜', '어묵볶음', '참나물', '알타리김치'], ['쌀밥/잡곡밥', '오이냉국', '유린기', '도토리묵무침', '숙주나물', '포기김치'], ['쌀밥/잡곡밥', '콩나물국', '버섯불고기', '해물겨자냉채', '우엉조림', '포기김치'], ['쌀밥/잡곡밥', '어묵국', '주꾸미떡볶음', '두부계란구이', '브로컬리초장', '포기김치'], ['<초복특식>', '삼계탕', '찹쌀밥', '생야채&쌈장', '수박', '깍두기'], ['쌀밥/잡곡밥', '근대국', '돼지갈비찜', '동태전', '치커리유자청무침', '포기김치'], ['쌀밥/잡곡밥', '부대찌개', '갈치조림', '버섯잡채', '쑥갓두부무침', '알타리김치'], ['쌀밥/잡곡밥', '무채국', '돈육고추장볶음', '간장두부조림', '모듬양채쌈', '포기김치'], ['쌀밥/잡곡밥', '열무된장국', '간장찜닭', '통도라지구이', '치커리무침', '포기김치'], ['김치제육덮밥', '맑은국', '양장피잡채', '오꼬노미야끼', '천도복숭아', '알타리김치'], ['쌀밥/잡곡밥', '소고기매운무국', '오징어굴소스볶음', '모둠버섯구이', '오이무침', '포기김치'], ['쌀밥/잡곡밥', '닭곰탕', '미트볼케찹조림', '메밀전', '영양부추생채', '포기김치'], ['쌀밥/잡곡밥', '어묵탕', '콩나물불고기', '동그랑땡전', '얼갈이된장무침', '포기김치'], ['쌀밥/잡곡밥', '된장찌개', '가자미카레튀김', '닭살냉채', '참나물무침', '배추겉절이'], ['나물비빔밥', '미소장국', '파스타샐러드', '소세지오븐구이', '오렌지', '포기김치'], ['쌀밥/잡곡밥', '콩나물냉국', '순살파닭', '오징어브로컬리*초장', '멸치크렌베리볶음', '포기김치'], ['쌀밥/잡곡밥', '쇠고기샤브국', '주꾸미떡볶음', '연두부*양념장', '해초무침', '포기김치'], ['쌀밥/잡곡밥', '연두부탕', '쇠고기숙주볶음', '홍어채무침', '시래기조림', '포기김치'], ['쌀밥/잡곡밥', '부대찌개', '해물누룽지탕', '우엉잡채', '머위대나물', '배추겉절이'], ['쌀밥/잡곡밥', '꽃게탕', '미니채소떡갈비', '두부계란구이', '치커리사과생채', '포기김치'], ['쌀밥/잡곡밥', '오이미역냉국', '닭오븐구이', '꽈리고추어묵조림', '무생채', '포기김치'], ['쌀밥/잡곡밥', '콩나물국', '제육볶음', '메추리알조림', '호박잎/양배추쌈', '*쌈장', '열무김치'], ['쌀밥/잡곡밥', '어묵국', '쇠고기낙지볶음', '새송이버섯전', '참나물땅콩무침', '포기김치'], ['쌀밥/잡곡밥', '미역국', '닭갈비', '시금치프리타타', '마늘쫑무침', '포기김치'], ['쌀밥/잡곡밥', '도토리묵냉국', '수제돈까스', '두부양념조림', '단배추나물', '포기김치'], ['쌀밥/잡곡밥', '돈육김치찌개', '갈치구이', '비엔나감자볶음', '셀프무쌈말이', '알타리김치'], ['쌀밥/잡곡밥', '고추장찌개', '돈육보쌈', '쌈&야채스틱', '어묵볶음', '샐러드바:과일', '포기김치'], ['쌀밥/잡곡밥', '된장찌개', '짬뽕불고기', '옥수수계란찜', '청경채생채', '포기김치'], ['쌀밥/잡곡밥', '쇠고기무국', '오징어볶음*소면', '모듬묵양념장', '오이무침', '포기김치'], ['쌀밥/잡곡밥', '들깨시래기국', '매운닭찜', '임연수구이', '치커리무침', '포기김치'], ['짜장밥', '맑은국', '해물까스*칠리소스', '부추만두', '단무지', '열무김치'], ['쌀밥/잡곡밥', '조랭이떡미역국', '소고기불고기', '김치전', '콩나물무침', '포기김치'], ['쌀밥/잡곡밥', '해물된장찌개', '표고버섯탕수육', '두부조림', '간장깻잎지', '배추겉절이'], ['곤드레밥*강된장', '가쯔오장국', '가자미양념찜', '감자채볶음', '검정콩조림', '열무김치'], ['쌀밥/잡곡밥', '쇠고기샤브국', '주꾸미굴소스볶음', '볼어묵볶음', '비름나물', '포기김치'], ['쌀밥/잡곡밥', '알탕', '미트볼케찹조림', '계란말이', '마늘쫑무침', '포기김치'], ['쌀밥/잡곡밥', '콩나물국', '돈육간장불고기', '매운어묵볶음', '쑥갓두부무침', '포기김치'], ['쌀밥/잡곡밥', '배추된장국', '닭갈비', '동태전', '치커리사과생채', '포기김치'], ['산채비빔밥', '미소장국', '언양식불고기', '과일샐러드', '아삭고추무침', '포기김치'], ['쌀밥/잡곡밥', '육개장', '굴비구이', '탕수만두', '오이무침', '알타리김치'], ['쌀밥/잡곡밥', '시래기국', '훈제오리구이', '두부구이*양념장', '쌈무/양파절임', '열무김치'], ['쌀밥/잡곡밥', '북어국', '버섯불고기', '야채계란찜', '실곤약초무침', '포기김치'], ['쌀밥/잡곡밥', '연두부탕', '등갈비김치찜', '도토리묵무침', '땅콩조림', '열무김치'], ['쌀밥/잡곡밥', '꽃게탕', '마늘치킨', '양배추쌈*쌈장', '고구마줄기볶음', '포기김치'], ['쌀밥/잡곡밥', '쇠고기미역국', '오징어볶음*소면', '고기전', '호박나물', '포기김치'], ['쌀밥/잡곡밥', '열무된장국', '동파육', '셀프무쌈말이', '통도라지구이', '포기김치'], ['쌀밥/잡곡밥', '시래기된장국', '유자청제육볶음', '오꼬노미야끼계란말이', '치커리무침', '포기김치'], ['쌀밥/잡곡밥', '차돌박이찌개', '해물누룽지탕', '돈육잡채', '마늘쫑무침', '포기김치'], ['카레라이스', '미소장국', '떡갈비조림', '모듬묵샐러드', '요플레/오복지', '포기김치'], ['쌀밥/잡곡밥', '고사리육개장', '닭찜', '두부계란부침', '부추생채', '포기김치'], ['쌀밥/잡곡밥', '참치김치찌개', '단호박장조림', '고등어구이', '참나물무침', '알타리김치'], ['쌀밥/잡곡밥', '해물순두부찌개', '언양식불고기', '감자채전', '쫑상추무침', '포기김치'], ['쌀밥/잡곡밥', '들깨버섯국', '소고기낙지볶음', '비엔나케찹조림', '취나물', '배추겉절이'], ['콩나물밥', '가쯔오국', '감자프리타타', '메밀전병만두', '아삭고추무침', '포기김치'], ['쌀밥/잡곡밥', '쇠고기샤브국', '꽁치구이', '김치제육볶음', '온두부', '열무김치'], ['쌀밥/잡곡밥', '콩가루배추국', '순살양념치킨', '콩나물겨자채', '모듬묵*양념장', '포기김치'], ['쌀밥/잡곡밥', '근대국', '짬뽕불고기', '실곤약흑임자무침', '도라지오이생채', '포기김치'], ['쌀밥/잡곡밥', '시래기들깨탕', '닭갈비', '해물파전', '숙주나물', '포기김치'], ['쌀밥/잡곡밥', '콩나물국', '삼겹살구이', '어묵볶음', '상추파무침', '포기김치'], ['쌀밥/잡곡밥', '차돌박이찌개', '매운주꾸미볶음', '두부새싹구이', '브로컬리초장', '포기김치'], ['쌀밥/잡곡밥', '미역국', '쇠불고기/잡채', '오징어숙회무침', '미니케익/식혜', '배추겉절이'], ['쌀밥/잡곡밥', '아욱국', '훈제오리구이', '계란찜', '쌈무/부추생채', '포기김치'], ['쌀밥/잡곡밥', '고추장찌개', '레몬탕수육', '궁중떡찜', '유채나물', '포기김치'], ['쌀밥/잡곡밥', '해물된장찌개', '닭찜', '새송이버섯전', '얼갈이생채', '포기김치'], ['쌀밥/잡곡밥', '쇠고기무국', '오징어볶음*소면', '메추리알조림', '치커리유자청무침', '포기김치'], ['쌀밥/잡곡밥', '차돌박이찌개', '제육볶음', '모둠쌈', '해파리겨자채', '포기김치'], ['쌀밥/잡곡밥', '근대국', '고등어조림', '고추잡채*꽃빵', '참나물생채', '포기김치'], ['쌀밥/잡곡밥', '민물새우찌개', '수제돈가스', '시금치프리타타', '오이무침', '포기김치'], ['쌀밥/잡곡밥', '새알미역국', '유린기', '마파두부', '가지나물', '배추겉절이'], ['쌀밥/잡곡밥', '쇠고기매운버섯국', '해물청경채볶음', '메밀부추전', '도라지초무침', '포기김치'], ['쌀밥/잡곡밥', '콩나물국', '버섯불고기', '홍어채무침', '마늘쫑볶음', '포기김치'], ['쌀밥/잡곡밥', '배추된장국', '쭈꾸미볶음', '두부계란부침', '미역줄기볶음', '포기김치'], ['곤드레밥*강된장', '가쯔오장국', '갈치조림', '쇠고기잡채', '쑥갓두부무침', '알타리김치'], ['쌀밥/잡곡밥', '육개장', '치킨핑거', '도토리묵무침', '물파래무침', '포기김치'], ['쌀밥/잡곡밥', '시금치국', '돼지갈비찜', '어묵볶음', '무나물', '배추겉절이'], ['쌀밥/잡곡밥', '들깨시래기국', '닭갈비', '연두부*양념장', '취나물', '포기김치'], ['쌀밥/잡곡밥', '근대국', '돈삼겹보쌈', '옥수수전', '콩나물파채/상추쌈', '배추겉절이'], ['카레덮밥', '맑은국', '개성감자만두', '파스타샐러드', '군고구마', '포기김치'], ['쌀밥/잡곡밥', '사골떡국', '오징어볶음', '계란말이', '치커리사과생채', '포기김치'], ['쌀밥/잡곡밥', '된장찌개', '누룽지탕수육', '실곤약초무침', '톳두부무침', '포기김치'], ['쌀밥/잡곡밥', '콩가루배추국', '짬뽕불고기', '참치야채전', '호박나물', '포기김치'], ['쌀밥/잡곡밥', '오징어국', '수제돈까스', '삼치구이', '봄동겉절이', '포기김치'], ['콩나물밥', '미역장국', '언양식불고기', '도라지오이무침', '과일샐러드', '배추겉절이'], ['쌀밥/잡곡밥', '해물된장찌개', '매운닭찜', '두부조림', '시금치나물', '포기김치'], ['쌀밥/잡곡밥', '올갱이아욱국', '등갈비김치찜', '들깨버섯무침', '숙주나물', '깍두기'], ['쌀밥/잡곡밥', '시금치국', '소고기불고기', '해물파전', '통도라지구이', '포기김치'], ['쌀밥/잡곡밥', '새알미역국', '돼지갈비찜', '두부새싹구이', '세발나물', '알타리김치'], ['곤드레밥*간장양념', '청양된장찌개', '굴비구이', '궁중떡볶이', '무생채', '포기김치'], ['쌀밥/잡곡밥', '북어계란국', '찜닭', '메밀전병만두', '가지무침', '포기김치'], ['쌀밥/잡곡밥', '콩비지찌개', '미니채소떡갈비', '동태전', '양념깻잎지', '배추겉절이'], ['쌀밥/잡곡밥', '차돌박이찌개', '오징어볶음', '계란말이', '치커리유자청무침', '알타리김치'], ['쌀밥/잡곡밥', '어묵국', '순살파닭', '맛살겨자채', '물파래무침', '포기김치'], ['단호박영양밥', '가쯔오장국', '돈육칠리강정', '모듬묵샐러드', '숙주나물', '깍두기'], ['쌀밥/잡곡밥', '쇠고기무국', '갈치구이', '고추잡채*꽃빵', '오이무침', '포기김치'], ['쌀밥/잡곡밥', '꽃게탕', '돈육굴소스볶음', '새송이버섯전', '물미역*초장', '포기김치'], ['쌀밥/잡곡밥', '아욱국', '버섯불고기', '골뱅이무침*소면', '무나물', '포기김치'], ['쌀밥/잡곡밥', '연두부탕', '사천식탕수육', '견과류조림', '참나물생채', '포기김치'], ['나물비빔밥', '미소장국', '코다리조림', '과일샐러드', '군고구마', '깍두기'], ['쌀밥/잡곡밥', '들깨시래기국', '제육볶음', '메추리알조림', '콩나물무침', '알타리김치'], ['쌀밥/잡곡밥', '동태탕', '찜닭', '옥수수전', '취나물', '포기김치'], ['쌀밥/잡곡밥', '들깨무채국', '돈육피망볶음', '모둠쌈', '해파리겨자채', '포기김치'], ['쌀밥/잡곡밥', '소고기된장찌개', '낙지볶음', '계란찜', '오이생채', '배추겉절이'], ['콩나물밥', '유부주머니국', '생선까스&탈탈소스', '두부양념조림', '단호박범벅', '포기김치'], ['쌀밥/잡곡밥', '봄동된장국', '닭볶음탕', '부추전', '마늘쫑건새우볶음', '포기김치'], ['쌀밥/잡곡밥', '부대찌개', '미트볼케찹조림', '사각어묵볶음', '김구이*달래간장', '포기김치'], ['쌀밥/잡곡밥', '해물된장찌개', '돈육굴소스볶음', '홍어채무침', '양념깻잎지', '포기김치'], ['쌀밥/잡곡밥', '차돌박이찌개', '해물누룽지탕', '계란말이', '오이미역무침', '깍두기'], ['카레라이스', '미소장국', '떡갈비조림', '모듬묵*양념장', '요플레/오복지', '포기김치'], ['쌀밥/잡곡밥', '우거지해장국', '명태코다리조림', '비엔나케찹볶음', '시금치나물', '배추겉절이'], ['쌀밥/잡곡밥', '들깨시래기국', '표고버섯탕수육', '두부오꼬노미야끼', '마늘쫑무침', '포기김치'], ['쌀밥/잡곡밥', '오징어국', '버섯불고기', '실곤약초무침', '상추쑥갓생채', '포기김치'], ['쌀밥/잡곡밥', '달래된장국', '주꾸미볶음', '시금치프리타타', '물미역*초장', '포기김치'], ['쌀밥/잡곡밥', '민물새우찌개', '동파육', '새송이버섯전', '파채콩나물무침', '배추겉절이'], ['쌀밥/잡곡밥', '순두부찌개', '훈제오리구이', '어묵볶음', '쌈무/부추생채', '포기김치'], ['쌀밥/잡곡밥', '콩나물국', '간장마늘치킨', '오징어초무침', '무나물', '포기김치'], ['쌀밥/잡곡밥', '꽃게탕', '언양식불고기', '날치알계란찜', '호박나물', '포기김치'], ['쌀밥/잡곡밥', '쇠고기미역국', '오징어볶음', '동그랑땡전', '무쌈말이', '포기김치'], ['쌀밥/잡곡밥', '아욱된장국', '돼지갈비찜', '콩나물겨자채', '참나물무침', '포기김치'], ['쌀밥/잡곡밥', '어묵국', '닭볶음탕', '연근땅콩조림', '파래김*양념', '배추겉절이'], ['쌀밥/잡곡밥', '사골떡국', '한방소갈비찜', '김치전', '오이무침/식혜', '포기김치'], ['곤드레밥*간장양념', '청량된장찌개', '굴비구이', '궁중떡볶이', '무생채', '포기김치'], ['쌀밥/잡곡밥', '콩가루배추국', '제육볶음', '고구마그라탕', '모둠쌈*쌈장', '깍두기'], ['쌀밥/잡곡밥', '부대찌개', '깐풍기', '곤약어묵볶음', '매운콩나물무침', '깍두기'], ['쌀밥/잡곡밥', '황태국', '소불고기', '계란찜', '청경채사과생채', '포기김치'], ['쌀밥/잡곡밥', '근대국', '양파치킨', '비엔나케찹볶음', '유채나물', '포기김치'], ['콩나물밥', '맑은국', '고추잡채*꽃빵', '해물까스', '참나물생채', '포기김치'], ['쌀밥/잡곡밥', '봄동된장국', '오징어돈육볶음', '참치야채전', '호박나물', '배추겉절이'], ['쌀밥/잡곡밥', '차돌박이찌개', '명태코다리강정', '모둠버섯볶음', '양념깻잎지', '포기김치'], ['쌀밥/잡곡밥', '아욱국', '유자청제육볶음', '해물파전', '숙주나물', '포기김치'], ['쌀밥/잡곡밥', '꽃게탕', '미니채소떡갈비', '쫄면무침', '참나물땅콩무침', '포기김치'], ['나물비빔밥', '가쯔오장국', '치킨핑거', '마늘쫑볶음', '요플레', '포기김치'], ['쌀밥/잡곡밥', '된장찌개', '쇠고기장조림', '해파리냉채', '통도라지구이', '알타리김치'], ['쌀밥/잡곡밥', '육개장', '탕수어', '버섯잡채', '무생채', '포기김치'], ['쌀밥/잡곡밥', '북어국', '쇠고기숙주볶음', '골뱅이무침', '세발나물무침', '포기김치'], ['쌀밥/잡곡밥', '시금치된장국', '오징어볶음', '고기전', '봄동겉절이', '포기김치'], ['짜장덮밥', '맑은국', '과일탕수육', '개성감자만두', '단무지', '배추겉절이'], ['쌀밥/잡곡밥', '김치콩나물국', '돈육굴소스볶음', '황태양념구이', '모듬쌈', '포기김치'], ['쌀밥/잡곡밥', '연두부탕', '순살파닭', '늙은호박전', '오이사과무침', '포기김치'], ['쌀밥/잡곡밥', '봄동된장국', '가래떡돼지갈비찜', '콩나물겨자채', '참나물무침', '포기김치'], ['쌀밥/잡곡밥', '어묵국', '닭볶음', '새송이버섯전', '가지나물', '포기김치'], ['김치제육덮밥', '미소장국', '양장피잡채', '계란찜', '아삭고추무침/귤', '알타리김치'], ['쌀밥/잡곡밥', '닭곰탕', '매콤미니함박', '삼치구이', '부추생채', '포기김치'], ['쌀밥/잡곡밥', '차돌박이찌개', '표고버섯탕수육', '해물김치전', '숙주나물', '배추겉절이'], ['쌀밥/잡곡밥', '순두부찌개', '돈육볶음', '홍어채무침', '시래기조림', '포기김치'], ['쌀밥/잡곡밥', '해물된장찌개', '쇠고기장조림', '참치야채전', '콩나물무침', '알타리김치'], ['콩나물밥', '유부주머니국', '언양식불고기', '치즈계란말이', '도라지오이무침', '포기김치'], ['쌀밥/잡곡밥', '열무된장국', '동파삼겹수육', '연두부*양념장', '양념깻잎지', '배추겉절이'], ['쌀밥/잡곡밥', '부대찌개', '해물청경채볶음', '메밀전', '도토리묵무침', '깍두기'], ['쌀밥/잡곡밥', '차돌박이찌개', '닭갈비', '실곤약초무침', '양배추쌈*쌈장', '포기김치'], ['쌀밥/잡곡밥', '아욱된장국', '사천식탕수육', '모둠버섯볶음', '쑥갓두부무침', '포기김치'], ['쌀밥/잡곡밥', '떡국', '버섯불고기', '오징어숙회무침', '취나물', '배추겉절이'], ['쌀밥/잡곡밥', '들깨미역국', '훈제오리구이', '두부양념조림', '쌈무/부추생채', '포기김치'], ['쌀밥/잡곡밥', '배추된장국', '짬뽕불고기', '늙은호박전', '청경채사과무침', '알타리김치'], ['카레덮밥', '맑은국', '고구마치즈구이', '파스타샐러드', '오이무침', '포기김치'], ['쌀밥/잡곡밥', '콩나물국', '마늘치킨', '모둠묵*양념장', '미역줄기볶음', '포기김치'], ['쌀밥/잡곡밥', '시금치된장국', '등갈비김치찜', '맛살냉채', '쫑상추무침', '깍두기'], ['쌀밥/잡곡밥', '황태국', '소고기숙주볶음', '새송이버섯전', '치커리무침', '포기김치'], ['쌀밥/잡곡밥', '아욱된장국', '돼지갈비찜', '마늘쫑볶음', '곰피초장', '포기김치'], ['곤드레밥*강된장', '어묵국', '치킨핑거*요거트소스', '도토리묵무침', '콩조림', '배추겉절이'], ['쌀밥/오곡밥', '차돌박이된장찌개', '조기구이', '오징어숙회무침', '보름나물/구이김', '부럼/포기김치'], ['쌀밥/잡곡밥', '해물순두부찌개', '소고기장조림', '해파리냉채', '청경채생채', '알타리김치'], ['쌀밥/잡곡밥', '근대된장국', '닭강정', '해물파전', '단배추나물/치킨무', '포기김치'], ['콩나물밥', '가쯔오국', '삼치구이', '떡잡채', '얼갈이나물', '깍두기'], ['쌀밥/잡곡밥', '홍합탕', '오리불고기', '탕평채', '간장깻잎지', '포기김치'], ['쌀밥/잡곡밥', '쇠고기샤브국', '주꾸미볶음', '두부새싹구이', '참나물무침', '포기김치'], ['쌀밥/잡곡밥', '배추된장국', '버섯불고기', '시금치프리타타', '부추생채', '포기김치'], ['쌀밥/잡곡밥', '쇠고기무국', '미트볼케찹조림', '우엉잡채', '가지나물', '포기김치'], ['쌀밥/잡곡밥', '시금치된장국', '탕수어', '두부*김치볶음', '시래기지짐', '깍두기'], ['쌀밥/잡곡밥', '동태탕', '닭데리야끼조림', '어묵볶음', '숙주나물', '포기김치'], ['쌀밥/잡곡밥', '얼갈이국', '오징어볶음', '동그랑땡전', '세발나물', '배추겉절이'], ['쌀밥/잡곡밥', '어묵국', '돈육간장볶음', '골뱅이무침*소면', '무나물', '포기김치'], ['쌀밥/잡곡밥', '된장찌개', '해물누룽지탕', '고기전', '견과류조림', '포기김치'], ['쌀밥/잡곡밥', '쇠고기미역국', '닭볶음탕', '도토리묵무침', '양배추쌈*쌈장', '포기김치'], ['쌀밥/잡곡밥', '우거지해장국', '코다리강정', '계란말이', '청경채나물', '깍두기'], ['쌀밥/잡곡밥', '열무된장국', '수제돈까스', '메추리알곤약조림', '참나물생채', '포기김치'], ['쌀밥/잡곡밥', '차돌박이찌개', '닭갈비', '새송이버섯조림', '치커리사과무침', '포기김치'], ['쌀밥/잡곡밥', '콩나물국', '등갈비김치찜', '부추전', '흑임자연근샐러드', '알타리김치'], ['단호박카레라이스', '유부장국', '유린기', '볼어묵볶음', '오복지', '포기김치'], ['쌀밥/잡곡밥', '얼큰소고기국', '고추잡채*꽃빵', '계란찜', '숙주나물', '포기김치'], ['쌀밥/잡곡밥', '참치김치찌개', '주꾸미볶음', '미니함박조림', '취나물무침', '깍두기'], ['쌀밥/잡곡밥', '들깨버섯국', '소고기낙지볶음', '비엔나간장볶음', '아삭고추무침', '알타리김치'], ['쌀밥/잡곡밥', '동태매운탕', '언양식불고기', '잡채', '쑥갓두부무침', '포기김치'], ['곤드레밥*강된장', '가쯔오장국', '닭오븐구이', '오징어숙회무침', '시저샐러드', '포기김치'], ['쌀밥/잡곡밥', '쑥된장국', '류산슬', '오꼬노미야끼계란말이', '오이도라지생채', '포기김치'], ['쌀밥/잡곡밥', '수제비국', '양념치킨', '연두부*달래장', '진미채무침', '열무김치'], ['쌀밥/잡곡밥', '콩나물국', '제육볶음', '해파리냉채', '모듬쌈', '포기김치'], ['쌀밥/잡곡밥', '민물새우찌개', '소고기장조림', '홍어채무침', '참나물땅콩무침', '알타리김치'], ['쌀밥/잡곡밥', '아욱국', '오징어볶음', '새싹두부구이', '해초무침', '배추겉절이'], ['쌀밥/잡곡밥', '순두부찌개', '코다리양념조림', '모듬소시지구이', '청경채사과무침', '포기김치'], ['쌀밥/잡곡밥', '근대국', '안동찜닭', '해물김치전', '부추생채', '열무김치'], ['쌀밥/잡곡밥', '배추된장국', '짬뽕불고기', '버섯잡채', '청포묵무침', '포기김치'], ['쌀밥/잡곡밥', '무채국', '훈제오리구이', '두부조림', '양파절임/쌈무', '배추겉절이'], ['콩나물밥', '열무된장국', '치킨핑거', '궁중떡볶음', '오이미역무침', '포기김치'], ['쌀밥/잡곡밥', '알탕', '돈육간장볶음', '실곤약초무침', '가지나물', '포기김치'], ['쌀밥/잡곡밥', '돈육김치찌개', '가자미카레튀김', '야채계란찜', '쫑상추무침', '알타리김치'], ['쌀밥/잡곡밥', '콩나물국', '류산슬', '계란말이', '오이도라지무침', '포기김치'], ['쌀밥/잡곡밥', '쇠고기미역국', '깐풍기', '꽁치김치말이', '청경채새송이볶음', '포기김치'], ['비빔밥', '유부장국', '오징어튀김', '떡밤초', '요플레', '포기김치'], ['쌀밥/잡곡밥', '시래기국', '닭매운찜', '호박전', '쑥갓두부무침', '포기김치'], ['쌀밥/잡곡밥', '순두부찌개', '삼겹살구이', '쫄면무침', '상추부추생채', '알타리김치'], ['쌀밥/잡곡밥', '어묵국', '닭데리야끼조림', '꽃맛살볶음', '치커리무침', '포기김치'], ['김치제육덮밥', '유부장국', '양장피잡채', '오꼬노미야끼', '오렌지', '알타리김치'], ['쌀밥/잡곡밥', '도토리묵냉국', '수제돈까스*칠리소스', '어묵볶음', '오이미역무침', '열무김치'], ['쌀밥/잡곡밥', '무청된장국', '콩나물제육볶음', '임연수구이', '취나물무침', '포기김치'], ['쌀밥/잡곡밥', '배추된장국', '버섯불고기', '시금치프리타타', '무생채', '포기김치'], ['쌀밥/잡곡밥', '돈육김치찌개', '탕수어', '우엉잡채', '도라지무침', '열무김치'], ['쌀밥/잡곡밥', '근대국', '돈육굴소스볶음', '해파리겨자채', '양배추쌈*쌈장', '포기김치'], ['쌀밥/잡곡밥', '소고기무국', '오징어볶음', '두부계란부침', '미역줄기볶음', '배추겉절이'], ['쌀밥/잡곡밥', '시금치된장국', '훈제오리구이', '실곤약무침', '무쌈/양파절임', '포기김치'], ['쌀밥/잡곡밥', '얼갈이된장국', '등갈비김치찜', '새송이버섯전', '참나물생채', '열무김치'], ['카레덮밥', '맑은국', '고구마치즈구이', '어묵꽈리고추볶음', '오이무침', '포기김치'], ['쌀밥/잡곡밥', '콩나물국', '닭볶음탕', '탕평채', '영양부추무침', '포기김치'], ['쌀밥/잡곡밥', '차돌박이된장찌개', '주꾸미볶음', '동그랑땡전', '양념깻잎지', '포기김치'], ['쌀밥/잡곡밥', '시래기들깨탕', '짬뽕불고기', '멸치볶음', '상추파무침', '포기김치'], ['곤드레밥*강된장', '얼갈이된장국', '마늘치킨', '오징어&브로컬리*초장', '고추지무침', '포기김치'], ['쌀밥/잡곡밥', '조랭이떡국', '돼지갈비찜', '두부구이', '치커리생채', '포기김치'], ['쌀밥/잡곡밥', '사과오이냉국', '꽁치오븐구이', '떡갈비조림', '청경채무침', '포기김치'], ['쌀밥/잡곡밥', '미역국', '제육볶음', '두부양념조림', '모듬쌈*쌈장', '포기김치'], ['쌀밥/잡곡밥', '김치찌개', '해물청경채볶음', '버섯잡채', '올방개묵무침', '알타리김치'], ['콩나물밥', '유부장국', '수제돈가스', '파스타샐러드', '무생채', '포기김치'], ['쌀밥/잡곡밥', '오징어국', '동파삼겹수육', '메밀부추전', '깻잎지', '포기김치'], ['쌀밥/잡곡밥', '우거지해장국', '치킨핑거', '명태양념조림', '오이생채', '포기김치'], ['쌀밥/잡곡밥', '콩나물국', '돈육간장볶음', '계란말이', '부추생채', '알타리김치'], ['쌀밥/잡곡밥', '된장찌개', '닭갈비', '해파리겨자채', '취나물', '포기김치'], ['쌀밥/잡곡밥', '순두부찌개', '고추잡채*꽃빵', '갈치구이', '도라지생채', '포기김치'], ['쌀밥/잡곡밥', '대구매운탕', '완자전', '곤약메추리알조림', '마늘쫑볶음', '배추겉절이'], ['쌀밥/잡곡밥', '배추된장국', '버섯불고기', '골뱅이무침*소면', '콩나물무침', '포기김치'], ['쌀밥/잡곡밥', '육개장', '고등어김치말이', '모듬소시지구이', '청경채무침', '알타리김치'], ['쌀밥/잡곡밥', '근대국', '순살파닭', '카레감자채볶음', '호박나물', '포기김치'], ['쌀밥/잡곡밥', '부대찌개', '오징어볶음', '연두부*양념장', '브로컬리맛살볶음', '배추겉절이'], ['쌀밥/잡곡밥', '미역국', '훈제오리구이', '쫄면무침', '무쌈/양파절임', '포기김치'], ['쌀밥/잡곡밥', '꽃게탕', '삼치데리야끼', '비엔나케찹볶음', '아삭고추무침', '포기김치'], ['열무비빔밥', '팽이장국', '미니채소떡갈비', '땅콩조림', '방울토마토', '깍두기'], ['쌀밥/잡곡밥', '오이냉국', '짬뽕불고기', '명란계란말이', '상추파무침', '포기김치'], ['쌀밥/잡곡밥', '닭개장', '코다리강정', '잡채', '도토리묵무침', '포기김치'], ['쌀밥/잡곡밥', '어묵국', '닭갈비', '시금치프리타타', '해초무침', '포기김치'], ['쌀밥/잡곡밥', '돈육김치찌개', '류산슬', '생선커틀릿*탈탈소스', '영양부추무침', '열무김치'], ['카레덮밥', '가쯔오장국', '깐풍육', '구운채소', '*발사믹소스', '오복지무침', '포기김치'], ['쌀밥/잡곡밥', '들깨버섯국', '매운돼지갈비찜', '메추리알곤약조림', '도라지오이생채', '포기김치'], ['쌀밥/잡곡밥', '육개장', '동태무조림', '메밀전병만두', '올방개묵무침', '포기김치'], ['쌀밥/잡곡밥', '콩나물국', '유자청제육볶음', '계란말이', '미역줄기볶음', '포기김치'], ['쌀밥/잡곡밥', '아욱국', '소고기장조림', '홍어채무침', '가지나물', '알타리김치'], ['곤드레밥*양념장', '맑은국', '탕수어', '오이무침', '찐옥수수', '포기김치'], ['쌀밥/잡곡밥', '근대국', '닭볶음탕', '해물파전', '도라지나물', '포기김치'], ['쌀밥/잡곡밥', '도토리묵냉국', '동파삼겹수육', '매운어묵볶음', '쫑상추무침', '배추겉절이'], ['쌀밥/잡곡밥', '고추장찌개', '돈육굴소스볶음', '브로컬리오징어숙회', '숙주나물', '포기김치'], ['쌀밥/잡곡밥', '쇠고기매운국', '훈제오리구이', '우엉잡채', '양파절임/쌈무', '열무김치'], ['나물비빔밥', '미소장국', '오징어튀김', '견과류조림', '과일샐러드', '포기김치'], ['쌀밥/잡곡밥', '호박잎된장찌개', '깐풍기', '해파리겨자채', '도토리묵*양념장', '포기김치'], ['쌀밥/잡곡밥', '어묵국', '등갈비김치찜', '연두부*양념장', '콩나물무침', '알타리김치'], ['쌀밥/잡곡밥', '된장찌개', '소불고기', '동그랑땡전', '실곤약야채무침', '포기김치'], ['삼계탕', '찹쌀밥', '생야채', '참나물생채', '수박', '석박지'], ['콩나물밥', '유부장국', '해물까스*칠리소스', '메추리알조림', '찐햇감자', '배추겉절이'], ['쌀밥/잡곡밥', '해물순두부찌개', '안동찜닭', '부추전', '청경채무침', '포기김치'], ['쌀밥/잡곡밥', '우무콩국', '유자청제육볶음', '통도라지구이', '호박잎*양배추쌈', '포기김치'], ['쌀밥/잡곡밥', '어묵국', '돈육굴소스볶음', '오징어야채무침', '간장깻잎지', '포기김치'], ['쌀밥/잡곡밥', '우거지해장국', '삼치양념구이', '함박스테이크', '아삭고추무침', '포기김치'], ['쌀밥/잡곡밥', '쇠고기샤브국', '유린기', '사각어묵볶음', '오이사과생채', '포기김치'], ['쌀밥/잡곡밥', '오이지냉국', '매운돼지갈비찜', '콩나물냉채', '참나물땅콩무침', '포기김치'], ['쌀밥/잡곡밥', '닭곰탕', '주꾸미떡볶음', '새송이버섯전', '치커리유자청무침', '포기김치'], ['쌀밥/잡곡밥', '근대국', '닭갈비', '시금치프리타타', '도라지오이생채', '포기김치'], ['쌀밥/잡곡밥', '콩나물국', '짬뽕불고기', '버섯잡채', '가지나물', '포기김치'], ['카레덮밥', '가쯔오장국', '떡갈비조림', '감자만두', '오복지/과일', '포기김치'], ['쌀밥/잡곡밥', '돈육김치찌개', '갈치양념조림', '옥수수전', '청경채사과무침', '열무김치'], ['쌀밥/잡곡밥', '연두부탕', '닭오븐구이', '꽈리고추어묵조림', '브로컬리*초장', '포기김치'], ['쌀밥/잡곡밥', '콩나물김치국', '소불고기', '골뱅이무침*소면', '호박나물', '알타리김치'], ['쌀밥/잡곡밥', '얼갈이된장국', '오징어볶음', '닭살겨자냉채', '미역줄기볶음', '포기김치'], ['열무보리비빔밥', '맑은국', '깐풍육', '꽃맛살샐러드', '찐옥수수', '포기김치'], ['쌀밥/잡곡밥', '미역오이냉국', '돈육장조림', '온두부', '양념깻잎지', '볶음김치'], ['쌀밥/잡곡밥', '된장찌개', '굴비구이', '미트볼케찹조림', '사과맛살초무침', '포기김치'], ['쌀밥/잡곡밥', '들깨버섯국', '제육볶음', '계란찜', '참나물무침', '포기김치'], ['쌀밥/잡곡밥', '차돌박이된장찌개', '해물누룽지탕', '쫄면야채무침', '해초무침', '열무김치'], ['쌀밥/잡곡밥', '닭개장', '동태포전', '주꾸미굴소스볶음', '아삭고추무침', '포기김치'], ['쌀밥/잡곡밥', '알탕', '쇠고기단호박조림', '두부오꼬노미야끼', '콩나물무침', '포기김치'], ['쌀밥/잡곡밥', '시금치된장국', '훈제오리구이', '실곤약무침', '무쌈/양파절임', '포기김치'], ['쌀밥/잡곡밥', '미역국', '소고기불고기', '양념두부조림', '도라지나물', '열무김치'], ['비빔밥', '미소장국', '해물까스', '궁중떡볶이', '영양모듬견과', '포기김치'], ['쌀밥/잡곡밥', '된장찌개', '꽁치레몬구이', '동그랑땡', '무생채', '포기김치'], ['쌀밥/잡곡밥', '우무묵냉국', '마늘치킨', '계란말이', '치커리생채', '포기김치'], ['쌀밥/잡곡밥', '배추된장국', '돈육간장불고기', '홍어채무침', '어묵볶음', '포기김치'], ['쌀밥/잡곡밥', '쇠고기샤브국', '탕수어', '쫄면무침', '참나물땅콩무침', '포기김치'], ['콩나물밥', '팽이장국', '치킨핑거', '메추리알조림', '과일샐러드', '배추겉절이'], ['쌀밥/잡곡밥', '근대국', '모듬장조림', '마파두부', '숙주나물', '포기김치'], ['쌀밥/잡곡밥', '조랭이떡국', '소고기낙지볶음', '두부새싹구이', '도라지생채', '포기김치'], ['쌀밥/잡곡밥', '콩나물국', '버섯불고기', '브로컬리오징어숙회', '취나물', '포기김치'], ['쌀밥/잡곡밥', '들깨시래기국', '동파삼겹수육', '녹두전', '야채스틱*쌈장', '배추겉절이'], ['김치제육덮밥', '맑은국', '샐러드파스타', '오징어튀김', '무생채', '열무김치'], ['쌀밥/잡곡밥', '꽃게탕', '간장찜닭', '연두부*양념장', '마늘쫑무침', '포기김치'], ['쌀밥/잡곡밥', '미역국', '매운주꾸미볶음', '새송이버섯전', '건파래무침', '포기김치'], ['쌀밥/잡곡밥', '연두부국', '돈육고추장불고기', '감자채볶음', '양배추쌈', '포기김치'], ['쌀밥/잡곡밥', '쇠고기미역국', '닭매운찜', '두부스테이크', '흑임자연근샐러드', '포기김치'], ['소불고기덮밥', '가쯔오장국', '오징어튀김', '구운채소', '*발사믹소스', '오복지무침', '포기김치'], ['쌀밥/잡곡밥', '시래기국', '등갈비김치찜', '부추전', '콩나물무침', '포기김치'], ['쌀밥/잡곡밥', '고추장찌개', '언양식불고기', '계란말이', '상추파무침', '포기김치'], ['쌀밥/잡곡밥', '어묵국', '돈육굴소스볶음', '골뱅이무침*소면', '무생채', '포기김치'], ['쌀밥/잡곡밥', '닭개장', '류산슬', '김치전', '아삭고추무침', '포기김치'], ['카레덮밥', '유부장국', '감자프리타타', '메밀전병만두', '쨔샤이무침/과일', '포기김치'], ['쌀밥/잡곡밥', '꽃게탕', '소고기장조림', '명태조림', '파래김*양념장', '포기김치'], ['쌀밥/잡곡밥', '아욱된장국', '돼지갈비찜/잡채', '쭈꾸미숙회무침', '송편/식혜', '배추겉절이'], ['쌀밥/잡곡밥', '어묵탕', '돈육고추장불고기', '감자채볶음', '모듬쌈', '포기김치'], ['곤드레밥*강된장', '맑은국', '돈육강정', '사과고구마그라탱', '오이초무침', '포기김치'], ['쌀밥/잡곡밥', '들깨버섯국', '오징어볶음', '단호박계란찜', '청경채사과무침', '포기김치'], ['쌀밥/잡곡밥', '설렁탕', '김치전', '오징어젓무침', '야채스틱/과일', '석박지'], ['쌀밥/잡곡밥', '열무된장국', '버섯불고기', '맛살겨자채', '깻잎지', '포기김치'], ['쌀밥/잡곡밥', '매운소고기무국', '조기구이', '우엉잡채', '참나물생채', '포기김치'], ['콩나물밥', '유부장국', '생선가스*칠리소스', '가래떡구이*조청', '땅콩조림', '포기김치'], ['쌀밥/잡곡밥', '감자국', '김치제육볶음', '해물파전', '브로컬리들깨찜', '열무김치'], ['쌀밥/잡곡밥', '오징어국', '닭갈비', '연두부*양념장', '호박나물', '포기김치'], ['쌀밥/잡곡밥', '고추장찌개', '돈육간장불고기', '야채계란찜', '오이무침', '포기김치'], ['쌀밥/잡곡밥', '콩비지찌개', '닭볶음탕', '메밀전병만두', '파래김*양념장', '포기김치'], ['쌀밥/잡곡밥', '콩나물국', '등갈비김치찜', '어묵볶음', '톳두부무침', '깍두기'], ['쌀밥/잡곡밥', '얼갈이국', '쇠고기낙지볶음', '시금치프리타타', '방풍나물', '포기김치'], ['쌀밥/잡곡밥', '근대국', '오징어볶음', '두부새싹구이', '시금치나물', '배추겉절이'], ['쌀밥/잡곡밥', '황태국', '소불고기', '홍어채무침', '콩나물무침', '포기김치'], ['쌀밥/잡곡밥', '어묵국', '동파삼겹수육', '실곤약야채무침', '쫑상추무침', '배추겉절이'], ['쌀밥/잡곡밥', '콩나물국', '수제돈가스', '닭살겨자채', '반달호박나물', '포기김치'], ['쌀밥/잡곡밥', '시래기국', '마늘간장치킨', '새송이버섯전', '청경채생채', '포기김치'], ['쌀밥/잡곡밥', '배추된장국', '훈제오리구이', '참치야채전', '무쌈/양파절임', '포기김치'], ['쌀밥/잡곡밥', '쇠고기샤브국', '오징어볶음', '단호박계란찜', '도라지초무침', '포기김치'], ['쌀밥/잡곡밥', '매운콩나물국', '닭데리야끼구이', '해파리냉채', '치커리생채', '배추겉절이'], ['곤드레밥*강된장', '맑은국', '사천식탕수육', '탕평채', '오징어젓무침', '포기김치'], ['쌀밥/잡곡밥', '미역국', '닭갈비', '동태포전', '무생채', '포기김치'], ['쌀밥/잡곡밥', '육개장', '고등어구이', '비엔나케찹볶음', '연근조림', '포기김치'], ['쌀밥/잡곡밥', '순두부찌개', '소고기불고기', '골뱅이무침*소면', '아삭고추무침', '포기김치'], ['쌀밥/잡곡밥', '청국장찌개', '돈육강정', '두부양념조림', '유채나물', '포기김치'], ['콩나물밥*양념장', '팽이장국', '치킨핑거*요거트드레싱', '꽃맛살샐러드', '얼갈이겉절이', '포기김치'], ['쌀밥/잡곡밥', '아욱국', '유자청제육볶음', '오징어숙회무침', '상추무침', '포기김치'], ['쌀밥/잡곡밥', '알탕', '언양식불고기', '부추깻잎전', '도토리묵무침', '깍두기'], ['쌀밥/잡곡밥', '꽃게탕', '돈육굴소스볶음', '매운어묵볶음', '콩나물무침', '포기김치'], ['쌀밥/잡곡밥', '들깨시래기국', '주꾸미볶음', '메추리알조림', '통도라지구이', '포기김치'], ['카레덮밥', '맑은국', '새우까스*탈탈소스', '파스타샐러드', '오이무침', '포기김치'], ['쌀밥/잡곡밥', '콩나물국', '닭볶음탕', '두부구이*양념장', '물파래무침', '포기김치'], ['쌀밥/잡곡밥', '근대국', '버섯불고기', '쫄면무침', '취나물', '배추겉절이'], ['쌀밥/잡곡밥', '얼갈이국', '닭갈비', '감자프리타타', '참나물생채', '포기김치'], ['쌀밥/잡곡밥', '배추된장국', '짬뽕불고기', '늙은호박전', '연두부*양념장', '포기김치'], ['나물비빔밥', '가쯔오장국', '오징어튀김', '과일샐러드', '군고구마', '포기김치'], ['쌀밥/잡곡밥', '두부김치국', '레몬탕수육', '어묵꽈리고추볶음', '물미역*초장', '알타리김치'], ['쌀밥/잡곡밥', '매운버섯국', '해물누룽지탕', '계란말이', '얼갈이생채', '포기김치'], ['쌀밥/잡곡밥', '미역국', '쇠고기낙지볶음', '계란찜', '세발나물', '포기김치'], ['쌀밥/잡곡밥', '차돌박이찌개', '유린기', '모듬버섯볶음', '도라지초무침', '배추겉절이'], ['단호박영양밥', '유부장국', '언양식불고기', '주꾸미초무침', '파래김*양념장', '포기김치'], ['쌀밥/잡곡밥', '콩나물국', '오리불고기', '셀프무쌈말이', '쫑상추무침', '포기김치'], ['쌀밥/잡곡밥', '떡만두국', '쇠고기모듬장조림', '동그랑땡전', '깻잎지', '포기김치'], ['쌀밥/잡곡밥', '아욱국', '제육볶음', '감자그라탕', '콩나물파채무침', '포기김치'], ['쌀밥/잡곡밥', '시금치국', '등갈비김치찜', '메밀전', '도토리묵무침', '알타리김치'], ['콩나물밥*양념장', '가쯔오국', '가자미튀김', '고추잡채*꽃빵', '실곤약초무침', '배추겉절이'], ['쌀밥/잡곡밥', '매운어묵국', '동파삼겹수육', '맛살전', '참나물겉절이', '포기김치'], ['쌀밥/잡곡밥', '동태찌개', '치즈함박스테이크', '두부조림', '방풍나물', '포기김치'], ['쌀밥/잡곡밥', '콩나물국', '짬뽕불고기', '메추리알조림', '건새우마늘쫑볶음', '포기김치'], ['쌀밥/잡곡밥', '연두부탕', '닭볶음탕', '해물김치전', '물파래무침', '배추겉절이'], ['곤드레밥*강된장', '팽이장국', '탕수어', '쫄면무침', '치커리유자청생채', '포기김치'], ['쌀밥/잡곡밥', '근대국', '돼지갈비찜', '두부새싹구이', '호박나물', '알타리김치'], ['쌀밥/잡곡밥', '닭개장', '갈치양념조림', '고기전', '비트무생채', '포기김치'], ['쌀밥/잡곡밥', '열무된장국', '훈제오리구이', '매운어묵볶음', '쌈무/부추생채', '크리스마스케익', '포기김치'], ['쌀밥/잡곡밥', '아욱국', '돈육굴소스볶음', '골뱅이무침*소면', '얼갈이나물', '포기김치'], ['쌀밥/잡곡밥', '순두부찌개', '오징어볶음', '계란말이', '참나물땅콩무침', '포기김치'], ['쌀밥/잡곡밥', '고추장찌개', '버섯불고기', '해물동그랑땡', '유채나물', '포기김치'], ['쌀밥/잡곡밥', '콩나물국', '돈육고추장불고기', '감자채볶음', '양배추쌈', '포기김치'], ['쌀밥/잡곡밥', '떡국', '소갈비찜', '해물파전', '도라지오이무침/식혜', '포기김치'], ['쌀밥/잡곡밥', '차돌박이찌개', '안동찜닭', '주꾸미초무침', '꽈리고추찜', '포기김치'], ['쌀밥/잡곡밥', '두부김치국', '언양식불고기', '삼치구이', '물미역무침', '포기김치'], ['쌀밥/잡곡밥', '시래기국', '쇠고기숙주볶음', '늙은호박전', '부추생채', '포기김치'], ['쌀밥/잡곡밥', '콩나물국', '치즈함박스테이크', '고등어구이', '청경채생채', '포기김치'], ['비빔밥', '맑은국', '치킨핑거*요거트소스', '하와이안샐러드', '검정콩조림', '포기김치'], ['쌀밥/잡곡밥', '육개장', '탕수육', '감자프리타타', '깻잎지', '깍두기'], ['쌀밥/잡곡밥', '꽃게탕', '고추잡채*꽃빵', '메밀전', '시금치나물', '포기김치'], ['쌀밥/잡곡밥', '알탕', '돈육굴소스볶음', '감자채볶음', '마늘쫑무침', '포기김치'], ['쌀밥/잡곡밥', '어묵국', '등갈비김치말이', '해파리냉채', '치커리유자청생채', '알타리김치'], ['짜장덮밥', '맑은국', '유산슬', '군만두', '단무지/오렌지', '포기김치'], ['쌀밥/잡곡밥', '봄동된장국', '쇠고기낙지볶음', '두부스테이크', '오이무침', '배추겉절이'], ['쌀밥/잡곡밥', '콩나물김치국', '순살파닭', '실곤약초무침', '우엉조림', '포기김치'], ['쌀밥/잡곡밥', '고추장찌개', '버섯불고기', '야채계란찜', '오이사과무침', '포기김치'], ['쌀밥/잡곡밥', '배추된장국', '닭볶음탕', '새송이버섯전', '청경채생채', '알타리김치'], ['콩나물밥', '맑은국', '생선까스*탈탈소스', '파스타샐러드', '오복지무침', '포기김치'], ['쌀밥/잡곡밥', '얼갈이국', '누룽지탕수육', '오징어초무침', '취나물', '포기김치'], ['쌀밥/잡곡밥', '수제비국', '짬뽕불고기', '멸치호두볶음', '도라지나물', '배추겉절이'], ['쌀밥/잡곡밥', '된장찌개', '김치제육볶음', '사과고구마그라탱', '브로컬리들깨찜', '포기김치'], ['쌀밥/잡곡밥', '새알만두국', '양파치킨', '돈육잡채', '유채나물/치킨무', '포기김치'], ['카레덮밥', '유부장국', '새우까스*칠리소스', '쫄면무침', '오이무침', '포기김치'], ['쌀밥/잡곡밥', '청국장찌개', '갈치구이', '비엔나감자볶음', '콩나물겨자채무침', '포기김치'], ['쌀밥/잡곡밥', '시금치국', '동파삼겹수육', '해물파전', '간장깻잎지', '포기김치'], ['쌀밥/잡곡밥', '열무된장국', '훈제오리구이', '매운어묵볶음', '쌈무/부추생채', '포기김치'], ['쌀밥/잡곡밥', '황태국', '제육볶음', '들깨버섯무침', '숙주나물', '알타리김치'], ['쌀밥/잡곡밥', '어묵국', '소불고기', '계란말이', '실곤약초무침', '포기김치'], ['쌀밥/잡곡밥', '순두부찌개', '돈육장조림', '옥수수전', '물미역*초장', '포기김치'], ['낙지비빔밥', '맑은국', '메추리알조림', '고구마튀김', '오복지무침', '포기김치'], ['쌀밥/잡곡밥', '꽃게탕', '미니채소떡갈비', '카레감자채볶음', '양배추쌈*쌈장', '포기김치'], ['쌀밥/잡곡밥', '봄동된장국', '오징어볶음', '연두부*양념장', '미역줄기볶음', '포기김치'], ['쌀밥/잡곡밥', '콩비지찌개', '치즈함박스테이크', '새송이버섯전', '유채나물', '포기김치'], ['쌀밥/오곡밥', '차돌박이찌개', '굴비구이', '오징어야채무침', '보름나물/구이김', '부럼/포기김치'], ['곤드레밥*양념장', '맑은국', '치킨핑거', '김치찐만두', '무생채/요플레', '포기김치'], ['쌀밥/잡곡밥', '아욱국', '돼지갈비찜', '시금치프리타타', '오이무침', '알타리김치'], ['쌀밥/잡곡밥', '돈육김치찌개', '언양식불고기', '맛살냉채', '마늘쫑건새우볶음', '포기김치'], ['쌀밥/잡곡밥', '고추장찌개', '버섯불고기', '두부양념조림', '참나물', '포기김치'], ['쌀밥/잡곡밥', '쇠고기미역국', '미트볼칠리조림', '고등어구이', '숙주나물', '배추겉절이'], ['비빔밥', '유부장국', '오징어튀김', '떡밤초', '음료', '포기김치'], ['쌀밥/잡곡밥', '콩가루배추된장국', '돈삼겹보쌈', '매운어묵볶음', '무말랭이', '포기김치'], ['쌀밥/잡곡밥', '해물된장찌개', '돈육간장불고기', '옥수수계란찜', '모듬쌈', '포기김치'], ['쌀밥/잡곡밥', '육개장', '고추잡채*꽃빵', '삼치구이', '얼갈이나물', '포기김치'], ['콩나물밥', '미역장국', '코다리강정', '닭가슴살냉채', '유채나물겉절이', '알타리김치'], ['쌀밥/잡곡밥', '북어해장국', '소고기낙지볶음', '녹두전', '돌나물*초장', '포기김치'], ['쌀밥/잡곡밥', '차돌박이찌개', '해물누룽지탕', '비엔나컬리플라워조림', '열무나물무침', '배추겉절이'], ['쌀밥/잡곡밥', '어묵국', '쇠고기숙주볶음', '감자프리타타', '건새우마늘쫑볶음', '포기김치'], ['쌀밥/잡곡밥', '쑥국', '안동찜닭', '해물김치전', '풋마늘대무침', '포기김치'], ['카레덮밥', '가쯔오장국', '고구마치즈구이', '쫄면무침', '무말랭이', '포기김치'], ['쌀밥/잡곡밥', '우거지해장국', '갈치구이', '모듬소시지구이', '양념깻잎지', '열무김치'], ['쌀밥/잡곡밥', '열무된장국', '등갈비김치찜', '메밀전병만두', '호박나물', '배추겉절이'], ['쌀밥/잡곡밥', '콩나물국', '버섯불고기', '오징어숙회무침', '세발나물', '포기김치'], ['쌀밥/잡곡밥', '아욱국', '동파육', '계란찜', '쫑상추무침', '배추겉절이'], ['김치제육덮밥', '맑은국', '야채튀김', '시저샐러드', '오이무침', '알타리김치'], ['쌀밥/잡곡밥', '미역국', '한방소갈비찜', '동태전/새송이전', '봄동겉절이', '식혜,오렌지,바나나', '깍두기'], ['쌀밥/잡곡밥', '해물된장찌개', '돈육굴소스볶음', '달래두부무침', '양배추쌈*쌈장', '포기김치'], ['쌀밥/잡곡밥', '꽃게탕', '소고기장조림', '두부구이', '방풍나물', '포기김치'], ['쌀밥/잡곡밥', '무채국', '제육볶음', '들깨버섯무침', '얼갈이나물', '포기김치'], ['단호박영양밥', '가쯔오장국', '돈육칠리강정', '모듬묵샐러드', '숙주나물', '배추겉절이'], ['쌀밥/잡곡밥', '어묵탕', '매운돼지갈비찜', '야채계란말이', '부추팽이겉절이', '열무김치'], ['쌀밥/잡곡밥', '알탕', '미니함박조림', '셀프무쌈말이', '파래김*양념장', '포기김치'], ['쌀밥/잡곡밥', '황태국', '소고기숙주볶음', '계란찜', '치커리무침', '포기김치'], ['쌀밥/잡곡밥', '연두부탕', '오징어볶음', '궁중떡볶음', '참나물무침', '포기김치'], ['곤드레밥*강된장', '들깨시래기국', '순대볶음', '쫄면', '온두부', '볶음김치'], ['쌀밥/잡곡밥', '돈육김치찌개', '안동찜닭', '야채비빔만두', '아삭고추무침', '열무김치'], ['쌀밥/잡곡밥', '조랭이떡미역국', '짬뽕불고기', '맛살전', '간장깻잎지', '배추겉절이'], ['쌀밥/잡곡밥', '된장찌개', '유자청돈육볶음', '새송이버섯전', '모듬쌈*쌈장', '포기김치'], ['쌀밥/잡곡밥', '순두부찌개', '주꾸미볶음', '감자채볶음', '견과류조림', '열무김치'], ['나물비빔밥', '가쯔오장국', '오징어튀김', '과일샐러드', '오복지', '포기김치'], ['쌀밥/잡곡밥', '콩나물국', '수제돈까스', '파스타샐러드', '오이무침', '포기김치'], ['쌀밥/잡곡밥', '아욱국', '닭오븐구이', '옥수수전', '치커리사과생채', '배추겉절이'], ['쌀밥/잡곡밥', '매운어묵국', '버섯불고기', '시금치프리타타', '도라지오이생채', '포기김치'], ['쌀밥/잡곡밥', '열무된장국', '닭볶음탕', '우엉잡채', '고구마순나물', '포기김치'], ['쌀밥/잡곡밥', '떡국', '오징어볶음', '계란장조림', '양념깻잎지', '포기김치'], ['쌀밥/잡곡밥', '매운버섯국', '미트볼케찹조림', '어묵볶음', '세발나물', '열무김치'], ['짜장덮밥', '맑은국', '사천식탕수육', '군만두', '단무지', '포기김치'], ['쌀밥/잡곡밥', '들깨시래기국', '유자청돈육볶음', '콩나물겨자채', '양배추쌈*쌈장', '포기김치'], ['쌀밥/잡곡밥', '된장찌개', '쇠고기장조림', '골뱅이무침*소면', '취나물무침', '포기김치'], ['카레라이스', '미소장국', '언양식불고기', '떡볶이', '방울토마토', '포기김치'], ['쌀밥/잡곡밥', '두부김치국', '해물누룽지탕', '두부카프레제', '무나물', '열무김치'], ['쌀밥/잡곡밥', '미역국', '돈육간장강정', '황태양념구이', '숙주나물', '포기김치'], ['쌀밥/잡곡밥', '김치콩나물국', '버섯불고기', '계란찜', '부추생채', '포기김치'], ['쌀밥/잡곡밥', '소고기샤브국', '오징어볶음', '모듬묵샐러드', '연근조림', '포기김치'], ['쌀밥/잡곡밥', '해물된장찌개', '안동찜닭', '버섯볶음', '치커리생채', '포기김치'], ['쌀밥/잡곡밥', '순두부찌개', '미니채소떡갈비', '사각어묵무침', '단배추나물', '배추겉절이'], ['쌀밥/잡곡밥', '어묵국', '훈제오리구이', '두부조림', '양파절임/쌈무', '포기김치'], ['콩나물밥', '가쯔오장국', '치킨핑거/요거트D', '메추리알조림', '청경채생채', '포기김치'], ['쌀밥/잡곡밥', '근대국', '보쌈', '상추쌈/고추/마늘', '무말랭이무침', '배추겉절이'], ['쌀밥/잡곡밥', '참치김치찌개', '소고기장조림', '실곤약초무침', '셀프무쌈말이', '깍두기'], ['쌀밥/잡곡밥', '아욱국', '제육볶음', '해파리겨자채', '호박나물', '포기김치'], ['쌀밥/잡곡밥', '차돌된장찌개', '해물청경채볶음', '고기전', '미역줄기볶음', '포기김치'], ['산채비빔밥', '가쯔오장국', '치킨너겟*머스타드', '콘샐러드', '연근땅콩조림', '포기김치'], ['쌀밥/잡곡밥', '연두부탕', '돼지갈비찜', '계란말이', '취나물', '포기김치'], ['쌀밥/잡곡밥', '버섯매운탕', '탕수어', '온두부', '치커리유자청무침', '볶음김치'], ['쌀밥/잡곡밥', '된장찌개', '소고기숙주나물볶음', '코다리조림', '방풍나물', '포기김치'], ['쌀밥/잡곡밥', '해물순두부찌개', '수원왕갈비통닭', '사각어묵볶음', '참나물생채', '열무김치'], ['쌀밥/잡곡밥', '꽃게탕', '새송이떡갈비구이', '도토리묵야채무침', '연두부*양념장', '포기김치'], ['쌀밥/잡곡밥', '소고기국', '가자미튀김', '돈육장조림', '시금치고추장무침', '포기김치'], ['낙지비빔밥', '콩나물국', '부추전', '계란찜', '땅콩조림', '포기김치'], ['쌀밥/잡곡밥', '북어국', '돈육콩나물불고기', '시금치프리타타', '쫑상추무침', '포기김치'], ['쌀밥/잡곡밥', '오징어국', '안동찜닭', '감자채전', '오이소박이', '포기김치'], ['쌀밥/잡곡밥', '배추된장국', '수제돈가스', '마파두부', '돈나물유자청무침', '포기김치'], ['쌀밥/잡곡밥', '육개장', '고등어구이', '야채비빔만두', '파래김*양념장', '깍두기'], ['봄나물비빔밥', '맑은국', '함박스테이크', '동태전', '마늘쫑무침', '포기김치'], ['쌀밥/잡곡밥', '콩나물국', '짬뽕불고기', '메추리알조림', '모듬쌈*쌈장', '포기김치'], ['쌀밥/잡곡밥', '아욱국', '등갈비김치찜', '두부계란부침', '콩나물무침', '열무김치'], ['곤드레밥*양념장', '맑은국', '코다리조림', '계란말이', '과일샐러드', '포기김치'], ['쌀밥/잡곡밥', '고추장찌개', '언양식불고기', '버섯잡채', '오이무침', '포기김치'], ['쌀밥/잡곡밥', '매운어묵국', '소불고기', '골뱅이무침*소면', '숙주나물', '포기김치'], ['쌀밥/잡곡밥', '부대찌개', '오징어볶음', '연두부*양념장', '땅콩조림', '열무김치'], ['김치제육덮밥', '맑은국', '사과고구마그라탕', '맛살냉채', '오복지무침', '깍두기'], ['쌀밥/잡곡밥', '옹심이만두국', '닭볶음탕', '신김치도토리묵', '치커리유자청생채', '포기김치'], ['쌀밥/잡곡밥', '오이냉국', '사천식탕수육', '해물파전', '양념깻잎지', '포기김치'], ['쌀밥/잡곡밥', '열무된장국', '돼지고기유자청볶음', '잡채', '취나물무침', '포기김치'], ['쌀밥/잡곡밥', '북어해장국', '매운돼지갈비찜', '흑임자연근샐러드', '무생채', '포기김치'], ['짜장덮밥', '맑은국', '깐풍기', '물만두', '단무지/쨔샤이무침', '포기김치'], ['쌀밥/잡곡밥', '감자국', '주꾸미볶음', '시금치프리타타', '아삭고추무침', '포기김치'], ['쌀밥/잡곡밥', '청국장찌개', '소고기장조림', '김치전', '사과오이초무침', '포기김치'], ['쌀밥/잡곡밥', '어묵국', '소불고기', '옥수수계란찜', '가지나물', '포기김치'], ['쌀밥/잡곡밥', '참치김치찌개', '돈육장조림', '맛살전', '해파리냉채', '열무김치'], ['카레덮밥', '가쯔오장국', '고구마치즈구이', '쫄면무침', '무말랭이', '포기김치'], ['쌀밥/잡곡밥', '소고기미역국', '양념치킨', '비엔나볶음', '파래김*양념장', '배추겉절이'], ['콩나물밥*양념장', '팽이장국', '치킨핑거*요거트드레싱', '꽃맛살샐러드', '얼갈이겉절이', '포기김치'], ['쌀밥/잡곡밥', '순두부찌개', '치즈함박스테이크', '매운어묵볶음', '청경채생채', '포기김치'], ['쌀밥/잡곡밥', '사과오이냉국', '쇠고기낙지볶음', '우엉잡채', '쫑상추무침', '포기김치'], ['마파두부덮밥', '맑은국', '치킨너겟', '파스타샐러드', '찐옥수수', '포기김치'], ['쌀밥/잡곡밥', '열무된장국', '짬뽕불고기', '감자채볶음', '호박잎*양배추쌈', '포기김치'], ['쌀밥/잡곡밥', '김치두부국', '훈제오리구이', '동그랑땡전', '쌈무/양파절임', '부추겉절이', '열무김치'], ['쌀밥/잡곡밥', '오징어국', '버섯불고기', '꽃맛살볶음', '치커리유자청생채', '포기김치'], ['쌀밥/잡곡밥', '시래기국', '닭볶음탕', '어묵꽈리볶음', '도라지생채', '포기김치'], ['열무보리비빔밥', '가쯔오장국', '깐풍육', '시저샐러드', '오복지무침', '포기김치'], ['쌀밥/잡곡밥', '근대국', '삼겹보쌈', '해물김치전', '무말랭이', '배추겉절이'], ['<초복특식>', '삼계탕', '찹쌀밥', '생야채&쌈장', '수박', '수제석박지'], ['쌀밥/잡곡밥', '차돌박이찌개', '돈육굴소스볶음', '주꾸미야채무침', '시금치나물', '포기김치'], ['쌀밥/잡곡밥', '북어계란국', '닭갈비', '간장두부조림', '셀프무쌈말이', '열무김치'], ['산채비빔밥', '미소장국', '야채튀김', '아삭고추무침', '요플레', '포기김치'], ['쌀밥/잡곡밥', '돈육김치찌개', '미니채소떡갈비', '모듬묵양념장', '참나물생채', '배추겉절이'], ['쌀밥/잡곡밥', '소고기무국', '갈치구이', '비엔나감자볶음', '무생채', '포기김치'], ['쌀밥/잡곡밥', '매운어묵국', '소고기숙주볶음', '치킨샐러드', '양파짱아찌', '포기김치'], ['쌀밥/잡곡밥', '시금치된장국', '등갈비김치찜', '파프리카잡채', '콩나물무침', '깍두기'], ['카레라이스', '가쯔오국', '갈비통통만두', '쫄면야채무침', '호두견과류강정', '포기김치'], ['쌀밥/잡곡밥', '매운소고기국', '유린기', '코다리조림', '치커리사과무침', '포기김치'], ['쌀밥/잡곡밥', '우묵냉국', '고구마함박스테이크', '김치전', '오이맛살초무침', '포기김치'], ['쌀밥/잡곡밥', '시금치국', '유자청제육볶음', '사과고구마그라탕', '오이무침', '포기김치'], ['쌀밥/잡곡밥', '사과오이냉국', '장어강정', '햄감자채볶음', '콩나물무침', '포기김치'], ['곤드레밥*양념장', '맑은국', '해물누룽지탕', '메밀전병만두', '오복지/찐햇감자', '포기김치'], ['쌀밥/잡곡밥', '아욱국', '닭볶음탕', '오징어브로컬리숙회', '청경채생채', '배추겉절이'], ['쌀밥/잡곡밥', '고추장찌개', '미트볼케찹조림', '계란말이', '꽈리고추찜', '포기김치'], ['쌀밥/잡곡밥', '콩나물국', '닭갈비', '실곤약흑임자무침', '건새우마늘쫑볶음', '포기김치'], ['쌀밥/잡곡밥', '도토리묵냉국', '짬뽕불고기', '계란찜', '양배추쌈*젓장', '포기김치'], ['짜장덮밥', '맑은국', '고추잡채*꽃빵', '군만두', '단무지무침', '포기김치'], ['쌀밥/잡곡밥', '아욱국', '돼지갈비찜', '어묵볶음', '치커리유자청무침', '배추겉절이'], ['쌀밥/잡곡밥', '차돌된장찌개', '주꾸미볶음', '옥수수전', '양념깻잎지', '포기김치'], ['쌀밥/잡곡밥', '된장찌개', '소고기숙주볶음', '모듬묵*양념장', '고추잎나물', '포기김치'], ['쌀밥/잡곡밥', '꽃게탕', '언양식불고기', '감자프리타타', '깻잎찜', '포기김치'], ['콩나물밥', '올챙이만두국', '유린기', '모히토과일샐러드', '쨔샤이무침', '포기김치'], ['쌀밥/잡곡밥', '닭개장', '쇠고기장조림', '잡채', '비름나물된장무침', '포기김치'], ['쌀밥/잡곡밥', '시래기국', '유자청제육볶음', '해물겨자냉채', '연두부*양념장', '포기김치'], ['쌀밥/잡곡밥', '소고기미역국', '닭강정', '모듬소세지구이', '얼갈이겉절이', '포기김치'], ['산채비빔밥', '미소장국', '오징어튀김', '아삭고추무침', '요플레', '포기김치'], ['쌀밥/잡곡밥', '닭곰탕', '류산슬', '오꼬노미야끼계란말이', '오이도라지생채', '열무김치'], ['쌀밥/잡곡밥', '돈육김치찌개', '미니채소떡갈비', '자반고등어구이', '숙주나물', '배추겉절이'], ['쌀밥/잡곡밥', '꽃게탕', '함박스테이크', '사과고구마그라탕', '콩나물무침', '포기김치'], ['쌀밥/잡곡밥', '고추장찌개', '버섯불고기', '동태전', '레몬미역초무침', '포기김치'], ['카레덮밥', '맑은국', '치킨핑거', '쫄면야채무침', '오복지/과일', '포기김치'], ['쌀밥/잡곡밥', '배추된장국', '훈제오리구이', '매운어묵볶음', '쌈무/양파절임', '부추겉절이', '포기김치'], ['쌀밥/잡곡밥', '부대찌개', '굴비구이', '비엔나컬리플라워볶음', '김구이', '배추겉절이'], ['쌀밥/잡곡밥', '들깨시락국', '돈육김치볶음', '궁중떡볶음', '쫑상추무침', '포기김치'], ['쌀밥/잡곡밥', '차돌박이찌개', '소고기장조림', '갈치무조림', '참나물생채', '포기김치'], ['단호박영양밥', '유부장국', '새송이너비아니구이', '양장피', '오이무침', '포기김치'], ['쌀밥/잡곡밥', '토란국', '매운돼지갈비찜', '호박부추전', '도토리묵야채무침', '포기김치'], ['쌀밥/잡곡밥', '된장찌개', '수제돈까스', '통도라지구이', '미역무침', '배추겉절이'], ['쌀밥/잡곡밥', '김치콩나물국', '짬뽕불고기', '버섯잡채', '모듬쌈*쌈장', '포기김치'], ['쌀밥/잡곡밥', '맑은순두부국', '사천식탕수육', '감자프리타타', '청경채겉절이', '포기김치'], ['나물비빔밥', '팽이장국', '생선까스*칠리소스', '갈비만두', '송편/식혜/과일', '포기김치'], ['쌀밥/잡곡밥', '황태국', '훈제오리고추장볶음', '연두부*장', '쌈무/부추생채', '포기김치'], ['쌀밥/잡곡밥', '꽃게된장찌개', '돈육굴소스볶음', '날치알계란찜', '꽃상추겉절이', '포기김치'], ['쌀밥/잡곡밥', '소고기미역국', '탄두리치킨', '오징어숙회무침', '파스타샐러드', '/오렌지주스', '배추겉절이/과일'], ['쌀밥/잡곡밥', '쇠고기샤브국', '주꾸미볶음', '카레감자채볶음', '호박나물', '포기김치'], ['쌀밥/잡곡밥', '열무된장국', '대패삼겹*파채', '사각어묵무침', '비름나물', '포기김치'], ['쌀밥/잡곡밥', '근대국', '유자청제육볶음', '동그랑땡전', '얼갈이겉절이', '포기김치'], ['쌀밥/잡곡밥', '얼갈이된장국', '버섯불고기', '골뱅이무침', '미역줄기볶음', '포기김치'], ['곤드레밥*양념장', '맑은국', '돈육강정', '사과고구마그라탕', '오복지무침', '포기김치'], ['쌀밥/잡곡밥', '콩나물김치국', '해물누룽지탕', '두부스테이크', '마늘쫑무침', '깍두기'], ['쌀밥/잡곡밥', '어묵국', '언양식불고기', '계란말이', '청경채생채', '포기김치'], ['쌀밥/잡곡밥', '콩가루배추국', '짬뽕불고기', '메추리알조림', '얼갈이겉절이', '포기김치'], ['쌀밥/잡곡밥', '돈육김치찌개', '닭갈비', '우엉잡채', '부추겉절이', '깍두기'], ['쌀밥/잡곡밥', '해물된장찌개', '소불고기', '두부양념조림', '미역레몬초무침', '포기김치'], ['쌀밥/잡곡밥', '콩비지찌개', '돈육굴소스볶음', '해파리겨자채', '마늘쫑건새우볶음', '포기김치'], ['쌀밥/잡곡밥', '동태탕', '마늘간장치킨', '새송이버섯전', '치커리사과무침', '포기김치'], ['쌀밥/잡곡밥', '옹심이만두국', '굴비구이', '미트볼조림', '청경채무침', '포기김치'], ['쌀밥/잡곡밥', '아욱국', '매운돼지갈비찜', '파스타샐러드', '건파래무침', '배추겉절이'], ['쌀밥/잡곡밥', '북어해장국', '제육볶음', '감자채볶음', '야채스틱', '포기김치'], ['쌀밥/잡곡밥', '콩나물국', '닭갈비', '어묵볶음', '부추생채', '포기김치'], ['콩나물밥', '가쯔오국', '돈육강정', '모히토과일샐러드', '쨔샤이무침', '포기김치'], ['쌀밥/잡곡밥', '알탕', '해물굴소스볶음', '쇠고기두부찜', '치커리유자청무침', '포기김치'], ['쌀밥/잡곡밥', '우거지된장국', '쇠고기장조림', '옥수수전', '마늘쫑무침', '배추겉절이'], ['쌀밥/잡곡밥', '고추장찌개', '훈제오리단호박볶음', '골뱅이무침', '양파절임/부추생채', '포기김치'], ['쌀밥/잡곡밥', '얼큰순두부찌개', '짬뽕불고기', '잡채', '도토리묵무침', '포기김치'], ['카레라이스', '우동국', '유린기', '메밀전병만두', '단무지/바나나', '포기김치'], ['쌀밥/잡곡밥', '건새우아욱국', '등갈비김치말이', '계란말이', '숙주나물무침', '열무김치'], ['나물비빔밥', '팽이장국', '생선까스*칠리소스', '갈비만두', '식혜', '포기김치'], ['쌀밥/잡곡밥', '소고기미역국', '유자청제육볶음', '메추리알조림', '모듬쌈*쌈장', '포기김치'], ['쌀밥/잡곡밥', '된장찌개', '오징어볶음', '두부새싹구이', '파래김*양념장', '열무김치'], ['마파두부덮밥', '맑은국', '치킨핑거', '시저샐러드', '무비트생채', '포기김치'], ['쌀밥/잡곡밥', '매운콩나물국', '동파삼겹수육', '늙은호박전', '쫑상추무침', '배추겉절이'], ['쌀밥/옛날돈까스', '옥수수스프', '딸기드레싱샐러드', '감자범벅', '수제피클/음료', '포기김치'], ['쌀밥/잡곡밥', '근대국', '소고기낙지볶음', '계란찜', '청경채사과생채', '포기김치'], ['쌀밥/잡곡밥', '고추장찌개', '순살파닭', '감자채볶음', '콩나물무침', '포기김치'], ['김치제육덮밥', '가쯔오장국', '시금치프리타타', '동태전', '오이무침', '열무김치'], ['쌀밥/잡곡밥', '오징어국', '미니채소떡갈비', '멸치호두볶음', '물파래무침', '포기김치'], ['야채볶음밥*짜장소스', '미역장국', '사천식탕수육', '멕시칸샐러드', '단무지', '포기김치'], ['쌀밥/잡곡밥', '돈육김치찌개', '언양식불고기*양파채', '잡채', '진미채무침', '포기김치'], ['쌀밥/잡곡밥', '차돌된장찌개', '주꾸미볶음', '옥수수전', '양념깻잎지', '포기김치'], ['곤드레밥*양념장', '맑은국', '돈육강정', '사과고구마그라탕', '오복지무침', '배추겉절이'], ['쌀밥/잡곡밥', '콩나물국', '해물누룽지탕', '모듬소시지구이', '미역레몬초무침', '포기김치'], ['김치볶음밥', '나가사끼짬뽕국', '치킨텐더샐러드', '또띠아칩', '피클/방울토마토', '포기김치'], ['쌀밥/잡곡밥', '김치콩나물국', '소고기장조림', '시금치프리타타', '오이무침', '포기김치'], ['쌀밥/잡곡밥', '육개장', '탕수어', '온두부', '참나물', '김치볶음'], ['콩나물밥*양념장', '미소장국', '닭강정', '청포묵무침', '오이도라지무침', '포기김치'], ['쌀밥/잡곡밥', '된장찌개', '류산슬', '비빔야채만두', '실곤약흑임자무침', '포기김치'], ['카레덮밥', '맑은국', '생선까스', '쫄면야채무침', '아몬드멸치볶음/과일', '포기김치'], ['쌀밥/잡곡밥', '고추장찌개', '버섯불고기', '계란말이', '아삭고추무침', '포기김치'], ['쌀밥/잡곡밥', '김치두부국', '누룽지탕수육', '마파두부', '파래김*양념장', '깍두기'], ['나물비빔밥', '맑은국', '감자치즈구이', '군만두', '치커리유자청생채', '포기김치'], ['쌀밥/잡곡밥', '아욱국', '닭볶음탕', '해물파전', '청경채생채', '열무김치'], ['오므라이스', '미소장국', '모듬튀김', '콘샐러드', '군고구마/과일', '포기김치'], ['쌀밥/잡곡밥', '열무된장국', '훈제오리구이', '우엉잡채', '양파절임/쌈무', '포기김치'], ['쌀밥/잡곡밥', '홍합탕', '마늘간장치킨', '부추전', '마늘쫑무침', '포기김치'], ['김치볶음밥/계란', '팽이장국', '해물까스*칠리소스', '콥샐러드', '비트무생채/요플레', '열무김치'], ['쌀밥/잡곡밥', '쇠고기샤브국', '닭갈비', '동태전', '가지나물', '포기김치'], ['쌀밥/잡곡밥', '근대국', '수제돈가스', '계란찜', '양념깻잎지', '깍두기'], ['쌀밥/잡곡밥', '들깨시래기국', '유자청돈육볶음', '콩나물겨자채', '시금치나물', '포기김치'], ['쌀밥/잡곡밥', '매운소고기국', '유린기', '코다리조림', '치커리사과무침', '포기김치'], ['단호박영양밥', '유부장국', '새송이너비아니구이', '양장피', '오이무침', '포기김치'], ['쌀밥/잡곡밥', '굴미역국', '매운돼지갈비찜', '호박부추전', '도토리묵야채무침', '포기김치'], ['쌀밥/잡곡밥', '참치김치찌개', '안동찜닭', '고추잡채*꽃빵', '가지무침', '깍두기'], ['쌀밥/잡곡밥', '열무된장국', '훈제오리볶음', '떡잡채', '양파절임/쌈무', '포기김치'], ['쌀밥/잡곡밥', '무채국', '소고기숙주볶음', '메추리알곤약조림', '유채겉절이', '포기김치'], ['콩나물밥', '미소장국', '언양식불고기*양파채', '샐러드파스타', '가래떡츄러스', '포기김치'], ['쌀밥/잡곡밥', '된장찌개', '대패삼겹*파채', '해물콩나물찜', '연두부*장', '포기김치'], ['쌀밥/잡곡밥', '감자양파국', '매운닭찜', '두부커틀릿', '간장깻잎지', '포기김치'], ['쌀밥/잡곡밥', '아욱국', '돈육김치볶음', '비엔나감자조림', '모듬쌈', '깍두기'], ['쌀밥/잡곡밥', '오징어국', '치킨핑거', '애호박전', '콩나물무침', '조각케익', '포기김치'], ['쌀밥/잡곡밥', '된장찌개', '짬뽕불고기', '녹두전', '물미역*초장', '열무김치'], ['파인애플볶음밥', '가쯔오장국', '사천식탕수육', '콘치즈오븐구이', '단무지무침', '포기김치'], ['쌀밥/잡곡밥', '고추장찌개', '버섯불고기', '두부양념조림', '오이무침', '포기김치'], ['쌀밥/잡곡밥', '배추된장국', '닭볶음탕', '부추깻잎전', '양배추쌈*쌈장', '포기김치'], ['쌀밥/잡곡밥', '떡국', '제육볶음', '시금치프리타타', '유채나물', '식혜', '포기김치'], ['비빔밥', '미소장국', '탕수어', '과일샐러드', '마늘쫑무침', '포기김치'], ['쌀밥/잡곡밥', '된장찌개', '돈육김치볶음', '사각어묵볶음', '쫑상추무침', '포기김치'], ['쌀밥/잡곡밥', '미역국', '순살파닭', '감자채전', '오이도라지무침', '포기김치'], ['곤드레밥*양념장', '맑은국', '돈육강정', '사과고구마그라탕', '오복지무침', '배추겉절이'], ['쌀밥/잡곡밥', '육개장', '가자미튀김', '언양식불고기', '치커리무침', '포기김치'], ['참치회덮밥', '미소장국', '또띠아피자', '과일샐러드', '락교', '포기김치'], ['쌀밥/잡곡밥', '근대국', '훈제오리구이', '마늘쫑볶음', '명이절임/부추생채', '포기김치'], ['쌀밥/잡곡밥', '시래기국', '함박스테이크*소스', '두부구이', '오이무침', '포기김치'], ['단호박영양밥', '연두부탕', '오징어숙회무침', '고기전', '콩나물무침', '포기김치'], ['쌀밥/잡곡밥', '해물된장찌개', '묵은지닭찜', '깐풍두부', '아삭고추무침', '포기김치'], ['김치필라프', '크림스프', '토마토스파게티', '콥샐러드', '수제피클', '열무김치'], ['쌀밥/잡곡밥', '순두부찌개', '닭갈비', '고등어구이', '치커리사과유자청무침', '포기김치'], ['쌀밥/잡곡밥', '어묵국', '등갈비김치찜', '콩나물냉채', '땅콩조림', '열무김치'], ['불고기비빔밥', '미역장국', '허니버터치킨', '모듬묵흑임자샐러드', '오이무침', '포기김치'], ['쌀밥/잡곡밥', '아욱국', '돼지갈비찜', '동태전', '시금치초무침', '포기김치'], ['쌀밥/잡곡밥', '황태국', '오리고추장볶음', '어묵꽈리고추조림', '미역오이초무침', '포기김치'], ['콩나물밥*양념장', '가쯔오장국', '치킨핑거', '꽃맛살샐러드', '청경채생채', '포기김치'], ['쌀밥/잡곡밥', '들깨시래기국', '닭오븐구이', '달래두부무침', '시금치나물', '배추겉절이'], ['김치제육덮밥', '계란국', '오징어튀김', '시저샐러드', '열무나물', '포기김치'], ['쌀밥/잡곡밥', '미역국', '쇠고기낙지볶음', '계란찜', '세발나물생채', '포기김치'], ['쌀밥/잡곡밥', '차돌박이찌개', '돈육강정', '모듬버섯볶음', '도라지초무침', '배추겉절이'], ['단호박영양밥', '유부장국', '언양식불고기', '주꾸미초무침', '파래김*양념장', '포기김치'], ['쌀밥/잡곡밥', '어묵탕', '동파삼겹수육', '감자채볶음', '오이무침/귤', '포기김치'], ['쌀밥/오곡밥', '두부김치국', '굴비구이', '미트볼조림', '보름나물', '부럼/포기김치'], ['쌀밥/잡곡밥', '매운콩나물국', '소고기숙주볶음', '골뱅이무침*소면', '유채나물', '포기김치'], ['쌀밥/잡곡밥', '냉이된장찌개', '레몬탕수육', '실곤약흑임자무침', '양념깻잎지', '포기김치'], ['곤드레밥*강된장', '팽이장국', '닭데리야끼조림', '비빔야채만두', '바나나', '포기김치'], ['쌀밥/잡곡밥', '동태찌개', '돈육간장볶음', '사각어묵볶음', '쫑상추무침', '포기김치'], ['김밥볶음밥', '미니짬뽕', '크림새우', '하와이안샐러드', '또띠아칩', '배추겉절이'], ['쌀밥/잡곡밥', '쇠고기샤브국', '유자청제육볶음', '우엉잡채', '미역오이초무침', '포기김치'], ['쌀밥/잡곡밥', '차돌된장찌개', '주꾸미볶음', '고기전', '봄동겉절이', '포기김치'], ['나물비빔밥', '미소장국', '사과고구마그라탕', '메밀전병만두', '도라지오이생채', '포기김치'], ['쌀밥/잡곡밥', '근대국', '간장마늘치킨', '오징어초무침', '호박채나물', '열무김치'], ['쌀밥/잡곡밥', '들깨미역국', '짬뽕불고기', '새송이버섯전', '치커리만다린무침', '포기김치'], ['쌀밥/잡곡밥', '된장찌개', '돈육김치볶음', '계란찜', '실곤약초무침', '깍두기'], ['쌀밥/잡곡밥', '부대찌개', '훈제오리구이', '늙은호박전', '양파절임/부추생채', '열무김치'], ['낙지비빔밥', '팽이장국', '치킨텐더*콘소스D', '과일샐러드', '마늘쫑무침', '포기김치'], ['쌀밥/잡곡밥', '북어국', '닭갈비', '두부계란부침', '콩나물무침', '포기김치'], ['쌀밥/잡곡밥', '아욱국', '소고기장조림', '황태양념구이', '세발나물생채', '포기김치'], ['쌀밥/잡곡밥', '두부김치국', '소고기버섯볶음', '모듬묵*장', '치커리유자청무침', '깍두기'], ['쌀밥/잡곡밥', '쇠고기무국', '오징어볶음*소면', '꽃맛살볶음', '양념깻잎지', '포기김치'], ['콩나물밥*달래장', '고추장찌개', '갈치구이', '떡잡채', '오이무침', '포기김치'], ['쌀밥/잡곡밥', '미역국', '수원왕갈비통닭', '김치전', '치킨무/돌나물무침', '포기김치'], ['곤드레밥', '건새우아욱국', '돈육간장볶음', '쫄면야채무침', '브로컬리', '배추겉절이'], ['쌀밥/잡곡밥', '콩나물국', '소불고기', '옥수수계란찜', '오이도라지생채', '포기김치'], ['쌀밥/잡곡밥', '대파육개장*칼국수', '가자미엿장조림', '꼬들단무지무침', '청경채겉절이', '포기김치'], ['카레라이스', '미소시루', '감자만두*양념', '애기새송이버섯볶음', '골뱅이야채무침', '포기김치'], ['쌀밥/잡곡밥', '순두부찌개', '해물돼지갈비찜', '가지완자튀김', '꼬들빼기김치', '열무김치'], ['쌀밥/잡곡밥', '설렁탕', '동태포전', '야채스틱,고추*쌈장', '부추겉절이', '석박지'], ['쌀밥/잡곡밥', '어묵국', '돈육굴소스볶음', '오징어숙회무침', '아삭고추쌈장무침', '열무김치'], ['쌀밥/잡곡밥', '대구탕', '차돌박이숙주볶음', '브로컬리,다시마*초장', '시금치나물', '포기김치'], ['마파두부덮밥', '조갯살무국', '레몬유린기', '콩나물냉채', '고춧잎볶음', '포기김치'], ['쌀밥/잡곡밥', '콩비지찌개', '짜장닭볶음', '햄계란말이', '고추장고구마순무침', '포기김치'], ['쌀밥/잡곡밥', '갈비탕', '칠리새우', '감자채볶음', '풋마늘대무침', '포기김치'], ['쌀밥/잡곡밥', '시래기국', '오리양념불고기*쌈무', '봄동전*양념', '미역초무침', '포기김치'], ['쌀밥/잡곡밥', '소고기미역국', '해물누룽지탕', '김치고기전', '치커리사과무침', '깍두기'], ['쌀밥/잡곡밥', '유부주머니국', '목살스테이크', '파스타샐러드', '오이무침', '포기김치'], ['쌀밥/잡곡밥', '배추된장국', '제육볶음', '계란찜', '모듬쌈*쌈장', '포기김치'], ['봄나물비빔밥', '맑은국', '치킨너겟', '시저샐러드', '마늘쫑무침', '포기김치'], ['쌀밥/잡곡밥', '우렁된장찌개', '주꾸미볶음', '오꼬노미계란말이', '연두부*장', '포기김치'], ['쌀밥/잡곡밥', '고추장찌개', '안동찜닭', '모듬버섯볶음', '참나물생채무침', '포기김치'], ['쌀밥/잡곡밥', '들깨시래기국', '삼겹살수육&풋고추', '오복지무침', '배추깻잎*쌈장', '포기김치'], ['쌀밥/잡곡밥', '경상도식소고기국', '등갈비김치찜', '감자채볶음', '치커리오이무침', '참치김치볶음'], ['쌀밥/잡곡밥', '순대국밥', '고추튀김', '오이&당근*쌈장', '부추무침/살구복숭아주스', '포기김치'], ['쌀밥/잡곡밥', '미역국', '오리불고기', '백김치', '간장깻잎지/음료', '포기김치'], ['쌀밥/잡곡밥', '꽃게된장국', '후르츠탕수육', '두부양념조림', '유채나물무침', '포기김치'], ['낙지비빔밥', '계란국', '닭강정', '셀프무쌈말이', '짜요짜요', '포기김치'], ['쌀밥/잡곡밥', '두부김치국', '소고기브로컬리볶음', '시금치부침개', '영양부추생채', '배추겉절이'], ['고기듬뿍카레라이스', '미니우동', '고구마고로케', '오렌지자몽샐러드', '실곤약무침', '포기김치'], ['쌀밥/잡곡밥', '아욱국', '치즈닭갈비', '참치야채샐러드', '숙주나물', '고구마치즈빵,오렌지', '포기김치'], ['쌀밥/잡곡밥', '홍초콩나물국', 'LA갈비구이', '주꾸미세비체샐러드', '새우튀김', '참나물땅콩가루무침', '청포도', '열무김치'], ['쌀밥/잡곡밥', '전복장각삼계탕', '육전', '해물잡채', '얼갈이겉절이', '포기김치'], ['쌀밥/잡곡밥', '소고기당면국', '바질페스토스파게티', '연어스테이크', '머위된장무침', '비트무피클', '포기김치'], ['쌀밥/잡곡밥', '황태국', '우엉불고기', '야채계란말이', '카프레제샐러드', '오이사과생채', '포기김치'], ['쌀밥/잡곡밥', '멸치국수', '오향장육', '꼬막미나리초무침', '베리베리샐러드', '양배추,케일*우렁쌈장', '식혜', '깍두기'], ['쌀밥/잡곡밥', '나주곰탕', '춘천닭갈비', '황태포무침', '단호박견과류구이', '가지나물무침', '오미자주스', '배추겉절이'], ['쌀밥/잡곡밥', '새우완자탕', '고구마치즈돈까스', '해물볶음우동', '연어훈제샐러드', '두릅새송이초무침', '자몽에이드', '알타리김치'], ['쌀밥/잡곡밥', '대구지리탕', '카레닭볶음', '모듬소세지버섯구이', '그린샐러드', '문어오이미역초무침', '요거트드링킹', '포기김치'], ['쌀밥/잡곡밥', '육개장', '수원왕갈비', '브로콜리새송이메추리알조림', '양파호박채나물', '홍삼,크란치바', '열무김치'], ['건강비빔밥*약고추장', '제첩두부국', '깻잎전', '황태채마늘쫑무침', '배추겉절이', '*잔반없는날*', '이벤트행사'], ['새우날치알볶음밥', '쌀국수(숙주들어감)', '장어구이*소스', '춘권튀김*칠리드레질', '오이무초무침', '망고,복숭아아이스티', '배추김치'], ['쌀밥/잡곡밥', '버섯들깨국', '삼겹살더덕고추장구이', '곰취,명이나물-장아찌', '콩나물부추무침', '청,적포도,오렌지주스', '배추김치'], ['쌀밥/잡곡밥', '왕갈비탕', '해물전', '쫄면야채무침', '꼬시래기무초무침', '황도샐러드,포도주스', '석박지', '고추가루:중국산)'], ['쌀밥/잡곡밥', '냉메밀소바', '히레카츠*소스', '견과류연근조림', '양배추채무침', '과일,프로바이오틱', '포기김치'], ['쌀밥/잡곡밥', '아욱수제비국', '해물섞어찜', '크레미계란말이', '통오이고추무침', '치커리유자샐러드,알로에주스', '깍두기', '고추가루:중국산)'], ['쌀밥/잡곡밥', '돈육김치찌개', '냉족발야채무침', '두부참치조림', '새송이*가지구이/양념', '사과,마시는요거트', '백김치'], ['쌀밥/잡곡밥', '열무물국수', '소갈비찜', '오징어링,새우튀김', '호박숙*양념장', '꽃맛살과일샐러드', '포기김치'], ['쌀밥/잡곡밥', '닭개장', '떡갈비', '골뱅이야채무침', '감자채볶음', '인절미츄러스맛탕,배즙', '포기김치'], ['소고기콩나물밥*양념', '들깨미역국', '바싹불고기*양파초절임', '야채스틱*견과쌈장', '고추장누들떡볶이', '파인애플,요플레', '포기김치'], ['쌀밥/잡곡밥', '유부주머니된장국', '생선까스*타르', '블랙페퍼쉬림프', '꽈리고추찹쌀무침', '해초샐러드,사과즙', '포기김치'], ['쌀밥/잡곡밥', '연두부탕', '제육볶음', '시금치프리타타', '모듬쌈*쌈장', '포기김치'], ['쌀밥/잡곡밥', '들깨수제비', '닭볶음탕', '도토리묵무침', '명엽채볶음', '포기김치'], ['닭살카레라이스', '미역미소시루', '후르츠탕수육', '비빔메밀면', '견과류멸치볶음', '포기김치'], ['쌀밥/잡곡밥', '차돌된장찌개', '주꾸미볶음', '두부스테이크', '청경채만다린생채', '포기김치'], ['소불고기덮밥', '맑은국', '야채비빔만두', '어묵볶음', '땅콩조림', '배추겉절이'], ['쌀밥/잡곡밥', '매콤콩나물국', '짬뽕불고기', '연두부*장', '쫑상추무침', '포기김치'], ['쌀밥/잡곡밥', '시래기국', '고추잡채*꽃빵', '동그랑땡구이', '청경채겉절이', '포기김치'], ['곤드레밥*양념장', '무채국', '꽁치한마리구이', '만두탕수육', '쨔샤이무침', '열무김치'], ['쌀밥/잡곡밥', '콩비지찌개', '오징어볶음', '옥수수계란찜', '간장깻잎지', '깍두기'], ['마파두부덮밥', '유부장국', '레몬유린기', '두릅소고기샐러드', '오이지무침', '배추겉절이'], ['쌀밥/잡곡밥', '소고기미역국', '닭갈비', '콩나물잡채', '셀프무쌈말이', '포기김치'], ['쌀밥/잡곡밥', '된장찌개', '돈육고추장볶음', '사각어묵무침', '모듬야채쌈', '포기김치'], ['열무보리비빔밥/강된장', '가쯔오장국', '깐풍육', '시저샐러드', '매실짱아찌', '포기김치'], ['쌀밥/잡곡밥', '육개장', '소고기장조림', '녹두전', '비름나물', '포기김치'], ['베이컨김치볶음밥', '냉모밀국수', '해물부추전', '야채고로케', '수박', '깍두기'], ['쌀밥/잡곡밥', '대구탕', '오삼불고기', '해물동그랑땡', '오이무침', '요구르트', '포기김치'], ['쌀밥/잡곡밥', '시금치된장국', '닭볶음탕', '두부구이*양념장', '미역줄기볶음', '포기김치'], ['나물비빔밥', '오이사과냉국', '치킨핑거', '맛살떡샐러드', '깻잎순무침', '요구르트', '포기김치'], ['쌀밥/잡곡밥', '매운소고기국', '굴비구이', '토마토프리타타', '도라지오이무침', '배추겉절이'], ['돈육버섯고추장덮밥', '팽이무국', '양파링카레튀김', '모듬어묵볶음', '참나물생채', '요구르트', '포기김치'], ['쌀밥/잡곡밥', '냉모밀국수', '매운돈갈비찜', '메밀전병*간장', '고구마순볶음', '포기김치', '양상추샐러드*딸기요거트'], ['쌀밥/잡곡밥', '대파육개장', '홍어미나리초무침', '어묵잡채', '콩자반', '배추겉절이', '양상추샐러드*오리엔탈'], ['카레라이스', '동태알탕', '부추고추전*간장', '쫄면야채무침', '과일요거트샐러드', '포기김치', '요구르트'], ['쌀밥/잡곡밥', '매운소고기무국', '춘천닭갈비', '옥수수계란찜', '감자채파프리카볶음', '포기김치', '양상추샐러드*흑임자드레싱'], ['쌀밥/잡곡밥', '물만두국', '오리불고기', '콩나물맛살냉채', '양배추숙쌈&쌈장', '포기김치', '그린샐러드*오렌지드레싱/핫도그'], ['쌀밥/잡곡밥', '한방설렁탕', '오징어초무침', '채소스틱&쌈장', '통들깨부추무침', '석박지', '매실음료/콩자반'], ['쌀밥/잡곡밥', '시금치된장국', '닭볶음탕', '건새우호박채전', '도라지오이초무침', '포기김치', '시저샐러드*시저드레싱'], ['쌀밥/잡곡밥', '맑은콩나물국', '돈육고추장볶음', '쌈채소&쌈장', '무채와사비무침/콩자반', '포기김치', '양상추샐러드/마카로니샐러드'], ['마파두부덮밥', '미역미소시루', '레몬유린기', '만두찜*간장', '숙주미나리무침', '포기김치', '양상추샐러드*요거트D'], ['쌀밥/잡곡밥', '건새우무채국', '쭈꾸미삼겹고추장볶음', '두부커틀렛*칠리', '쫑상추무침', '포기김치', '비타민흑임자샐러드*흑임자D'], ['비빔밥*약고추장', '콩가루배춧국', '열기어구이', '도토리묵*양념간장', '무말랭이무침', '포기김치', '치커리만다린샐러드*오렌지D'], ['쌀밥/잡곡밥', '장각삼계탕', '해물잡채', '가지찜', '아삭고추쌈장무침', '배추겉절이', '양상추샐러드*망고D'], ['쌀밥/잡곡밥', '김치우동', '수제돈가스*소스', '호박새우젓볶음', '깍둑오이초무침', '석박지', '양배추샐러드*사우전D'], ['쌀밥/흑미밥/찰현미밥', '호박맑은국', '돈육김치볶음', '두부맛전', '모둠채소무침', '포기김치', '양상추샐러드*망고D'], ['쌀밥/치자밥/찰현미밥', '닭개장', '양장피', '꽃맛살샐러드', '브로콜리숙회*초장', '포기김치', '그린샐러드*키위D/타래과'], ['쌀밥/흑미밥/찰현미밥', '아욱국', '오리불고기', '고등어카레구이', '매운콩나물무침', '오이소배기', '로스트치킨샐러드*오리엔탈D'], ['쌀밥/병아리콩밥/찰현미밥', '소고기미역국', '깻잎통닭*치킨소스', '김치전', '치킨무/콘슬로우', '포기김치', '새싹샐러드*오렌지D'], ['쌀밥/흑미밥/찰현미밥', '해물수제비국', '만가닥버섯불고기', '실곤약냉채', '열무나물', '포기김치', '양배추샐러드*요플레D'], ['쌀밥/흑미밥/찰현미밥', '황태미역국', '안동찜닭', '토마토스크램블', '얼갈이나물', '포기김치', '양상추샐러드*유자청D'], ['쌀밥/기장밥/찰현미밥', '호박된장찌개', '목살스테이크', '가자미엿장구이', '꽈리고추감자조림', '포기김치', '토마토샐러드*발사믹D'], ['쌀밥/흑미밥/찰현미밥', '우거지국', '삼겹살수육', '모둠쌈*쌈장', '풋고추/마늘*새우젓', '부추무침/보쌈김치/수박화채', '그린샐러드*참깨D'], ['낙지비빔밥*계란후라이', '팽이장국', '후라이드*강정소스', '미나리초무침', '브로콜리깨소스무침', '포기김치', '그린샐러드*매실D'], ['쌀밥/흑미밥/찰현미밥', '짜글이돼지찌개', '새우까스*소스', '어묵고추장떡', '마늘종숙회', '포기김치', '양배추샐러드*딸기요거트D'], ['쌀밥/흑미밥/찰현미밥', '김치두부국', '오리대패불고기', '골뱅이채소무침', '열무나물', '포기김치', '양상추샐러드*사우전D'], ['쌀밥/수수밥/찰현미밥', '냉이된장국', '돈갈비찜', '오징어튀김*초간장', '삼색콜리*초고추장', '포기김치', '견과류샐러드*땅콩D'], ['쌀밥/흑미밥/찰현미밥', '맑은콩나물국', '장어강정', '꽈리고추메추리알조림', '오이양파무침', '배추겉절이/탱크보이', '눈꽃치즈샐러드*오리엔탈D'], ['쌀밥/검정콩밥/찰현미밥', '건새우아욱국', '쭈삼불고기', '분홍소시지전/새송이전', '파프리카해초무침', '포기김치/찐옥수수', '콜리샐러드*발사믹D'], ['쌀밥/흑미밥/찰현미밥', '얼갈이된장국', '닭다리바베큐오븐구이', '아귀순살찜', '유부채소겨자냉채', '포기김치', '시리얼샐러드*요플레D'], ['쌀밥/흑미밥/찰현미밥', '뼈없는감자탕', '생선까스&소스', '해파리무침', '근대나물', '포기김치', '양상추샐러드*파인애플D'], ['쌀밥/렌틸콩밥/찰현미밥', '떡국', '매운쇠고기버섯볶음', '양배추/케일숙쌈*양념간장', '더덕무침', '포기김치/수떡수떡화채', '푸실리파스타샐러드'], ['쌀밥/흑미밥/찰현미밥', '북어채국', '오징어볶음&소면사리', '타꼬야끼', '청경채깨장나물', '열무김치', '그린샐러드*오리엔탈D'], ['쌀밥/차조밥/찰현미밥', '유부장국', '바베큐폭립', '부들어묵볶음', '참나물두부무침', '포기김치', '황도샐러드*밀감D'], ['쌀밥/흑미밥/찰현미밥', '동태탕', '살살치킨&칠리소스', '브로콜리버섯볶음', '부추와사비무침', '포기김치', '사과푸딩샐러드*요플레D'], ['쌀밥/보리밥/찰현미밥', '부대찌개', '치즈닭갈비', '단호박/김말이튀김', '상추무침*양념장', '포기김치', '나쵸콥샐러드*토마토살사소스'], ['쌀밥/흑미밥/찰현미밥', '맑은버섯육개장', '매콤해물볶음', '채소계란말이', '고구마순무침', '깍두기', '그린샐러드*참깨D'], ['쌀밥/흑미밥/찰현미밥', '순남시래기국', '오리불고기', '갈릭버섯탕수', '검은깨올방개묵무침', '포기김치/츄러스', '마카로니콘샐러드'], ['쌀밥/흑미밥/찰현미밥', '어묵국', '오향장육', '모둠쌈*씨앗쌈장', '고추지무침', '김치볶음/요구르트', '크루통샐러드*참깨D'], ['쌀밥/흑미밥/찰현미밥', '바지락미역국', '콩나물두루치기', '버섯메추리알장조림', '더덕오이생채', '포기김치', '양상추샐러드*매실D'], ['쌀밥/수수밥/찰현미밥', '시금치된장국', '카레닭찜', '김치빈대떡', '고구마순볶음', '포기김치', '시리얼&요거트'], ['쌀밥/흑미밥/찰현미밥', '나주곰탕', '적어구이&양념장', '한식잡채', '얼갈이나물', '석박지', '그린샐러드*오리엔탈D'], ['쌀밥/검정콩밥/찰현미밥', '다슬기아욱국', '돈사태김치찜', '닭살겨자냉채', '삼색유자청무침', '열무김치', '모닝샌드/요구르트'], ['쌀밥/흑미밥/찰현미밥', '순두부찌개', '소불고기', '코다리강정', '노각생채', '포기김치', '견과류샐러드*딸기D'], ['쌀밥/흑미밥/찰현미밥', '황태콩나물해장국', '시금치프리타타', '가지고추장무침', '포기김치/요구르트', '양상추샐러드*석류D'], ['쌀밥/기장밥/찰현미밥', '우거지국', '매콤돼지갈비찜', '삼색만두채소무침', '호박채나물볶음', '포기김치/우무콩국', '황도샐러드*황도D'], ['쌀밥/흑미밥/찰현미밥', '냉족발야채무침', '부추샐러드*오리엔탈', '포기김치/바나나', '꽃맛살샐러드'], ['쌀밥/찰보리밥/찰현미밥', '매운계란파국', '마파두부', '치킨핑거', '쫄면채소무침', '열무김치', '그린샐러드*요거트D'], ['쌀밥/흑미밥/찰현미밥', '옹심이만두국', '대패삽겹숙주볶음', '오징어초무침', '양배추숙쌈', '포기김치/딸기푸딩', '양상추샐러드*딸기D'], ['쌀밥/흑미밥/찰현미밥', '아욱된장국', '생선까스*소스', '마카로니치즈범벅', '오이사과무침', '포기김치/나쵸칩', '양상추샐러드*요거트D'], ['계란채소볶음밥', '짬뽕국', '짜장소스', '군만두*장', '취나물쌈장무침', '포기김치/열대과일', '양상추샐러드*망고D'], ['쌀밥/흑미밥/찰현미밥', '홍합살미역국', '수육*새우젓*쌈장', '매콤볼어묵볶음', '와사비무쌈', '포기김치', '양상추샐러드*키위D'], ['쌀밥/수수밥/찰현미밥', '돈육김치찌개', '수완왕갈비맛통닭', '콩나물볶음', '미나리초장무침', '포기김치', '그린샐러드*살구D'], ['쌀밥/흑미밥/찰현미밥', '잔치국수', '순대채소볶음', '참나물두부무침', '알타리김치', '양상추샐러드*참깨D'], ['쌀밥/흑미밥/찰현미밥', '배추국', '오리고추장불고기', '모둠쌈*쌈장', '미트볼채소볶음', '포기김치/사과나무주스', '양상추샐러드*오리엔탈D'], ['쌀밥/귀리밥/찰현미밥', '순두부찌개', '류산슬', '가자미엿장구이', '오이양파무침', '포기김치/햇고구마오븐구이', '견과류샐러드*땅콩D'], ['쌀밥/흑미밥/찰현미밥', '유부장국', '목살찹스테이크', '할라피뇨채소피클', '포기김치', '양상추샐러드*석류D'], ['쌀밥/흑미밥/찰현미밥', '감자수제비국', '쇠고기낙지볶음', '건새우호박볶음', '포기김치', '양상추샐러드*매실D'], ['쌀밥/병아리콩/찰현미밥', '버섯국', '비엔나떡조림', '통도라지고추장구이', '포기김치', '시리얼샐러드*요거트D'], ['쌀밥/흑미밥/찰현미밥', '옹심이만둣국', '춘천닭갈비', '주꾸미브로콜리숙회', '청경채겉절이', '포기김치/딸기푸딩', '양상추샐러드*딸기D'], ['쌀밥/수수밥/찰현미밥', '매운콩나물국', '돈갈비찜', '김말이강정', '참나물무침', '포기김치', '과일샐러드'], ['쌀밥/흑미밥/찰현미밥', '갈비탕', '오향장육', '한식잡채', '부추고추장무침', '석박지', '양상추샐러드*오리엔탈D'], ['쌀밥/찰보리밥/찰현미밥', '북엇국', '콩나물파채불고기', '해물파전', '실곤약야채무침', '겉절이김치/나쵸칩', '그린샐러드*요거트D'], ['쌀밥/흑미밥/찰현미밥', '동태탕', '닭다리살스테이크', '고구마순볶음', '감자조림', '포기김치', '황도샐러드*황도D'], ['쌀밥/흑미밥/찰현미밥', '떡만두국', '오리대패불고기', '꽁치캔김치조림', '파프리카해초무침', '포기김치/사과/식혜', '양상추샐러드*딸기D'], ['쌀밥/흑미밥/찰현미밥', '건새우미역국', '매운소불고기', '춘권튀김*칠리소스', '쫄면채소무침', '포기김치', '양상추샐러드*오미자D'], ['단호박카레라이스', '통계란꼬치어묵탕', '두부강정', '고추장누들떡볶이', '치커리무침', '열무김치', '요거트파르페'], ['쌀밥/흑미밥/찰현미밥', '꽃게탕', '바베큐장각오븐구이', '버섯초무침', '파프리카감자채볶음', '포기김치/인절미', '시금치샐러드*오리엔탈D'], ['쌀밥/렌틸콩밥/찰현미밥', '우거지된장국', '닭살겨자냉채', '부추무침', '총각김치', '양상추샐러드*살구D'], ['쌀밥/흑미밥/찰현미밥', '김칫국', '훈제오리볶음', '오이볶음', '시금치고추장나물', '포기김치/찹쌀호떡', '양상추샐러드*매실D'], ['쌀밥/수수밥/찰현미밥', '순남시래기국', '장어고추장양념구이', '알배기/깻잎/생강채*쌈장', '청양부추전', '포기김치/배도라지주스', '양상추샐러드*파인애플D'], ['쌀밥/흑미밥/찰현미밥', '두부된장찌개', '츄러스채소맛탕', '도라지나물볶음', '겉절이김치', '만다린샐러드*오렌지D'], ['쌀밥/흑미밥/찰현미밥', '홍합살무국', '돈갈비양념구이', '두반장가지볶음', '청경채무침', '시리얼샐러드*요거트D'], ['쌀밥/흑미밥/찰현미밥', '매운쇠고기국', '갈릭순살치킨', '임연수무조림', '브로콜리쌈장무침', '열무김치', '양상추샐러드*오리엔탈D'], ['쌀밥/흑미밥/찰현미밥', '얼갈이된장국', '쭈꾸미삼겹살볶음', '단호박어묵탕수', '쌈추/와사비무쌈*쌈장', '포기김치/푸딩', '양상추샐러드*딸기D'], ['쌀밥/찰보리밥/찰현미밥', '유부김칫국', '치킨까스&소스', '아귀콩나물찜', '연근유자피클', '포기김치/요플레', '크루통샐러드*오리엔탈D'], ['쌀밥/흑미밥/찰현미밥', '미역미소시루국', '차돌비빔국수', '토마토계란볶음', '쌈추겉절이/핫도그', '양상추샐러드*키위D'], ['쌀밥/', '곤드레밥/찰현미밥', '된장찌개', '돼지고추장불고기', '버섯잡채', '삼색물만두무침', '겉절이김치/양념장', '견과류샐러드*요거트D'], ['쌀밥/흑미밥/찰현미밥', '북엇국', '춘천닭갈비', '건새우호박채전', '오이생채', '포기김치', '양상추샐러드*오렌지D'], ['쌀밥/흑미밥/찰현미밥', '맑은콩나물국', '묵은지닭볶음탕', '생선까스&타르타르소스', '브로콜리숙회', '포기김치/요구르트', '양상추샐러드*매실D'], ['쌀밥/기장밥/찰현미밥', '쇠고기미역국', '오삼불고기', '계란말이', '유부채소겨자무침', '포기김치', '감자고구마샐러드'], ['쌀밥/흑미밥/찰현미밥', '삼계탕', '고기완자전', '방풍나물', '채소스틱&쌈장/석박지', '양상추샐러드*유자D'], ['쌀밥/차조밥/찰현미밥', '깐풍기', '감자채볶음', '도토리묵*양념장', '겉절이김치/단감', '양상추샐러드*망고D'], ['쌀밥/흑미밥/찰현미밥', '건새우아욱국', '쇠고기숙주볶음', '적어양념장구이', '통들깨부추무침', '무생채', '양상추샐러드*오리엔탈D'], ['쌀밥/흑미밥/찰현미밥', '돼지김치찌개', '당면채소무침', '얼갈이나물', '포기김치/고구마오븐구이', '양상추샐러드*밀감D'], ['쌀밥/수수밥/찰현미밥', '동태매운탕', '대패삼겹살볶음', '어묵고추장볶음', '상추/쑥갓쌈&쌈장', '포기김치', '양상추샐러드*자몽D'], ['전주비빔밥', '바지락냉이국', '찰떡떡갈비조림', '모둠버섯볶음', '겉절이김치/(New)수제사과계피차', '양상추샐러드*딸기D'], ['쌀밥/완두콩밥/찰현미밥', '홍합국', '쇠고기낙지볶음', '과일그라탕', '물미역*초장', '알타리김치', '양상추샐러드*오리엔탈D'], ['쌀밥/흑미밥/찰현미밥', '근대된장국', '수제탕수육', '매콤해물볶음', '치커리오이무침', '포기김치', '양상추샐러드*참깨D'], ['쌀밥/흑미밥/찰현미밥', '아욱된장국', '매운족발볶음', '해물까스*타르타르소스', '돌나물유자청무침/포기김치', '양상추샐러드*매실D'], ['쌀밥/귀리밥/찰현미밥', '미역국', '동파육', '청경채/버섯숙회*초장', '도라지볶음', '겉절이김치/꽈배기도넛', '양상추샐러드*포도D'], ['쌀밥/흑미밥/찰현미밥', '한방설렁탕', '골뱅이채소무침', '개성식메밀부침개', '참나물무침', '석박지/귤', '양상추샐러드*오미자D'], ['쌀밥/수수밥/찰현미밥', '북엇국', '해물돼지갈비찜', '타꼬야끼', '숙주미나리무침', '갓김치', '양상추샐러드*만다린D'], ['쌀밥/흑미밥/찰현미밥', '시금치된장국', '안동찜닭', '수제두부까스&하이소스', '톳무침', '포기김치/나쵸', '양상추샐러드*요거트D'], ['쌀밥/흑미밥/찰현미밥', '호박된장찌개', '오리주물럭', '메추리알탕수', '부추양파무침', '포기김치/바나나', '양상추샐러드*망고D'], ['쌀밥/찰보리밥/찰현미밥', '미소장국', '알리오올리오파스타', '두부고기양념찜', '해파리냉채', '겉절이김치/미니버거', '양상추샐러드*딸기D'], ['쌀밥/흑미밥/찰현미밥', '순두부찌개', 'New)요거닭', '비엔나채소볶음', '오이쑥갓생채', '포기김치/라면땅', '양상추샐러드*매실D'], ['쌀밥/검정콩밥/찰현미밥', '얼갈이된장국', '쇠고기당면볶음', '가자미유린기', '물미역*초장', '포기김치', '양상추샐러드*오리엔탈D'], ['쌀밥/흑미밥/찰현미밥', '황태채국', '제육고추장불고기', '쌈추/깻잎*쌈장', '콩나물파채무침', '포기김치', '황도샐러드*황도D'], ['쌀밥/흑미밥/찰현미밥', '어묵매운탕', '등심돈까스', '솎음열무나물', '포기김치/홍시', '양상추샐러드*자몽D'], ['쌀밥/차조밥/찰현미밥', '불낙찌개', '코다리강정', '시금치나물', '포기김치', '크루통샐러드*딸기D'], ['쌀밥/흑미밥/찰현미밥', '콩비지김치찌개', '해물누룽지탕', '탕평채', '고추장감자조림', '깍두기/수제과일잼샌드', '양상추샐러드*요거트D'], ['쌀밥/강낭콩밥/찰현미밥', '조갯살아욱국', '돼지간장불고기', '취나물무침', '겉절이김치', '양상추샐러드*오리엔탈D'], ['쌀밥/흑미밥/찰현미밥', '팽이된장국', '오징어볶음', '고기완자전*케찹', '이연복의', '청경채찜', '포기김치', '양상추샐러드*키위D'], ['쌀밥/흑미밥/찰현미밥', '굴미역국', '닭간장조림', '스팸계란전', '쑥갓나물', '포기김치/붕어빵', '눈꽃치즈샐러드*감귤D'], ['쌀밥/찰보리밥/찰현미밥', '김치두부국', 'LA갈비구이', '한식잡채', '삼색유자청무침', '포기김치/오프룻요거트', '펜네파스타샐러드/축하떡'], ['(쌀밥/찰현미밥)', '팽이장국', '메밀전병', '채소프리타타', '산고추지무침/겉절이김치', '양상추샐러드*매실D'], ['쌀밥/팥밥/찰현미밥', '된장찌개', '오향장육', '더덕구이', '양배추/다시마쌈*씨앗쌈장', '포기김치', '양상추샐러드*발사믹D'], ['쌀밥/흑미밥/찰현미밥', '육개장', '갈치감자조림', '톳두부무침', '포기김치', '양상추샐러드*파인D'], ['쌀밥/흑미밥/찰현미밥', '유부주머니국', '삼겹살김치볶음', '두부구이', '어묵간장조림', '포기김치/귤', '양상추샐러드*오미지D'], ['쌀밥/기장밥/찰현미밥', '우거지국', '훈제오리마늘볶음', '아귀콩나물찜', '봄동나물', '포기김치/꿀호떡', '양상추샐러드*요거트D'], ['쌀밥/흑미밥/찰현미밥', '호박고추장찌개', '만가닥버섯불고기', '치즈계란찜', '크래미해초무침', '겉절이김치', '양상추샐러드*딸기D'], ['쌀밥/수수밥/찰현미밥', '북엇국', '제육고추장불고기', '고등어카레구이', '알배기/상추*쌈장', '깍두기', '양상추샐러드*오리엔탈D'], ['쌀밥/흑미밥/찰현미밥', '근대국', '닭다리살스테이크', '단호박채소전', '진미채오이무침', '포기김치', '양상추샐러드*망고D'], ['쌀밥/흑미밥/찰현미밥', '(New)캔꽁치튀김', '쫄면채소무침', '풋고추양파쌈장무침', '석박지/청포도주스', '양상추샐러드*키위요거트D'], ['쌀밥/차조밥/찰현미밥', '굴떡국', '콩나물파채불고기', '쌈배추/양상추*쌈장', '건취나물볶음', '포기김치', '과일샐러드'], ['쌀밥/흑미밥/찰현미밥', '해물완자전', '가자미무조림', '시금치나물', '겉절이김치', '황도샐러드*황도D'], ['쌀밥/흑미밥/찰현미밥', '(New)탄두리치킨', '문어꽈리고추조림', '세발나물무침', '오이소박이', '그린샐러드*오리엔탈D'], ['쌀밥/흑미밥/찰현미밥', '동태알탕', '수제돈까스&소스', '청양고추계란말이', '달래무침', '포기김치', '양배추샐러드*사우전D'], ['쌀밥/흑미밥/찰현미밥', '바지락살무국', '오삼불고기', '소고기잡채', '유채나물무침', '포기김치/새알팥죽', '양상추샐러드*매실D'], ['쌀밥/차조밥/찰현미밥', '매운쇠고기샤브샤브', '하와이언함박스테이크', '토마토두부카프레제', '냉이나물무침', '봄동겉절이/마늘바게트', '양상추샐러드*시저D'], ['쌀밥/흑미밥/찰현미밥', '건새우아욱국', '(New)파프리카계란전', '마파무조림', '포기김치', '양상추샐러드*요거트D'], ['호박된장국', '오리대패불고기', '고등어김치말이찜', '파래김', '깍두기', '양상추샐러드*자몽D'], ['쌀밥/흑미밥/찰현미밥', '소고기떡국', '봉추찜닭', '오미산적/동태전', '콩나물잡채', '포기김치/식혜', '양상추샐러드*요거트감귤D'], ['쌀밥/보리밥/찰현미밥', '유부된장국', '돈육도라지고추장볶음', '과일그라탕', '봄동숙*간장양념', '콩샐러드/포기김치', '양상추샐러드*키위D'], ['쌀밥/흑미밥/찰현미밥', '오리들깨탕', '꽁치한마리레몬구이', '파프리카계란말이', '아삭이고추된장무침', '배추겉절이/미니핫도그', '양상추샐러드*오리엔탈D'], ['쌀밥/수수밥/찰현미밥', '아욱된장국', '목살스테이크', '참치채소볶음', '무쌈채소말이', '포기김치', '양상추샐러드*황도D'], ['쌀밥/흑미밥/찰현미밥', '콩나물맑은국', '매운소고기낙지볶음', '메추리알짜장떡볶이', '양배추쌈*쌈장', '포기김치', '양상추샐러드*오렌지D'], ['쌀밥/흑미밥/찰현미밥', '미역국', '오리대패불고기', '옥수수계란찜', '쪽파무침', '포기김치', '양상추샐러드*망고D'], ['쌀밥/검정콩밥/찰현미밥', '된장찌개', '콩나물볶음', '쑥갓나물', '포기김치', '버블샐러드*D오리엔탈D'], ['쌀밥/흑미밥/찰현미밥', '시금치된장국', '돈육두루치기', '타코야끼', '상추쌈', '겉절이김치', '양상추샐러드*흑임자D'], ['쌀밥/차조밥/찰현미밥', '콩나물김칫국', '소갈비찜', '두부까스*칠리소스', '매운호박볶음', '포기김치', '지중해샐러드'], ['쌀밥/흑미밥/찰현미밥', '뼈없는감자탕', '고등어구이*와사비장', '채소스틱*쌈장', '솎음열무나물', '석박지', '양상추샐러드*딸기D'], ['쌀밥/흑미밥/찰현미밥', '어묵국', '춘천닭갈비', '감자채카레볶음', '청경채나물', '포기김치/바나나', '그린샐러드*매실D'], ['쌀밥/기장밥/찰현미밥', '맑은콩나물국', '삼겹살김치찜', '떡잡채', '치커리오이무침', '포기김치', '그린샐러드*키위요거트D'], ['쌀밥/흑미밥/찰현미밥', '아욱국', '수제함박스테이크', '견과류마카로니범벅', '생깻잎지', '단호박물김치', '양상추샐러드*오리엔탈D'], ['쌀밥/수수밥/찰현미밥', '냉이된장국', '동파육', '봄동전', '청경채/버섯숙회*초장', '무생채', '양상추샐러드*파인D'], ['전주비빔밥*약고추장', '계란파국', '요거닭', '올방개묵무침', '파프리카해초무침', '포기김치', '양상추샐러드*자몽D'], ['쌀밥/흑미밥/찰현미밥', '전주식콩나물해장국', '돈육간장불고기', '깐풍연근', '연두부*달래양념장', '봄동겉절이/양념김', '양상추샐러드*오렌지D'], ['쌀밥/귀리밥/찰현미밥', '들깨미역국', '교촌간장치킨', '옥수수콘치즈구이', '가지고추장무침', '포기김치/요구르트', '양배추샐러드*사우전D']]\n"
     ]
    }
   ],
   "source": [
    "lunch = []\n",
    "for i in range(len(train)):\n",
    "    temp = train.loc[i,'ln'].split(' ')\n",
    "    temp = ' '.join(temp).split()  \n",
    "    \n",
    "    search = '('   # 원산지 정보는 삭제\n",
    "    for menu in temp:\n",
    "        if search in menu:\n",
    "            temp.remove(menu)\n",
    "    \n",
    "    lunch.append(temp) \n",
    "print(lunch)"
   ]
  },
  {
   "cell_type": "code",
   "execution_count": 117,
   "metadata": {},
   "outputs": [],
   "source": [
    "# lunch train data에 메뉴명별 칼럼 만들기 (밥, 국, 반찬1-3)\n",
    "bob = []; gook = []; banchan1 = []; banchan2 = []; banchan3 = []; kimchi = []; side = []\n",
    "for i, day_menu in enumerate(lunch):\n",
    "    bob_tmp = day_menu[0]; bob.append(bob_tmp)\n",
    "    gook_tmp = day_menu[1]; gook.append(gook_tmp)\n",
    "    banchan1_tmp = day_menu[2]; banchan1.append(banchan1_tmp)\n",
    "    banchan2_tmp = day_menu[3]; banchan2.append(banchan2_tmp)\n",
    "    banchan3_tmp = day_menu[4]; banchan3.append(banchan3_tmp)\n",
    "\n",
    "    if i < 1067:\n",
    "        kimchi_tmp = day_menu[-1]; kimchi.append(kimchi_tmp)\n",
    "        side_tmp = day_menu[-2]; side.append(side_tmp)\n",
    "    else: \n",
    "        kimchi_tmp = day_menu[-2]; kimchi.append(kimchi_tmp)\n",
    "        side_tmp  = day_menu[-1]; side.append(side_tmp)\n",
    "\n",
    "train_ln = train[['date', 'dow', 'employees', 'dayoff', 'bustrip', 'ovtime', 'remote', 'ln', 'target_ln']]\n",
    "train_ln['bob'] = bob\n",
    "train_ln['gook'] = gook\n",
    "train_ln['banchan1'] = banchan1; train_ln['banchan2'] = banchan2; train_ln['banchan3'] = banchan3\n",
    "train_ln['kimchi'] = kimchi \n",
    "train_ln['side'] = side"
   ]
  },
  {
   "cell_type": "code",
   "execution_count": 107,
   "metadata": {},
   "outputs": [
    {
     "data": {
      "text/html": [
       "<div>\n",
       "<style scoped>\n",
       "    .dataframe tbody tr th:only-of-type {\n",
       "        vertical-align: middle;\n",
       "    }\n",
       "\n",
       "    .dataframe tbody tr th {\n",
       "        vertical-align: top;\n",
       "    }\n",
       "\n",
       "    .dataframe thead th {\n",
       "        text-align: right;\n",
       "    }\n",
       "</style>\n",
       "<table border=\"1\" class=\"dataframe\">\n",
       "  <thead>\n",
       "    <tr style=\"text-align: right;\">\n",
       "      <th></th>\n",
       "      <th>date</th>\n",
       "      <th>dow</th>\n",
       "      <th>employees</th>\n",
       "      <th>dayoff</th>\n",
       "      <th>bustrip</th>\n",
       "      <th>ovtime</th>\n",
       "      <th>remote</th>\n",
       "      <th>ln</th>\n",
       "      <th>target_ln</th>\n",
       "      <th>bob</th>\n",
       "      <th>gook</th>\n",
       "      <th>banchan1</th>\n",
       "      <th>banchan2</th>\n",
       "      <th>banchan3</th>\n",
       "      <th>kimchi</th>\n",
       "      <th>side</th>\n",
       "    </tr>\n",
       "  </thead>\n",
       "  <tbody>\n",
       "    <tr>\n",
       "      <th>0</th>\n",
       "      <td>2016-02-01</td>\n",
       "      <td>월</td>\n",
       "      <td>2601</td>\n",
       "      <td>50</td>\n",
       "      <td>150</td>\n",
       "      <td>238</td>\n",
       "      <td>0.0</td>\n",
       "      <td>쌀밥/잡곡밥 (쌀,현미흑미:국내산) 오징어찌개  쇠불고기 (쇠고기:호주산) 계란찜 ...</td>\n",
       "      <td>1039.0</td>\n",
       "      <td>쌀밥/잡곡밥</td>\n",
       "      <td>오징어찌개</td>\n",
       "      <td>쇠불고기</td>\n",
       "      <td>계란찜</td>\n",
       "      <td>청포묵무침</td>\n",
       "      <td>포기김치</td>\n",
       "      <td>요구르트</td>\n",
       "    </tr>\n",
       "    <tr>\n",
       "      <th>1</th>\n",
       "      <td>2016-02-02</td>\n",
       "      <td>화</td>\n",
       "      <td>2601</td>\n",
       "      <td>50</td>\n",
       "      <td>173</td>\n",
       "      <td>319</td>\n",
       "      <td>0.0</td>\n",
       "      <td>쌀밥/잡곡밥 (쌀,현미흑미:국내산) 김치찌개  가자미튀김  모둠소세지구이  마늘쫑무...</td>\n",
       "      <td>867.0</td>\n",
       "      <td>쌀밥/잡곡밥</td>\n",
       "      <td>김치찌개</td>\n",
       "      <td>가자미튀김</td>\n",
       "      <td>모둠소세지구이</td>\n",
       "      <td>마늘쫑무침</td>\n",
       "      <td>배추겉절이</td>\n",
       "      <td>요구르트</td>\n",
       "    </tr>\n",
       "  </tbody>\n",
       "</table>\n",
       "</div>"
      ],
      "text/plain": [
       "        date dow  employees  dayoff  bustrip  ovtime  remote  \\\n",
       "0 2016-02-01   월       2601      50      150     238     0.0   \n",
       "1 2016-02-02   화       2601      50      173     319     0.0   \n",
       "\n",
       "                                                  ln  target_ln     bob  \\\n",
       "0  쌀밥/잡곡밥 (쌀,현미흑미:국내산) 오징어찌개  쇠불고기 (쇠고기:호주산) 계란찜 ...     1039.0  쌀밥/잡곡밥   \n",
       "1  쌀밥/잡곡밥 (쌀,현미흑미:국내산) 김치찌개  가자미튀김  모둠소세지구이  마늘쫑무...      867.0  쌀밥/잡곡밥   \n",
       "\n",
       "    gook banchan1 banchan2 banchan3 kimchi  side  \n",
       "0  오징어찌개     쇠불고기      계란찜    청포묵무침   포기김치  요구르트  \n",
       "1   김치찌개    가자미튀김  모둠소세지구이    마늘쫑무침  배추겉절이  요구르트  "
      ]
     },
     "execution_count": 107,
     "metadata": {},
     "output_type": "execute_result"
    }
   ],
   "source": [
    "train_ln.head(2)"
   ]
  },
  {
   "cell_type": "code",
   "execution_count": 108,
   "metadata": {},
   "outputs": [
    {
     "data": {
      "text/plain": [
       "쌀밥/잡곡밥         879\n",
       "쌀밥/흑미밥/찰현미밥     74\n",
       "콩나물밥            23\n",
       "카레덮밥            18\n",
       "나물비빔밥           15\n",
       "              ... \n",
       "파인애플볶음밥          1\n",
       "새우날치알볶음밥         1\n",
       "산채비빔밥*강된장        1\n",
       "삼계탕              1\n",
       "쌀밥/팥밥/찰현미밥       1\n",
       "Name: bob, Length: 75, dtype: int64"
      ]
     },
     "execution_count": 108,
     "metadata": {},
     "output_type": "execute_result"
    }
   ],
   "source": [
    "train_ln['bob'].value_counts()"
   ]
  },
  {
   "cell_type": "code",
   "execution_count": 110,
   "metadata": {},
   "outputs": [
    {
     "data": {
      "text/plain": [
       "bob          \n",
       "쌀밥/잡곡밥           879\n",
       "쌀밥/흑미밥/찰현미밥       74\n",
       "쌀밥/수수밥/찰현미밥       10\n",
       "쌀밥/차조밥/찰현미밥        6\n",
       "쌀밥/찰보리밥/찰현미밥       5\n",
       "쌀밥/기장밥/찰현미밥        5\n",
       "쌀밥/오곡밥             4\n",
       "쌀밥/검정콩밥/찰현미밥       4\n",
       "쌀밥/귀리밥/찰현미밥        3\n",
       "쌀밥/보리밥/찰현미밥        2\n",
       "쌀밥/렌틸콩밥/찰현미밥       2\n",
       "김치볶음밥/계란           1\n",
       "쌀밥/                1\n",
       "쌀밥/강낭콩밥/찰현미밥       1\n",
       "열무보리비빔밥/강된장        1\n",
       "쌀밥/병아리콩/찰현미밥       1\n",
       "쌀밥/병아리콩밥/찰현미밥      1\n",
       "쌀밥/옛날돈까스           1\n",
       "쌀밥/완두콩밥/찰현미밥       1\n",
       "쌀밥/치자밥/찰현미밥        1\n",
       "쌀밥/팥밥/찰현미밥         1\n",
       "(쌀밥/찰현미밥)          1\n",
       "dtype: int64"
      ]
     },
     "execution_count": 110,
     "metadata": {},
     "output_type": "execute_result"
    }
   ],
   "source": [
    "train_ln.loc[train_ln['bob'].str.contains('/'),['bob']].value_counts()"
   ]
  },
  {
   "cell_type": "code",
   "execution_count": 118,
   "metadata": {},
   "outputs": [],
   "source": [
    "train_ln.loc[train_ln['bob'].str.contains('/'),['bob']]=1\n",
    "train_ln.loc[train_ln['bob']!=1,['bob']]=0"
   ]
  },
  {
   "cell_type": "code",
   "execution_count": 119,
   "metadata": {},
   "outputs": [
    {
     "name": "stdout",
     "output_type": "stream",
     "text": [
      "<class 'pandas.core.frame.DataFrame'>\n",
      "RangeIndex: 1205 entries, 0 to 1204\n",
      "Data columns (total 16 columns):\n",
      " #   Column     Non-Null Count  Dtype         \n",
      "---  ------     --------------  -----         \n",
      " 0   date       1205 non-null   datetime64[ns]\n",
      " 1   dow        1205 non-null   object        \n",
      " 2   employees  1205 non-null   int64         \n",
      " 3   dayoff     1205 non-null   int64         \n",
      " 4   bustrip    1205 non-null   int64         \n",
      " 5   ovtime     1205 non-null   int64         \n",
      " 6   remote     1205 non-null   float64       \n",
      " 7   ln         1205 non-null   object        \n",
      " 8   target_ln  1205 non-null   float64       \n",
      " 9   bob        1205 non-null   int32         \n",
      " 10  gook       1205 non-null   object        \n",
      " 11  banchan1   1205 non-null   object        \n",
      " 12  banchan2   1205 non-null   object        \n",
      " 13  banchan3   1205 non-null   object        \n",
      " 14  kimchi     1205 non-null   object        \n",
      " 15  side       1205 non-null   object        \n",
      "dtypes: datetime64[ns](1), float64(2), int32(1), int64(4), object(8)\n",
      "memory usage: 146.0+ KB\n"
     ]
    }
   ],
   "source": [
    "train_ln['bob']=train_ln['bob'].astype('int32')\n",
    "train_ln.info()"
   ]
  },
  {
   "cell_type": "code",
   "execution_count": 120,
   "metadata": {},
   "outputs": [
    {
     "data": {
      "text/plain": [
       "<AxesSubplot:>"
      ]
     },
     "execution_count": 120,
     "metadata": {},
     "output_type": "execute_result"
    },
    {
     "data": {
      "image/png": "[encoded data removed]",
      "text/plain": [
       "<Figure size 432x288 with 2 Axes>"
      ]
     },
     "metadata": {
      "needs_background": "light"
     },
     "output_type": "display_data"
    }
   ],
   "source": [
    "corr = train_ln.corr()\n",
    "sns.heatmap(corr)"
   ]
  },
  {
   "cell_type": "code",
   "execution_count": 95,
   "metadata": {},
   "outputs": [
    {
     "data": {
      "text/plain": [
       "맑은국         46\n",
       "콩나물국        44\n",
       "된장찌개        37\n",
       "어묵국         31\n",
       "아욱국         28\n",
       "            ..\n",
       "우묵콩국         1\n",
       "건새우무채국       1\n",
       "경상도식소고기국     1\n",
       "김치우동         1\n",
       "고사리육개장       1\n",
       "Name: gook, Length: 272, dtype: int64"
      ]
     },
     "execution_count": 95,
     "metadata": {},
     "output_type": "execute_result"
    }
   ],
   "source": [
    "train_ln['gook'].value_counts()"
   ]
  },
  {
   "cell_type": "code",
   "execution_count": 97,
   "metadata": {},
   "outputs": [
    {
     "data": {
      "text/plain": [
       "오징어볶음         32\n",
       "닭갈비           30\n",
       "버섯불고기         29\n",
       "훈제오리구이        27\n",
       "돈육굴소스볶음       25\n",
       "              ..\n",
       "열기어구이          1\n",
       "훈제오리구이/쌈무      1\n",
       "돈사태김치찜         1\n",
       "오징어볶음&소면사리     1\n",
       "오징어숙회무침        1\n",
       "Name: banchan1, Length: 391, dtype: int64"
      ]
     },
     "execution_count": 97,
     "metadata": {},
     "output_type": "execute_result"
    }
   ],
   "source": [
    "train_ln['banchan1'].value_counts()"
   ]
  },
  {
   "cell_type": "code",
   "execution_count": 98,
   "metadata": {},
   "outputs": [
    {
     "data": {
      "text/plain": [
       "계란말이          27\n",
       "새송이버섯전        24\n",
       "계란찜           24\n",
       "우엉잡채          18\n",
       "메추리알조림        18\n",
       "              ..\n",
       "깐풍두부           1\n",
       "비엔나컬리플라워볶음     1\n",
       "모듬소시지볶음        1\n",
       "쫄면             1\n",
       "꽁치와사비구이        1\n",
       "Name: banchan2, Length: 465, dtype: int64"
      ]
     },
     "execution_count": 98,
     "metadata": {},
     "output_type": "execute_result"
    }
   ],
   "source": [
    "train_ln['banchan2'].value_counts()"
   ]
  },
  {
   "cell_type": "code",
   "execution_count": 99,
   "metadata": {},
   "outputs": [
    {
     "data": {
      "text/plain": [
       "오이무침         34\n",
       "콩나물무침        28\n",
       "숙주나물         24\n",
       "무생채          22\n",
       "시금치나물        19\n",
       "             ..\n",
       "매운어묵볶음        1\n",
       "쌈추겉절이/핫도그     1\n",
       "풋고추*양파        1\n",
       "양배추쌈*양념장      1\n",
       "파프리카감자채볶음     1\n",
       "Name: banchan3, Length: 447, dtype: int64"
      ]
     },
     "execution_count": 99,
     "metadata": {},
     "output_type": "execute_result"
    }
   ],
   "source": [
    "train_ln['banchan3'].value_counts()"
   ]
  },
  {
   "cell_type": "code",
   "execution_count": 153,
   "metadata": {},
   "outputs": [],
   "source": [
    "set1 = list(train_ln['banchan1'].unique())\n",
    "set2 = list(train_ln['banchan2'].unique())\n",
    "set3 = list(train_ln['banchan3'].unique())"
   ]
  },
  {
   "cell_type": "code",
   "execution_count": 154,
   "metadata": {},
   "outputs": [
    {
     "name": "stdout",
     "output_type": "stream",
     "text": [
      "391\n"
     ]
    }
   ],
   "source": [
    "print(len(set1))"
   ]
  },
  {
   "cell_type": "code",
   "execution_count": 156,
   "metadata": {},
   "outputs": [],
   "source": [
    "set1.extend(set2)\n",
    "set1.extend(set3)\n",
    "set_train = set(set1)"
   ]
  },
  {
   "cell_type": "code",
   "execution_count": 150,
   "metadata": {},
   "outputs": [
    {
     "name": "stdout",
     "output_type": "stream",
     "text": [
      "[['흑미밥', '얼큰순두부찌개', '쇠고기우엉볶음', '버섯햄볶음', '포기김치'], ['충무김밥', '우동국물', '오징어무침', '꽃맛살샐러드', '얼갈이쌈장무침', '석박지'], ['흑미밥', '물만둣국', '카레찜닭', '숯불양념꼬지어묵', '꼬시래기무침', '포기김치'], ['흑미밥', '동태탕', '돈육꽈리고추장조림', '당면채소무침', '모자반무침', '포기김치'], ['흑미밥', '바지락살국', '쇠고기청경채볶음', '두부구이*볶은김치', '머위된장무침', '백김치'], ['오므라이스', '가쓰오장국', '빌소세지구이*구운채소', '단감치커리무침', '양념고추지', '겉절이김치'], ['흑미밥', '계란파국', '돈육두루치기', '감자채파프리카볶음', '세발나물오리엔탈무침', '포기김치'], ['유부초밥/추가밥', '온메밀소바', '국물떡볶이', '순대찜*소금', '청경채겉절이', '포기김치'], ['흑미밥', '냉이국', '반반치킨', '꼬막채소무침', '청경채찜', '포기김치'], ['흑미밥', '미역국', '매운소불고기', '단호박두부탕수', '메추리알장조림', '석박지'], ['흑미밥', '참치김치찌개', '오징어굴소스볶음', '차돌비빔국수', '건새우무나물', '포기김치'], ['흑미밥', '순두부백탕', '수제치킨까스', '쫄면채소무침', '얼갈이나물', '포기김치'], ['흑미밥', '손수제비국', '쇠고기낙지볶음', '카레홍합찜', '쑥갓나물', '포기김치'], ['곤드레밥', '황태국', '찰떡떡갈비조림', '계란후라이', '재래김*달래양념장', '무생채'], ['흑미밥', '바지락된장찌개', '제육볶음', '양배추숙*쌈장', '노가리고추조림', '겉절이김치'], ['흑미밥', '버섯들깨탕', '아귀콩나물찜', '콤비네이션피자', '돌나물&된장소스', '포기김치'], ['흑미밥', '동태알탕', '깐풍육', '고사리볶음', '오이무침', '포기김치'], ['흑미밥', '쇠고기무국', '춘전닭갈비', '뉴욕핫도그', '유채나물된장무침', '포기김치'], ['애플카레라이스', '팽이장국', '가지탕수', '소떡소떡', '오복지무침', '포기김치'], ['흑미밥', '계란파국', '쭈꾸미불고기', '모둠채소전*장', '씨앗콩자반', '포기김치'], ['흑미밥', '스팸김치찌개', '삼치구이*와사비장', '브로콜리깨소스무침', '연근조림', '포기김치'], ['흑미밥', '냉이김칫국', '해물우동볶음', '날치알계란찜', '솎음열무나물', '포기김치'], ['흑미밥', '매운족발볶음', '크래미오이보트샐러드', '청경채나물', '겉절이김치'], ['흑미밥', '짬뽕국', '쇠고기탕수', '고추잡채*꽃빵', '해초배무침', '포기김치'], ['샐러드김밥', '미소시루', '라볶이', '단무지채무침', '포기김치'], ['흑미밥', '달래된장찌개', '코코뱅', '고구마치즈구이', '치커리무침', '포기김치'], ['흑미밥', '맑은콩나물국', '돈육김치볶음', '수제두부동그랑땡', '유채나물무침', '포기김치'], ['흑미밥', '순두부백탕', '낙지볶음', '쇠고기들깨소스무침', '쪽파무침', '포기김치'], ['꽁보리밥*볶음고추장', '닭칼국수', '왕만두찜*양념장', '버섯맛살볶음', '양파장아찌', '얼갈이열무겉절이'], ['흑미밥', '뼈해장국', '가자미유린기', '매운감자조림', '배추흑임자무침', '포기김치'], ['해물짜장면', '계란파국', '사천탕수육', '세발나물무침', '짜사이볶음', '포기김치'], ['흑미밥', '사골파국*소면사리', '매콤돈육메추리알장조림', '명엽채볶음', '참나물초장무침', '포기김치'], ['흑미밥', '김칫국', '닭살채소굴소스볶음', '애호박나물', '알배기,케일숙쌈*쌈장', '포기김치'], ['쇠고기규동덮밥', '가쓰오장국', '연근땅콩조림', '청경채겉절이', '포기김치'], ['흑미밥', '부대찌개', '삼치엿장구이', '부추전', '치커리사과무침', '무생채'], ['흑미밥', '순두부찌개', '닭간장조림', '매콤어묵볶음', '미나리숙주나물', '포기김치'], ['베이컨김치볶음밥', '우동국물', '알리오올리오', '계란후라이', '수제오이피클', '포기김치'], ['흑미밥', '맑은버섯국', '오삼불고기', '양상추,', '쇠미역쌈*강된장', '고들빼기무침', '포기김치'], ['흑미밥', '짬뽕수제비', '생선까스*타르타르D', '더덕무침', '쑥갓무침', '포기김치'], ['흑미밥/미니팥칼국수', '차돌된장찌개', '적어양념구이', '미트볼채소볶음', '오복지무침', '포기김치'], ['셀프충무김밥', '미소시루', '오징어어묵무침', '콩나물간장볶음', '꽃맛살샐러드', '포기김치'], ['오므라이스/추가밥', '애호박새우젓국', '빌소세지구이*구운채소', '도토리묵채소무침', '수제연근유자피클', '포기김치'], ['흑미밥', '쇠고기무국', '마파두부소스', '납작군만두*장', '참나물생채무침', '포기김치'], ['흑미밥', '미니우동', '치킨까스김치나베', '미나리전', '양념고추지', '열무김치'], ['흑미밥', '근대국', '코다리무조림', '오꼬노미계란말이', '상추무침', '포기김치'], ['흑미밥', '돈육고추장찌개', '갈치구이', '김치전', '취나물무침', '깍두기'], ['추가밥', '짬뽕*생면', '수제찹쌀꿔바로우', '메추리알곤약장조림', '단무지무침', '포기김치'], ['단호박카레라이스', '시금치된장국', '소떡소떡', '파프리카해초무침', '감귤쥬스', '포기김치'], ['흑미밥', '어묵매운탕', '쇠고기숙주볶음', '채소계란찜', '쑥갓생무침', '김치볶음'], ['흑미밥', '맑은버섯국', '매운사태조림', '춘권*타르타르D', '열무나물무침', '포기김치']]\n"
     ]
    }
   ],
   "source": [
    "lunch = []\n",
    "for i in range(len(test)):\n",
    "    temp = test.loc[i,'dn'].split(' ')\n",
    "    temp = ' '.join(temp).split()  \n",
    "    \n",
    "    search = '('   # 원산지 정보는 삭제\n",
    "    for menu in temp:\n",
    "        if search in menu:\n",
    "            temp.remove(menu)\n",
    "    \n",
    "    lunch.append(temp) \n",
    "print(lunch)\n",
    "\n",
    "# lunch train data에 메뉴명별 칼럼 만들기 (밥, 국, 반찬1-3)\n",
    "bob = []; gook = []; banchan1 = []; banchan2 = []; banchan3 = []; kimchi = []; side = []\n",
    "for i, day_menu in enumerate(lunch):\n",
    "    bob_tmp = day_menu[0]; bob.append(bob_tmp)\n",
    "    gook_tmp = day_menu[1]; gook.append(gook_tmp)\n",
    "    banchan1_tmp = day_menu[2]; banchan1.append(banchan1_tmp)\n",
    "    banchan2_tmp = day_menu[3]; banchan2.append(banchan2_tmp)\n",
    "    banchan3_tmp = day_menu[4]; banchan3.append(banchan3_tmp)\n",
    "\n",
    "\n",
    "    kimchi_tmp = day_menu[-2]; kimchi.append(kimchi_tmp)\n",
    "    side_tmp  = day_menu[-1]; side.append(side_tmp)\n",
    "\n",
    "test_ln = test[['date', 'dow', 'employees', 'dayoff', 'bustrip', 'ovtime', 'remote', 'ln']]\n",
    "test_ln['bob'] = bob\n",
    "test_ln['gook'] = gook\n",
    "test_ln['banchan1'] = banchan1; test_ln['banchan2'] = banchan2; test_ln['banchan3'] = banchan3\n",
    "test_ln['kimchi'] = kimchi \n",
    "test_ln['side'] = side"
   ]
  },
  {
   "cell_type": "code",
   "execution_count": 157,
   "metadata": {},
   "outputs": [],
   "source": [
    "set1 = list(test_ln['banchan1'].unique())\n",
    "set2 = list(test_ln['banchan2'].unique())\n",
    "set3 = list(test_ln['banchan3'].unique())\n",
    "\n",
    "set1.extend(set2)\n",
    "set1.extend(set3)\n",
    "set_test = set(set1)"
   ]
  },
  {
   "cell_type": "code",
   "execution_count": 159,
   "metadata": {},
   "outputs": [
    {
     "data": {
      "text/plain": [
       "{'가지탕수',\n",
       " '감귤쥬스',\n",
       " '건새우무나물',\n",
       " '계란후라이',\n",
       " '고사리볶음',\n",
       " '국물떡볶이',\n",
       " '꼬막채소무침',\n",
       " '꼬시래기무침',\n",
       " '납작군만두*장',\n",
       " '노가리고추조림',\n",
       " '뉴욕핫도그',\n",
       " '단감치커리무침',\n",
       " '단무지채무침',\n",
       " '단호박두부탕수',\n",
       " '닭살채소굴소스볶음',\n",
       " '도토리묵채소무침',\n",
       " '돈육꽈리고추장조림',\n",
       " '돌나물&된장소스',\n",
       " '두부구이*볶은김치',\n",
       " '라볶이',\n",
       " '마파두부소스',\n",
       " '매운감자조림',\n",
       " '매운사태조림',\n",
       " '매콤돈육메추리알장조림',\n",
       " '매콤어묵볶음',\n",
       " '메추리알곤약장조림',\n",
       " '메추리알장조림',\n",
       " '모둠채소전*장',\n",
       " '모자반무침',\n",
       " '미나리숙주나물',\n",
       " '미나리전',\n",
       " '반반치킨',\n",
       " '배추흑임자무침',\n",
       " '버섯맛살볶음',\n",
       " '버섯햄볶음',\n",
       " '빌소세지구이*구운채소',\n",
       " '사천탕수육',\n",
       " '삼치구이*와사비장',\n",
       " '삼치엿장구이',\n",
       " '생선까스*타르타르D',\n",
       " '세발나물오리엔탈무침',\n",
       " '소떡소떡',\n",
       " '쇠고기들깨소스무침',\n",
       " '쇠고기우엉볶음',\n",
       " '쇠고기청경채볶음',\n",
       " '쇠고기탕수',\n",
       " '쇠미역쌈*강된장',\n",
       " '수제두부동그랑땡',\n",
       " '수제연근유자피클',\n",
       " '수제오이피클',\n",
       " '수제찹쌀꿔바로우',\n",
       " '수제치킨까스',\n",
       " '순대찜*소금',\n",
       " '숯불양념꼬지어묵',\n",
       " '쑥갓무침',\n",
       " '쑥갓생무침',\n",
       " '씨앗콩자반',\n",
       " '알리오올리오',\n",
       " '알배기,케일숙쌈*쌈장',\n",
       " '양념고추지',\n",
       " '양배추숙*쌈장',\n",
       " '양상추,',\n",
       " '양파장아찌',\n",
       " '얼갈이쌈장무침',\n",
       " '오징어무침',\n",
       " '오징어어묵무침',\n",
       " '왕만두찜*양념장',\n",
       " '유채나물된장무침',\n",
       " '재래김*달래양념장',\n",
       " '적어양념구이',\n",
       " '짜사이볶음',\n",
       " '쭈꾸미불고기',\n",
       " '참나물초장무침',\n",
       " '채소계란찜',\n",
       " '청경채찜',\n",
       " '춘권*타르타르D',\n",
       " '춘전닭갈비',\n",
       " '치킨까스김치나베',\n",
       " '카레찜닭',\n",
       " '카레홍합찜',\n",
       " '코다리무조림',\n",
       " '코코뱅',\n",
       " '콤비네이션피자',\n",
       " '콩나물간장볶음',\n",
       " '크래미오이보트샐러드',\n",
       " '해물우동볶음',\n",
       " '해초배무침'}"
      ]
     },
     "execution_count": 159,
     "metadata": {},
     "output_type": "execute_result"
    }
   ],
   "source": [
    "set_test - set_train"
   ]
  },
  {
   "cell_type": "code",
   "execution_count": 164,
   "metadata": {},
   "outputs": [
    {
     "data": {
      "text/plain": [
       "{'곤드레밥',\n",
       " '꽁보리밥*볶음고추장',\n",
       " '단호박카레라이스',\n",
       " '베이컨김치볶음밥',\n",
       " '샐러드김밥',\n",
       " '셀프충무김밥',\n",
       " '쇠고기규동덮밥',\n",
       " '애플카레라이스',\n",
       " '오므라이스',\n",
       " '오므라이스/추가밥',\n",
       " '유부초밥/추가밥',\n",
       " '추가밥',\n",
       " '충무김밥',\n",
       " '해물짜장면',\n",
       " '흑미밥',\n",
       " '흑미밥/미니팥칼국수'}"
      ]
     },
     "execution_count": 164,
     "metadata": {},
     "output_type": "execute_result"
    }
   ],
   "source": [
    "set(list(test_ln['bob'].unique()))-set(list(train_ln['bob'].unique()))"
   ]
  },
  {
   "cell_type": "code",
   "execution_count": 165,
   "metadata": {},
   "outputs": [
    {
     "data": {
      "text/plain": [
       "{'가쓰오장국',\n",
       " '냉이국',\n",
       " '냉이김칫국',\n",
       " '달래된장찌개',\n",
       " '닭칼국수',\n",
       " '돈육고추장찌개',\n",
       " '맑은버섯국',\n",
       " '매운족발볶음',\n",
       " '물만둣국',\n",
       " '바지락된장찌개',\n",
       " '바지락살국',\n",
       " '뼈해장국',\n",
       " '사골파국*소면사리',\n",
       " '손수제비국',\n",
       " '순두부백탕',\n",
       " '스팸김치찌개',\n",
       " '애호박새우젓국',\n",
       " '온메밀소바',\n",
       " '우동국물',\n",
       " '짬뽕*생면',\n",
       " '짬뽕수제비'}"
      ]
     },
     "execution_count": 165,
     "metadata": {},
     "output_type": "execute_result"
    }
   ],
   "source": [
    "set(list(test_ln['gook'].unique()))-set(list(train_ln['gook'].unique()))"
   ]
  },
  {
   "cell_type": "code",
   "execution_count": 166,
   "metadata": {},
   "outputs": [
    {
     "data": {
      "text/plain": [
       "{'감귤쥬스',\n",
       " '건새우무나물',\n",
       " '고들빼기무침',\n",
       " '꼬시래기무침',\n",
       " '꽃맛살샐러드',\n",
       " '노가리고추조림',\n",
       " '단무지무침',\n",
       " '단무지채무침',\n",
       " '돌나물&된장소스',\n",
       " '머위된장무침',\n",
       " '메추리알장조림',\n",
       " '모자반무침',\n",
       " '미나리숙주나물',\n",
       " '배추흑임자무침',\n",
       " '버섯햄볶음',\n",
       " '상추무침',\n",
       " '세발나물오리엔탈무침',\n",
       " '솎음열무나물',\n",
       " '수제연근유자피클',\n",
       " '수제오이피클',\n",
       " '쑥갓나물',\n",
       " '쑥갓무침',\n",
       " '쑥갓생무침',\n",
       " '씨앗콩자반',\n",
       " '알배기,케일숙쌈*쌈장',\n",
       " '양념고추지',\n",
       " '양파장아찌',\n",
       " '얼갈이나물',\n",
       " '얼갈이쌈장무침',\n",
       " '연근조림',\n",
       " '열무나물무침',\n",
       " '오복지무침',\n",
       " '오이무침',\n",
       " '유채나물된장무침',\n",
       " '유채나물무침',\n",
       " '재래김*달래양념장',\n",
       " '짜사이볶음',\n",
       " '쪽파무침',\n",
       " '참나물생채무침',\n",
       " '참나물초장무침',\n",
       " '청경채겉절이',\n",
       " '청경채나물',\n",
       " '청경채찜',\n",
       " '취나물무침',\n",
       " '치커리무침',\n",
       " '치커리사과무침',\n",
       " '해초배무침'}"
      ]
     },
     "execution_count": 166,
     "metadata": {},
     "output_type": "execute_result"
    }
   ],
   "source": [
    "set(list(test_ln['kimchi'].unique()))-set(list(train_ln['kimchi'].unique()))"
   ]
  },
  {
   "cell_type": "code",
   "execution_count": 167,
   "metadata": {},
   "outputs": [
    {
     "data": {
      "text/plain": [
       "{'겉절이김치', '김치볶음', '백김치', '얼갈이열무겉절이', '열무김치', '포기김치'}"
      ]
     },
     "execution_count": 167,
     "metadata": {},
     "output_type": "execute_result"
    }
   ],
   "source": [
    "set(list(test_ln['side'].unique()))-set(list(train_ln['side'].unique()))"
   ]
  },
  {
   "cell_type": "code",
   "execution_count": 171,
   "metadata": {},
   "outputs": [],
   "source": [
    "from collections import Counter \n",
    "\n",
    "def detect_outliers(df, n, features): \n",
    "    outlier_indices = [] \n",
    "    for col in features: \n",
    "        Q1 = np.percentile(df[col], 25) \n",
    "        Q3 = np.percentile(df[col], 75) \n",
    "        IQR = Q3 - Q1 \n",
    "        outlier_step = 1.5 * IQR \n",
    "        \n",
    "        outlier_list_col = df[(df[col] < Q1 - outlier_step) | (df[col] > Q3 + outlier_step)].index \n",
    "        outlier_indices.extend(outlier_list_col) \n",
    "    outlier_indices = Counter(outlier_indices) \n",
    "    multiple_outliers = list(k for k, v in outlier_indices.items() if v > n) \n",
    "        \n",
    "    return multiple_outliers \n",
    "\n",
    "Outliers_to_drop = detect_outliers(train, 2, [\"target_ln\",\"target_dn\"])\n",
    "\n"
   ]
  },
  {
   "cell_type": "code",
   "execution_count": 172,
   "metadata": {},
   "outputs": [
    {
     "data": {
      "text/plain": [
       "[]"
      ]
     },
     "execution_count": 172,
     "metadata": {},
     "output_type": "execute_result"
    }
   ],
   "source": [
    "Outliers_to_drop"
   ]
  },
  {
   "cell_type": "code",
   "execution_count": null,
   "metadata": {},
   "outputs": [],
   "source": []
  }
 ],
 "metadata": {
  "kernelspec": {
   "display_name": "Python 3",
   "language": "python",
   "name": "python3"
  },
  "language_info": {
   "codemirror_mode": {
    "name": "ipython",
    "version": 3
   },
   "file_extension": ".py",
   "mimetype": "text/x-python",
   "name": "python",
   "nbconvert_exporter": "python",
   "pygments_lexer": "ipython3",
   "version": "3.8.5"
  }
 },
 "nbformat": 4,
 "nbformat_minor": 4
}
